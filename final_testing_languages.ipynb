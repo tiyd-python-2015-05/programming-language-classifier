{
 "cells": [
  {
   "cell_type": "markdown",
   "metadata": {},
   "source": [
    "#Programming Language Classifier using Machine Learning"
   ]
  },
  {
   "cell_type": "code",
   "execution_count": 2,
   "metadata": {
    "collapsed": false
   },
   "outputs": [],
   "source": [
    "import pandas as pd\n",
    "from scraper import scrape_clean_cut\n",
    "from feature_vectors import *"
   ]
  },
  {
   "cell_type": "markdown",
   "metadata": {},
   "source": [
    "##Using Two Dataframes: \n",
    "###(1) Dataframe with various languages (>200 examples from Rosetta Code) "
   ]
  },
  {
   "cell_type": "code",
   "execution_count": 3,
   "metadata": {
    "collapsed": true
   },
   "outputs": [],
   "source": [
    "df_700x200 = pd.read_pickle('scraper_700x200.pkl')"
   ]
  },
  {
   "cell_type": "code",
   "execution_count": 4,
   "metadata": {
    "collapsed": false
   },
   "outputs": [
    {
     "data": {
      "text/html": [
       "<div style=\"max-height:1000px;max-width:1500px;overflow:auto;\">\n",
       "<table border=\"1\" class=\"dataframe\">\n",
       "  <thead>\n",
       "    <tr style=\"text-align: right;\">\n",
       "      <th></th>\n",
       "      <th>0</th>\n",
       "      <th>1</th>\n",
       "    </tr>\n",
       "  </thead>\n",
       "  <tbody>\n",
       "    <tr>\n",
       "      <th>0</th>\n",
       "      <td>ada</td>\n",
       "      <td>with Ada.Text_IO; procedure Integers_In_Englis...</td>\n",
       "    </tr>\n",
       "    <tr>\n",
       "      <th>1</th>\n",
       "      <td>algol68</td>\n",
       "      <td>PROC number words = (INT n)STRING:(  # returns...</td>\n",
       "    </tr>\n",
       "    <tr>\n",
       "      <th>2</th>\n",
       "      <td>algol68</td>\n",
       "      <td>MODE EXCEPTION = STRUCT(STRING name, PROC VOID...</td>\n",
       "    </tr>\n",
       "    <tr>\n",
       "      <th>4</th>\n",
       "      <td>autohotkey</td>\n",
       "      <td>Loop {                                 ; TEST ...</td>\n",
       "    </tr>\n",
       "    <tr>\n",
       "      <th>5</th>\n",
       "      <td>awk</td>\n",
       "      <td># syntax: GAWK -f NUMBER_NAMES.AWKBEGIN {    ...</td>\n",
       "    </tr>\n",
       "    <tr>\n",
       "      <th>6</th>\n",
       "      <td>qbasic</td>\n",
       "      <td>DECLARE FUNCTION int2Text$ (number AS LONG) 's...</td>\n",
       "    </tr>\n",
       "    <tr>\n",
       "      <th>8</th>\n",
       "      <td>c</td>\n",
       "      <td>#include &lt;stdio.h&gt;#include &lt;string.h&gt; const ch...</td>\n",
       "    </tr>\n",
       "    <tr>\n",
       "      <th>9</th>\n",
       "      <td>cpp</td>\n",
       "      <td>#include &lt;string&gt;#include &lt;iostream&gt;using std:...</td>\n",
       "    </tr>\n",
       "    <tr>\n",
       "      <th>10</th>\n",
       "      <td>csharp</td>\n",
       "      <td>using System; class NumberNamer {    static re...</td>\n",
       "    </tr>\n",
       "    <tr>\n",
       "      <th>11</th>\n",
       "      <td>clojure</td>\n",
       "      <td>(clojure.pprint/cl-format nil \"~R\" 1234)=&gt; \"on...</td>\n",
       "    </tr>\n",
       "    <tr>\n",
       "      <th>12</th>\n",
       "      <td>coffeescript</td>\n",
       "      <td>spell_integer = (n) -&gt;  tens = [null, null, \"...</td>\n",
       "    </tr>\n",
       "    <tr>\n",
       "      <th>13</th>\n",
       "      <td>lisp</td>\n",
       "      <td>(format nil \"~R\" 1234)=&gt; \"one thousand two hun...</td>\n",
       "    </tr>\n",
       "    <tr>\n",
       "      <th>14</th>\n",
       "      <td>d</td>\n",
       "      <td>import std.stdio, std.array, std.algorithm, st...</td>\n",
       "    </tr>\n",
       "    <tr>\n",
       "      <th>15</th>\n",
       "      <td>euphoria</td>\n",
       "      <td>function abs(atom i)    if i &lt; 0 then        r...</td>\n",
       "    </tr>\n",
       "    <tr>\n",
       "      <th>17</th>\n",
       "      <td>fortran</td>\n",
       "      <td>program spell   implicit none  integer :: e  i...</td>\n",
       "    </tr>\n",
       "  </tbody>\n",
       "</table>\n",
       "</div>"
      ],
      "text/plain": [
       "               0                                                  1\n",
       "0            ada  with Ada.Text_IO; procedure Integers_In_Englis...\n",
       "1        algol68  PROC number words = (INT n)STRING:(  # returns...\n",
       "2        algol68  MODE EXCEPTION = STRUCT(STRING name, PROC VOID...\n",
       "4     autohotkey  Loop {                                 ; TEST ...\n",
       "5            awk   # syntax: GAWK -f NUMBER_NAMES.AWKBEGIN {    ...\n",
       "6         qbasic  DECLARE FUNCTION int2Text$ (number AS LONG) 's...\n",
       "8              c  #include <stdio.h>#include <string.h> const ch...\n",
       "9            cpp  #include <string>#include <iostream>using std:...\n",
       "10        csharp  using System; class NumberNamer {    static re...\n",
       "11       clojure  (clojure.pprint/cl-format nil \"~R\" 1234)=> \"on...\n",
       "12  coffeescript   spell_integer = (n) ->  tens = [null, null, \"...\n",
       "13          lisp  (format nil \"~R\" 1234)=> \"one thousand two hun...\n",
       "14             d  import std.stdio, std.array, std.algorithm, st...\n",
       "15      euphoria  function abs(atom i)    if i < 0 then        r...\n",
       "17       fortran  program spell   implicit none  integer :: e  i..."
      ]
     },
     "execution_count": 4,
     "metadata": {},
     "output_type": "execute_result"
    }
   ],
   "source": [
    "df_700x200.head(15)"
   ]
  },
  {
   "cell_type": "code",
   "execution_count": 5,
   "metadata": {
    "collapsed": true
   },
   "outputs": [],
   "source": [
    "y = df_700x200.loc[:, 0]\n",
    "X = df_700x200.loc[:, 1]"
   ]
  },
  {
   "cell_type": "markdown",
   "metadata": {},
   "source": [
    "###(2) Dataframe with only languages from test file (11 total languages)"
   ]
  },
  {
   "cell_type": "markdown",
   "metadata": {},
   "source": [
    "The train data was scraped from Rosetta Code. \n",
    "In total 700 example pages of code and only the languages in the test file."
   ]
  },
  {
   "cell_type": "code",
   "execution_count": 6,
   "metadata": {
    "collapsed": true
   },
   "outputs": [],
   "source": [
    "filtered_df = pd.read_pickle('scraper_filtered_700x1.pkl')"
   ]
  },
  {
   "cell_type": "code",
   "execution_count": 7,
   "metadata": {
    "collapsed": true
   },
   "outputs": [],
   "source": [
    "filtered_y_train = filtered_df.loc[:, 0]\n",
    "filtered_X_train = filtered_df.loc[:, 1]"
   ]
  },
  {
   "cell_type": "markdown",
   "metadata": {},
   "source": [
    "#Testing only with dataset from Rosetta Code"
   ]
  },
  {
   "cell_type": "markdown",
   "metadata": {},
   "source": [
    "The purpose of testing first with all of the rosetta code data and laguages, and not just the test languages, is to see if my estimator is overfitting the test file data. The test data, when I split my data using train_test_split includes much more sample code compared to the 32 lines of code and 11 langagues in the test file. "
   ]
  },
  {
   "cell_type": "code",
   "execution_count": 8,
   "metadata": {
    "collapsed": true
   },
   "outputs": [],
   "source": [
    "rc_X_train, rc_X_test, rc_y_train, rc_y_test = train_test_split(X, y)"
   ]
  },
  {
   "cell_type": "code",
   "execution_count": 9,
   "metadata": {
    "collapsed": false
   },
   "outputs": [
    {
     "data": {
      "text/plain": [
       "0.6182965299684543"
      ]
     },
     "execution_count": 9,
     "metadata": {},
     "output_type": "execute_result"
    }
   ],
   "source": [
    "rc_pipe_bayes = make_pipe(MultinomialNB())\n",
    "rc_pipe_bayes.fit(rc_X_train, rc_y_train)\n",
    "rc_pipe_bayes.score(rc_X_test, rc_y_test)"
   ]
  },
  {
   "cell_type": "code",
   "execution_count": 10,
   "metadata": {
    "collapsed": false
   },
   "outputs": [
    {
     "data": {
      "text/plain": [
       "0.76148676450418329"
      ]
     },
     "execution_count": 10,
     "metadata": {},
     "output_type": "execute_result"
    }
   ],
   "source": [
    "rc_pipe_tree = make_pipe(DecisionTreeClassifier())\n",
    "rc_pipe_tree.fit(rc_X_train, rc_y_train)\n",
    "rc_pipe_tree.score(rc_X_test, rc_y_test)"
   ]
  },
  {
   "cell_type": "code",
   "execution_count": 11,
   "metadata": {
    "collapsed": false
   },
   "outputs": [
    {
     "data": {
      "text/plain": [
       "0.7679330681662323"
      ]
     },
     "execution_count": 11,
     "metadata": {},
     "output_type": "execute_result"
    }
   ],
   "source": [
    "rc_pipe_forest = make_pipe(RandomForestClassifier())\n",
    "rc_pipe_forest.fit(rc_X_train, rc_y_train)\n",
    "rc_pipe_forest.score(rc_X_test, rc_y_test)"
   ]
  },
  {
   "cell_type": "code",
   "execution_count": 12,
   "metadata": {
    "collapsed": false
   },
   "outputs": [
    {
     "name": "stdout",
     "output_type": "stream",
     "text": [
      "             precision    recall  f1-score   support\n",
      "\n",
      "        ada       0.98      0.76      0.85       298\n",
      "    algol68       0.83      0.82      0.82       104\n",
      " autohotkey       0.73      0.79      0.76       121\n",
      "        awk       0.83      0.72      0.77        98\n",
      "       bash       0.65      0.60      0.63       155\n",
      "          c       0.81      0.74      0.77       285\n",
      "    clojure       0.59      0.54      0.56       115\n",
      "      cobol       0.89      0.79      0.84        71\n",
      "coffeescript       0.75      0.67      0.71        63\n",
      "        cpp       0.82      0.85      0.83       168\n",
      "     csharp       0.79      0.65      0.71       165\n",
      "          d       0.92      0.90      0.91       222\n",
      "     delphi       0.71      0.77      0.74        88\n",
      "          e       0.54      0.59      0.56        87\n",
      "     erlang       0.83      0.79      0.81        98\n",
      "   euphoria       0.67      0.72      0.69        46\n",
      "    fortran       0.83      0.86      0.85       117\n",
      "     fsharp       0.56      0.57      0.57        82\n",
      "         go       0.94      0.88      0.91       212\n",
      "     groovy       0.71      0.69      0.70       153\n",
      "    haskell       0.84      0.81      0.82       256\n",
      "       icon       0.83      0.89      0.86       105\n",
      "          j       0.90      0.66      0.76       512\n",
      "       java       0.66      0.66      0.66       166\n",
      "      java5       0.12      0.47      0.19        15\n",
      " javascript       0.71      0.76      0.73       129\n",
      "         lb       0.76      0.78      0.77        67\n",
      "       lisp       0.75      0.71      0.73       334\n",
      "        lua       0.65      0.78      0.71        79\n",
      "     matlab       0.58      0.70      0.64        91\n",
      "    netrexx       0.85      0.97      0.90        59\n",
      "       objc       0.77      0.96      0.85        48\n",
      "     objeck       0.90      0.95      0.92        58\n",
      "      ocaml       0.76      0.79      0.77       192\n",
      "         oz       0.79      0.96      0.86        70\n",
      "     parigp       0.77      0.69      0.73       114\n",
      "     pascal       0.73      0.80      0.76        66\n",
      "       perl       0.78      0.65      0.71       289\n",
      "      perl6       0.65      0.68      0.66       191\n",
      "        php       0.70      0.80      0.75        87\n",
      " powershell       0.59      0.76      0.67        51\n",
      "     prolog       0.88      0.88      0.88        85\n",
      "  purebasic       0.66      0.92      0.77        90\n",
      "     python       0.82      0.79      0.81       325\n",
      "     qbasic       0.51      0.68      0.58        41\n",
      "       rexx       0.89      0.93      0.91       225\n",
      "       ruby       0.71      0.79      0.75       305\n",
      "      scala       0.70      0.86      0.77       114\n",
      "     scheme       0.59      0.83      0.69        69\n",
      "  smalltalk       0.62      0.84      0.71        57\n",
      "        tcl       0.89      0.95      0.92       229\n",
      "         vb       0.47      0.96      0.63        24\n",
      "\n",
      "avg / total       0.78      0.77      0.77      7291\n",
      "\n"
     ]
    }
   ],
   "source": [
    "print((classification_report(rc_pipe_forest.predict(rc_X_test), rc_y_test)))"
   ]
  },
  {
   "cell_type": "markdown",
   "metadata": {},
   "source": [
    "The estimator poorly classifies coffeescript, java5, and e even with the additaionl built in feature vectorizers."
   ]
  },
  {
   "cell_type": "markdown",
   "metadata": {},
   "source": [
    "#Testing with test samples given in the test folder."
   ]
  },
  {
   "cell_type": "code",
   "execution_count": 13,
   "metadata": {
    "collapsed": true
   },
   "outputs": [],
   "source": [
    "y_test = pd.read_pickle('test_y_values.pkl')\n",
    "X_test = pd.read_pickle('test_X_values.pkl')"
   ]
  },
  {
   "cell_type": "code",
   "execution_count": 14,
   "metadata": {
    "collapsed": false
   },
   "outputs": [],
   "source": [
    "y_test = y_test.loc[:, 1]\n",
    "X_test = X_test.loc[:, 0]"
   ]
  },
  {
   "cell_type": "markdown",
   "metadata": {},
   "source": [
    "###Estimating with Multinomial Bayes, Decision Tree, and Random Forest"
   ]
  },
  {
   "cell_type": "markdown",
   "metadata": {},
   "source": [
    "I used my entire data frame (all of my code examples scraped from Rosetta Code) as my training data. "
   ]
  },
  {
   "cell_type": "code",
   "execution_count": 15,
   "metadata": {
    "collapsed": false
   },
   "outputs": [
    {
     "data": {
      "text/plain": [
       "0.5625"
      ]
     },
     "execution_count": 15,
     "metadata": {},
     "output_type": "execute_result"
    }
   ],
   "source": [
    "pipe_mnb = make_pipe(MultinomialNB())\n",
    "pipe_mnb.fit(X, y)\n",
    "pipe_mnb.score(X_test, y_test)"
   ]
  },
  {
   "cell_type": "code",
   "execution_count": 16,
   "metadata": {
    "collapsed": false
   },
   "outputs": [
    {
     "data": {
      "text/plain": [
       "0.59375"
      ]
     },
     "execution_count": 16,
     "metadata": {},
     "output_type": "execute_result"
    }
   ],
   "source": [
    "pipe_tree = make_pipe(DecisionTreeClassifier())\n",
    "pipe_tree.fit(X, y)\n",
    "pipe_tree.score(X_test, y_test)"
   ]
  },
  {
   "cell_type": "code",
   "execution_count": 17,
   "metadata": {
    "collapsed": false
   },
   "outputs": [
    {
     "data": {
      "text/plain": [
       "0.78125"
      ]
     },
     "execution_count": 17,
     "metadata": {},
     "output_type": "execute_result"
    }
   ],
   "source": [
    "pipe_forest = make_pipe(RandomForestClassifier())\n",
    "pipe_forest.fit(X, y)\n",
    "pipe_forest.score(X_test, y_test)"
   ]
  },
  {
   "cell_type": "markdown",
   "metadata": {},
   "source": [
    "###Classification report to see which language is not well represented. "
   ]
  },
  {
   "cell_type": "code",
   "execution_count": 18,
   "metadata": {
    "collapsed": false
   },
   "outputs": [
    {
     "name": "stdout",
     "output_type": "stream",
     "text": [
      "             precision    recall  f1-score   support\n",
      "\n",
      "        ada       0.00      0.00      0.00         1\n",
      "    algol68       0.00      0.00      0.00         1\n",
      " autohotkey       0.00      0.00      0.00         1\n",
      "        awk       0.00      0.00      0.00         1\n",
      "    clojure       1.00      0.80      0.89         5\n",
      "     fsharp       0.00      0.00      0.00         1\n",
      "    haskell       0.33      1.00      0.50         1\n",
      "       java       0.00      0.00      0.00         0\n",
      " javascript       0.75      1.00      0.86         3\n",
      "       objc       0.00      0.00      0.00         1\n",
      "      ocaml       1.00      1.00      1.00         2\n",
      "        php       0.67      1.00      0.80         2\n",
      "     python       1.00      1.00      1.00         4\n",
      "       ruby       1.00      1.00      1.00         3\n",
      "      scala       0.50      1.00      0.67         1\n",
      "     scheme       1.00      1.00      1.00         3\n",
      "        tcl       1.00      1.00      1.00         2\n",
      "\n",
      "avg / total       0.73      0.78      0.74        32\n",
      "\n"
     ]
    },
    {
     "name": "stderr",
     "output_type": "stream",
     "text": [
      "/Users/trippshealy/iron_yard/week5/programming-language-classifier/.direnv/python-3.4.3/lib/python3.4/site-packages/sklearn/metrics/classification.py:958: UndefinedMetricWarning: Precision and F-score are ill-defined and being set to 0.0 in labels with no predicted samples.\n",
      "  'precision', 'predicted', average, warn_for)\n",
      "/Users/trippshealy/iron_yard/week5/programming-language-classifier/.direnv/python-3.4.3/lib/python3.4/site-packages/sklearn/metrics/classification.py:960: UndefinedMetricWarning: Recall and F-score are ill-defined and being set to 0.0 in labels with no true samples.\n",
      "  'recall', 'true', average, warn_for)\n"
     ]
    }
   ],
   "source": [
    "print((classification_report(pipe_forest.predict(X_test), y_test)))"
   ]
  },
  {
   "cell_type": "markdown",
   "metadata": {},
   "source": [
    "The precision and recall are worse than the Rosetta Code test sample because this test sample is much smaller, only 32 examples. When the esitmator gets an example wrong the relative weight of the wrong answer is much greater. "
   ]
  },
  {
   "cell_type": "markdown",
   "metadata": {},
   "source": [
    "##Using Dataframe 2: only includes languages in the test sample. "
   ]
  },
  {
   "cell_type": "code",
   "execution_count": 19,
   "metadata": {
    "collapsed": false
   },
   "outputs": [
    {
     "data": {
      "text/plain": [
       "0.875"
      ]
     },
     "execution_count": 19,
     "metadata": {},
     "output_type": "execute_result"
    }
   ],
   "source": [
    "pipe_filtered_bayes = make_pipe(MultinomialNB())\n",
    "pipe_filtered_bayes.fit(filtered_X_train, filtered_y_train)\n",
    "pipe_filtered_bayes.score(X_test, y_test)"
   ]
  },
  {
   "cell_type": "markdown",
   "metadata": {},
   "source": [
    "Significantly imporves when only using the languages in the test sample. "
   ]
  },
  {
   "cell_type": "code",
   "execution_count": 20,
   "metadata": {
    "collapsed": false
   },
   "outputs": [
    {
     "data": {
      "text/plain": [
       "0.84375"
      ]
     },
     "execution_count": 20,
     "metadata": {},
     "output_type": "execute_result"
    }
   ],
   "source": [
    "pipe_filtered_tree = make_pipe(DecisionTreeClassifier())\n",
    "pipe_filtered_tree.fit(filtered_X_train, filtered_y_train)\n",
    "pipe_filtered_tree.score(X_test, y_test)"
   ]
  },
  {
   "cell_type": "code",
   "execution_count": 21,
   "metadata": {
    "collapsed": false
   },
   "outputs": [
    {
     "data": {
      "text/plain": [
       "0.84375"
      ]
     },
     "execution_count": 21,
     "metadata": {},
     "output_type": "execute_result"
    }
   ],
   "source": [
    "pipe_filtered_forest = make_pipe(RandomForestClassifier())\n",
    "pipe_filtered_forest.fit(filtered_X_train, filtered_y_train)\n",
    "pipe_filtered_forest.score(X_test, y_test)"
   ]
  },
  {
   "cell_type": "markdown",
   "metadata": {},
   "source": [
    "###Classification report to see which language is not well represented"
   ]
  },
  {
   "cell_type": "code",
   "execution_count": 22,
   "metadata": {
    "collapsed": false
   },
   "outputs": [
    {
     "name": "stdout",
     "output_type": "stream",
     "text": [
      "             precision    recall  f1-score   support\n",
      "\n",
      "    clojure       0.75      0.60      0.67         5\n",
      "    haskell       0.67      0.67      0.67         3\n",
      "       java       0.00      0.00      0.00         0\n",
      " javascript       1.00      0.80      0.89         5\n",
      "      ocaml       1.00      1.00      1.00         2\n",
      "        php       0.67      1.00      0.80         2\n",
      "     python       1.00      0.80      0.89         5\n",
      "       ruby       1.00      1.00      1.00         3\n",
      "      scala       1.00      1.00      1.00         2\n",
      "     scheme       1.00      1.00      1.00         3\n",
      "        tcl       1.00      1.00      1.00         2\n",
      "\n",
      "avg / total       0.91      0.84      0.87        32\n",
      "\n"
     ]
    },
    {
     "name": "stderr",
     "output_type": "stream",
     "text": [
      "/Users/trippshealy/iron_yard/week5/programming-language-classifier/.direnv/python-3.4.3/lib/python3.4/site-packages/sklearn/metrics/classification.py:960: UndefinedMetricWarning: Recall and F-score are ill-defined and being set to 0.0 in labels with no true samples.\n",
      "  'recall', 'true', average, warn_for)\n"
     ]
    }
   ],
   "source": [
    "print((classification_report(pipe_filtered_forest.predict(X_test), y_test)))"
   ]
  },
  {
   "cell_type": "markdown",
   "metadata": {
    "collapsed": true
   },
   "source": [
    "A huge improvement compared to the testing results using many languages. However, these results are less representative of a \"real world\" scenario. Mainly, because you may want to allow more than 11 languages. Because I knew what languages to expect, I constrained my fit data to better predict the test languages. "
   ]
  },
  {
   "cell_type": "code",
   "execution_count": null,
   "metadata": {
    "collapsed": true
   },
   "outputs": [],
   "source": []
  }
 ],
 "metadata": {
  "kernelspec": {
   "display_name": "Python 3",
   "language": "python",
   "name": "python3"
  },
  "language_info": {
   "codemirror_mode": {
    "name": "ipython",
    "version": 3
   },
   "file_extension": ".py",
   "mimetype": "text/x-python",
   "name": "python",
   "nbconvert_exporter": "python",
   "pygments_lexer": "ipython3",
   "version": "3.4.3"
  }
 },
 "nbformat": 4,
 "nbformat_minor": 0
}

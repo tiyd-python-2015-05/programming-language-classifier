{
 "cells": [
  {
   "cell_type": "markdown",
   "metadata": {},
   "source": [
    "#Initial Setup"
   ]
  },
  {
   "cell_type": "code",
   "execution_count": 1,
   "metadata": {
    "collapsed": false
   },
   "outputs": [],
   "source": [
    "from lang_classifier import *\n",
    "from sklearn.pipeline import make_pipeline, make_union\n",
    "from sklearn.metrics import classification_report, confusion_matrix"
   ]
  },
  {
   "cell_type": "code",
   "execution_count": 2,
   "metadata": {
    "collapsed": true
   },
   "outputs": [],
   "source": [
    "def setup():\n",
    "    \"\"\"Load the training benchmark training data and split it for train/test\"\"\"\n",
    "    df = load_bench_data()\n",
    "    X = df.text\n",
    "    y = df.language\n",
    "    test_data = load_test_data()\n",
    "    args = train_test_split(X, y, test_size=0.2, random_state=0)\n",
    "    # X_train, X_test, y_train, y_test\n",
    "    \n",
    "    return df, X, y, test_data, args"
   ]
  },
  {
   "cell_type": "code",
   "execution_count": 3,
   "metadata": {
    "collapsed": false
   },
   "outputs": [],
   "source": [
    "df, X, y, test_data, args = setup()  # Load and split the train/test data\n",
    "X_train, X_test, y_train, y_test = args"
   ]
  },
  {
   "cell_type": "markdown",
   "metadata": {},
   "source": [
    "####Inspect the test_data dataframe to make sure language and text are properly aligned"
   ]
  },
  {
   "cell_type": "code",
   "execution_count": 4,
   "metadata": {
    "collapsed": false
   },
   "outputs": [
    {
     "data": {
      "text/html": [
       "<div style=\"max-height:1000px;max-width:1500px;overflow:auto;\">\n",
       "<table border=\"1\" class=\"dataframe\">\n",
       "  <thead>\n",
       "    <tr style=\"text-align: right;\">\n",
       "      <th></th>\n",
       "      <th>language</th>\n",
       "      <th>text</th>\n",
       "      <th>guess</th>\n",
       "    </tr>\n",
       "    <tr>\n",
       "      <th>item</th>\n",
       "      <th></th>\n",
       "      <th></th>\n",
       "      <th></th>\n",
       "    </tr>\n",
       "  </thead>\n",
       "  <tbody>\n",
       "    <tr>\n",
       "      <th>0</th>\n",
       "      <td>perl</td>\n",
       "      <td>use warnings;\\nuse strict;\\n\\nmy $initial = jo...</td>\n",
       "      <td>NaN</td>\n",
       "    </tr>\n",
       "    <tr>\n",
       "      <th>1</th>\n",
       "      <td>clojure</td>\n",
       "      <td>(defn cf-settings\\n  \"Setup settings for campf...</td>\n",
       "      <td>NaN</td>\n",
       "    </tr>\n",
       "    <tr>\n",
       "      <th>2</th>\n",
       "      <td>clojure</td>\n",
       "      <td>(ns my-cli.core)\\n\\n(defn -main [&amp; args]\\n  (p...</td>\n",
       "      <td>NaN</td>\n",
       "    </tr>\n",
       "    <tr>\n",
       "      <th>3</th>\n",
       "      <td>clojure</td>\n",
       "      <td>(extend-type String\\n  Person\\n  (first-name [...</td>\n",
       "      <td>NaN</td>\n",
       "    </tr>\n",
       "    <tr>\n",
       "      <th>4</th>\n",
       "      <td>clojure</td>\n",
       "      <td>(require '[overtone.live :as overtone])\\n\\n(de...</td>\n",
       "      <td>NaN</td>\n",
       "    </tr>\n",
       "    <tr>\n",
       "      <th>5</th>\n",
       "      <td>python</td>\n",
       "      <td>from pkgutil import iter_modules\\nfrom subproc...</td>\n",
       "      <td>NaN</td>\n",
       "    </tr>\n",
       "    <tr>\n",
       "      <th>6</th>\n",
       "      <td>python</td>\n",
       "      <td>import re\\nimport subprocess\\n\\ndef cmd_keymap...</td>\n",
       "      <td>NaN</td>\n",
       "    </tr>\n",
       "    <tr>\n",
       "      <th>7</th>\n",
       "      <td>python</td>\n",
       "      <td>class NoSuchService(Exception):\\n    def __ini...</td>\n",
       "      <td>NaN</td>\n",
       "    </tr>\n",
       "    <tr>\n",
       "      <th>8</th>\n",
       "      <td>python</td>\n",
       "      <td>from collections import namedtuple\\nimport fun...</td>\n",
       "      <td>NaN</td>\n",
       "    </tr>\n",
       "    <tr>\n",
       "      <th>9</th>\n",
       "      <td>javascript</td>\n",
       "      <td>function errorHandler(context) {\\n  return fun...</td>\n",
       "      <td>NaN</td>\n",
       "    </tr>\n",
       "    <tr>\n",
       "      <th>10</th>\n",
       "      <td>javascript</td>\n",
       "      <td>var _ = require('lodash'),\\n    fs = require('...</td>\n",
       "      <td>NaN</td>\n",
       "    </tr>\n",
       "    <tr>\n",
       "      <th>11</th>\n",
       "      <td>javascript</td>\n",
       "      <td>/* Riot v2.0.8, @license MIT, (c) 2015 Muut In...</td>\n",
       "      <td>NaN</td>\n",
       "    </tr>\n",
       "    <tr>\n",
       "      <th>12</th>\n",
       "      <td>javascript</td>\n",
       "      <td>var r = riot.route = function(arg) {\\n    //...</td>\n",
       "      <td>NaN</td>\n",
       "    </tr>\n",
       "    <tr>\n",
       "      <th>13</th>\n",
       "      <td>ruby</td>\n",
       "      <td>module ActiveJob\\n  module Core\\n    extend Ac...</td>\n",
       "      <td>NaN</td>\n",
       "    </tr>\n",
       "    <tr>\n",
       "      <th>14</th>\n",
       "      <td>ruby</td>\n",
       "      <td>require 'formula'\\n\\nclass A52dec &lt; Formula\\n ...</td>\n",
       "      <td>NaN</td>\n",
       "    </tr>\n",
       "    <tr>\n",
       "      <th>15</th>\n",
       "      <td>ruby</td>\n",
       "      <td>module Fluent\\n  class Input\\n    include Conf...</td>\n",
       "      <td>NaN</td>\n",
       "    </tr>\n",
       "    <tr>\n",
       "      <th>16</th>\n",
       "      <td>haskell</td>\n",
       "      <td>{-# LANGUAGE ScopedTypeVariables, FlexibleInst...</td>\n",
       "      <td>NaN</td>\n",
       "    </tr>\n",
       "    <tr>\n",
       "      <th>17</th>\n",
       "      <td>haskell</td>\n",
       "      <td>reverseDependencies :: ModuleGraph -&gt; M.Map Mo...</td>\n",
       "      <td>NaN</td>\n",
       "    </tr>\n",
       "    <tr>\n",
       "      <th>18</th>\n",
       "      <td>haskell</td>\n",
       "      <td>{- git-annex extra config files\\n -\\n - Copyri...</td>\n",
       "      <td>NaN</td>\n",
       "    </tr>\n",
       "    <tr>\n",
       "      <th>19</th>\n",
       "      <td>scheme</td>\n",
       "      <td>(define subst-f\\n  (lambda (new old l)\\n    (c...</td>\n",
       "      <td>NaN</td>\n",
       "    </tr>\n",
       "    <tr>\n",
       "      <th>20</th>\n",
       "      <td>scheme</td>\n",
       "      <td>(define add1\\n  (lambda (n) (+ n 1)))</td>\n",
       "      <td>NaN</td>\n",
       "    </tr>\n",
       "    <tr>\n",
       "      <th>21</th>\n",
       "      <td>scheme</td>\n",
       "      <td>(define-lib-primitive (length lst)\\n  (if (nul...</td>\n",
       "      <td>NaN</td>\n",
       "    </tr>\n",
       "    <tr>\n",
       "      <th>22</th>\n",
       "      <td>java</td>\n",
       "      <td>/**\\n * Interface to represent a persistence s...</td>\n",
       "      <td>NaN</td>\n",
       "    </tr>\n",
       "    <tr>\n",
       "      <th>23</th>\n",
       "      <td>java</td>\n",
       "      <td>/*\\n * Copyright 2002-2008 the original author...</td>\n",
       "      <td>NaN</td>\n",
       "    </tr>\n",
       "    <tr>\n",
       "      <th>24</th>\n",
       "      <td>scala</td>\n",
       "      <td>package com.github.pathikrit\\n\\nimport scala.a...</td>\n",
       "      <td>NaN</td>\n",
       "    </tr>\n",
       "    <tr>\n",
       "      <th>25</th>\n",
       "      <td>scala</td>\n",
       "      <td>/* sbt -- Simple Build Tool\\n * Copyright 2010...</td>\n",
       "      <td>NaN</td>\n",
       "    </tr>\n",
       "    <tr>\n",
       "      <th>26</th>\n",
       "      <td>tcl</td>\n",
       "      <td>proc isaac::mix {a b c d e f g h} {\\n    set a...</td>\n",
       "      <td>NaN</td>\n",
       "    </tr>\n",
       "    <tr>\n",
       "      <th>27</th>\n",
       "      <td>tcl</td>\n",
       "      <td>proc twitter::follow {nick uhost hand chan arg...</td>\n",
       "      <td>NaN</td>\n",
       "    </tr>\n",
       "    <tr>\n",
       "      <th>28</th>\n",
       "      <td>php</td>\n",
       "      <td>class View\\n{\\n    /**\\n     * Data available ...</td>\n",
       "      <td>NaN</td>\n",
       "    </tr>\n",
       "    <tr>\n",
       "      <th>29</th>\n",
       "      <td>php</td>\n",
       "      <td>public function formatLocalized($format)\\n...</td>\n",
       "      <td>NaN</td>\n",
       "    </tr>\n",
       "    <tr>\n",
       "      <th>30</th>\n",
       "      <td>php</td>\n",
       "      <td>class Application extends App {\\n\\t/**\\n\\t * @...</td>\n",
       "      <td>NaN</td>\n",
       "    </tr>\n",
       "    <tr>\n",
       "      <th>31</th>\n",
       "      <td>ocaml</td>\n",
       "      <td>type name = string\\n\\nlet compare_label label1...</td>\n",
       "      <td>NaN</td>\n",
       "    </tr>\n",
       "    <tr>\n",
       "      <th>32</th>\n",
       "      <td>ocaml</td>\n",
       "      <td>let search_compiler_libs () =\\n  prerr_endline...</td>\n",
       "      <td>NaN</td>\n",
       "    </tr>\n",
       "  </tbody>\n",
       "</table>\n",
       "</div>"
      ],
      "text/plain": [
       "        language                                               text  guess\n",
       "item                                                                      \n",
       "0           perl  use warnings;\\nuse strict;\\n\\nmy $initial = jo...    NaN\n",
       "1        clojure  (defn cf-settings\\n  \"Setup settings for campf...    NaN\n",
       "2        clojure  (ns my-cli.core)\\n\\n(defn -main [& args]\\n  (p...    NaN\n",
       "3        clojure  (extend-type String\\n  Person\\n  (first-name [...    NaN\n",
       "4        clojure  (require '[overtone.live :as overtone])\\n\\n(de...    NaN\n",
       "5         python  from pkgutil import iter_modules\\nfrom subproc...    NaN\n",
       "6         python  import re\\nimport subprocess\\n\\ndef cmd_keymap...    NaN\n",
       "7         python  class NoSuchService(Exception):\\n    def __ini...    NaN\n",
       "8         python  from collections import namedtuple\\nimport fun...    NaN\n",
       "9     javascript  function errorHandler(context) {\\n  return fun...    NaN\n",
       "10    javascript  var _ = require('lodash'),\\n    fs = require('...    NaN\n",
       "11    javascript  /* Riot v2.0.8, @license MIT, (c) 2015 Muut In...    NaN\n",
       "12    javascript    var r = riot.route = function(arg) {\\n    //...    NaN\n",
       "13          ruby  module ActiveJob\\n  module Core\\n    extend Ac...    NaN\n",
       "14          ruby  require 'formula'\\n\\nclass A52dec < Formula\\n ...    NaN\n",
       "15          ruby  module Fluent\\n  class Input\\n    include Conf...    NaN\n",
       "16       haskell  {-# LANGUAGE ScopedTypeVariables, FlexibleInst...    NaN\n",
       "17       haskell  reverseDependencies :: ModuleGraph -> M.Map Mo...    NaN\n",
       "18       haskell  {- git-annex extra config files\\n -\\n - Copyri...    NaN\n",
       "19        scheme  (define subst-f\\n  (lambda (new old l)\\n    (c...    NaN\n",
       "20        scheme              (define add1\\n  (lambda (n) (+ n 1)))    NaN\n",
       "21        scheme  (define-lib-primitive (length lst)\\n  (if (nul...    NaN\n",
       "22          java  /**\\n * Interface to represent a persistence s...    NaN\n",
       "23          java  /*\\n * Copyright 2002-2008 the original author...    NaN\n",
       "24         scala  package com.github.pathikrit\\n\\nimport scala.a...    NaN\n",
       "25         scala  /* sbt -- Simple Build Tool\\n * Copyright 2010...    NaN\n",
       "26           tcl  proc isaac::mix {a b c d e f g h} {\\n    set a...    NaN\n",
       "27           tcl  proc twitter::follow {nick uhost hand chan arg...    NaN\n",
       "28           php  class View\\n{\\n    /**\\n     * Data available ...    NaN\n",
       "29           php      public function formatLocalized($format)\\n...    NaN\n",
       "30           php  class Application extends App {\\n\\t/**\\n\\t * @...    NaN\n",
       "31         ocaml  type name = string\\n\\nlet compare_label label1...    NaN\n",
       "32         ocaml  let search_compiler_libs () =\\n  prerr_endline...    NaN"
      ]
     },
     "execution_count": 4,
     "metadata": {},
     "output_type": "execute_result"
    }
   ],
   "source": [
    "test_data"
   ]
  },
  {
   "cell_type": "markdown",
   "metadata": {},
   "source": [
    "### Use a generic bag of words/naive bayes classifier pipeline as a baseline"
   ]
  },
  {
   "cell_type": "code",
   "execution_count": 5,
   "metadata": {
    "collapsed": true
   },
   "outputs": [],
   "source": [
    "def assess_test_data(pipe):\n",
    "    test_data['guess'] = pd.DataFrame(pipe.predict(test_data['text']))\n",
    "    correct = test_data[test_data.language == test_data.guess]\n",
    "    print('Proportion of test data correctly labeled: {:.3f}'.format(len(correct) / len(test_data)))\n",
    "    print(test_data[['language', 'guess', 'text']])\n"
   ]
  },
  {
   "cell_type": "code",
   "execution_count": 6,
   "metadata": {
    "collapsed": false
   },
   "outputs": [
    {
     "name": "stdout",
     "output_type": "stream",
     "text": [
      "Train score: 0.989, Test score: 0.949\n",
      "Proportion of test data correctly labeled: 0.727\n",
      "        language       guess  \\\n",
      "item                           \n",
      "0           perl        perl   \n",
      "1        clojure     clojure   \n",
      "2        clojure     clojure   \n",
      "3        clojure     clojure   \n",
      "4        clojure     clojure   \n",
      "5         python      python   \n",
      "6         python     clojure   \n",
      "7         python        ruby   \n",
      "8         python      python   \n",
      "9     javascript  javascript   \n",
      "10    javascript  javascript   \n",
      "11    javascript     clojure   \n",
      "12    javascript         php   \n",
      "13          ruby        ruby   \n",
      "14          ruby     clojure   \n",
      "15          ruby        ruby   \n",
      "16       haskell     haskell   \n",
      "17       haskell     haskell   \n",
      "18       haskell     clojure   \n",
      "19        scheme      scheme   \n",
      "20        scheme      scheme   \n",
      "21        scheme      scheme   \n",
      "22          java        java   \n",
      "23          java           c   \n",
      "24         scala       scala   \n",
      "25         scala       scala   \n",
      "26           tcl         tcl   \n",
      "27           tcl      python   \n",
      "28           php     clojure   \n",
      "29           php         php   \n",
      "30           php         php   \n",
      "31         ocaml       ocaml   \n",
      "32         ocaml       ocaml   \n",
      "\n",
      "                                                   text  \n",
      "item                                                     \n",
      "0     use warnings;\\nuse strict;\\n\\nmy $initial = jo...  \n",
      "1     (defn cf-settings\\n  \"Setup settings for campf...  \n",
      "2     (ns my-cli.core)\\n\\n(defn -main [& args]\\n  (p...  \n",
      "3     (extend-type String\\n  Person\\n  (first-name [...  \n",
      "4     (require '[overtone.live :as overtone])\\n\\n(de...  \n",
      "5     from pkgutil import iter_modules\\nfrom subproc...  \n",
      "6     import re\\nimport subprocess\\n\\ndef cmd_keymap...  \n",
      "7     class NoSuchService(Exception):\\n    def __ini...  \n",
      "8     from collections import namedtuple\\nimport fun...  \n",
      "9     function errorHandler(context) {\\n  return fun...  \n",
      "10    var _ = require('lodash'),\\n    fs = require('...  \n",
      "11    /* Riot v2.0.8, @license MIT, (c) 2015 Muut In...  \n",
      "12      var r = riot.route = function(arg) {\\n    //...  \n",
      "13    module ActiveJob\\n  module Core\\n    extend Ac...  \n",
      "14    require 'formula'\\n\\nclass A52dec < Formula\\n ...  \n",
      "15    module Fluent\\n  class Input\\n    include Conf...  \n",
      "16    {-# LANGUAGE ScopedTypeVariables, FlexibleInst...  \n",
      "17    reverseDependencies :: ModuleGraph -> M.Map Mo...  \n",
      "18    {- git-annex extra config files\\n -\\n - Copyri...  \n",
      "19    (define subst-f\\n  (lambda (new old l)\\n    (c...  \n",
      "20                (define add1\\n  (lambda (n) (+ n 1)))  \n",
      "21    (define-lib-primitive (length lst)\\n  (if (nul...  \n",
      "22    /**\\n * Interface to represent a persistence s...  \n",
      "23    /*\\n * Copyright 2002-2008 the original author...  \n",
      "24    package com.github.pathikrit\\n\\nimport scala.a...  \n",
      "25    /* sbt -- Simple Build Tool\\n * Copyright 2010...  \n",
      "26    proc isaac::mix {a b c d e f g h} {\\n    set a...  \n",
      "27    proc twitter::follow {nick uhost hand chan arg...  \n",
      "28    class View\\n{\\n    /**\\n     * Data available ...  \n",
      "29        public function formatLocalized($format)\\n...  \n",
      "30    class Application extends App {\\n\\t/**\\n\\t * @...  \n",
      "31    type name = string\\n\\nlet compare_label label1...  \n",
      "32    let search_compiler_libs () =\\n  prerr_endline...  \n"
     ]
    }
   ],
   "source": [
    "spam_pipe = Pipeline([('bag_of_words', CountVectorizer()),\n",
    "                      ('bayes', MultinomialNB())])\n",
    "classifier = assess_classifier(spam_pipe, *args)\n",
    "c = classifier.predict(X)\n",
    "#print('Guesses: ', c[0:5])\n",
    "assess_test_data(spam_pipe)"
   ]
  },
  {
   "cell_type": "markdown",
   "metadata": {},
   "source": [
    "#### Inspect the baseline features"
   ]
  },
  {
   "cell_type": "code",
   "execution_count": 7,
   "metadata": {
    "collapsed": false
   },
   "outputs": [
    {
     "name": "stdout",
     "output_type": "stream",
     "text": [
      "['zin', 'zip', 'zipwith', 'zipwithindex', 'zipwithm', 'zipwithm_', 'ziv', 'ziv1', 'ziv2', 'zizi', 'zoo', 'zotov', 'zq', 'zr', 'zr1', 'zr2', 'zri', 'zrn', 'zrv', 'zrv1', 'zrv2', 'zrzi', 'zrzr', 'zs', 'zt', 'zu', 'zubach', 'zx', 'zy', 'zz']\n",
      "Train score: 0.989, Test score: 0.949\n"
     ]
    }
   ],
   "source": [
    "cv = CountVectorizer()\n",
    "ft = cv.fit_transform(X)\n",
    "print(cv.get_feature_names()[-30:])\n",
    "spam_pipe = Pipeline([('bag_of_words', cv),\n",
    "                      ('bayes', MultinomialNB())])\n",
    "classifier = assess_classifier(spam_pipe, *args)"
   ]
  },
  {
   "cell_type": "markdown",
   "metadata": {},
   "source": [
    "###Now try making a limited custom vocabulary to discriminate between languages"
   ]
  },
  {
   "cell_type": "code",
   "execution_count": 8,
   "metadata": {
    "collapsed": false,
    "scrolled": true
   },
   "outputs": [
    {
     "name": "stdout",
     "output_type": "stream",
     "text": [
      "['}', ')', 'var', 'fn', 'function', 'end', 'defn', '===', 'lambda']\n",
      "Train score: 0.329, Test score: 0.436\n",
      "Proportion of test data correctly labeled: 0.485\n",
      "        language       guess  \\\n",
      "item                           \n",
      "0           perl        ruby   \n",
      "1        clojure     clojure   \n",
      "2        clojure     clojure   \n",
      "3        clojure        ruby   \n",
      "4        clojure     clojure   \n",
      "5         python        ruby   \n",
      "6         python        ruby   \n",
      "7         python        ruby   \n",
      "8         python      python   \n",
      "9     javascript         php   \n",
      "10    javascript  javascript   \n",
      "11    javascript  javascript   \n",
      "12    javascript  javascript   \n",
      "13          ruby        ruby   \n",
      "14          ruby        ruby   \n",
      "15          ruby        ruby   \n",
      "16       haskell        ruby   \n",
      "17       haskell        ruby   \n",
      "18       haskell        ruby   \n",
      "19        scheme      scheme   \n",
      "20        scheme      scheme   \n",
      "21        scheme      scheme   \n",
      "22          java        ruby   \n",
      "23          java        ruby   \n",
      "24         scala        ruby   \n",
      "25         scala        ruby   \n",
      "26           tcl        ruby   \n",
      "27           tcl        ruby   \n",
      "28           php         php   \n",
      "29           php         php   \n",
      "30           php         php   \n",
      "31         ocaml     haskell   \n",
      "32         ocaml        ruby   \n",
      "\n",
      "                                                   text  \n",
      "item                                                     \n",
      "0     use warnings;\\nuse strict;\\n\\nmy $initial = jo...  \n",
      "1     (defn cf-settings\\n  \"Setup settings for campf...  \n",
      "2     (ns my-cli.core)\\n\\n(defn -main [& args]\\n  (p...  \n",
      "3     (extend-type String\\n  Person\\n  (first-name [...  \n",
      "4     (require '[overtone.live :as overtone])\\n\\n(de...  \n",
      "5     from pkgutil import iter_modules\\nfrom subproc...  \n",
      "6     import re\\nimport subprocess\\n\\ndef cmd_keymap...  \n",
      "7     class NoSuchService(Exception):\\n    def __ini...  \n",
      "8     from collections import namedtuple\\nimport fun...  \n",
      "9     function errorHandler(context) {\\n  return fun...  \n",
      "10    var _ = require('lodash'),\\n    fs = require('...  \n",
      "11    /* Riot v2.0.8, @license MIT, (c) 2015 Muut In...  \n",
      "12      var r = riot.route = function(arg) {\\n    //...  \n",
      "13    module ActiveJob\\n  module Core\\n    extend Ac...  \n",
      "14    require 'formula'\\n\\nclass A52dec < Formula\\n ...  \n",
      "15    module Fluent\\n  class Input\\n    include Conf...  \n",
      "16    {-# LANGUAGE ScopedTypeVariables, FlexibleInst...  \n",
      "17    reverseDependencies :: ModuleGraph -> M.Map Mo...  \n",
      "18    {- git-annex extra config files\\n -\\n - Copyri...  \n",
      "19    (define subst-f\\n  (lambda (new old l)\\n    (c...  \n",
      "20                (define add1\\n  (lambda (n) (+ n 1)))  \n",
      "21    (define-lib-primitive (length lst)\\n  (if (nul...  \n",
      "22    /**\\n * Interface to represent a persistence s...  \n",
      "23    /*\\n * Copyright 2002-2008 the original author...  \n",
      "24    package com.github.pathikrit\\n\\nimport scala.a...  \n",
      "25    /* sbt -- Simple Build Tool\\n * Copyright 2010...  \n",
      "26    proc isaac::mix {a b c d e f g h} {\\n    set a...  \n",
      "27    proc twitter::follow {nick uhost hand chan arg...  \n",
      "28    class View\\n{\\n    /**\\n     * Data available ...  \n",
      "29        public function formatLocalized($format)\\n...  \n",
      "30    class Application extends App {\\n\\t/**\\n\\t * @...  \n",
      "31    type name = string\\n\\nlet compare_label label1...  \n",
      "32    let search_compiler_libs () =\\n  prerr_endline...  \n"
     ]
    }
   ],
   "source": [
    "cv = CountVectorizer(vocabulary=['}', ')', 'var', 'fn', 'function', 'end', 'defn',\n",
    "                                 '===', 'lambda']) #, '(define', 'elif'])\n",
    "ft = cv.fit_transform(X)\n",
    "print(cv.get_feature_names()[-30:])  \n",
    "spam_pipe = Pipeline([('bag_of_words', cv),\n",
    "                      ('bayes', MultinomialNB())])\n",
    "classifier = assess_classifier(spam_pipe, *args)\n",
    "assess_test_data(spam_pipe)"
   ]
  },
  {
   "cell_type": "markdown",
   "metadata": {},
   "source": [
    "Vocabulary|Results\n",
    "----------|-------\n",
    "} | Train score: 0.122, Test score: 0.137\n",
    "}, ) | Train score: 0.122, Test score: 0.137\n",
    "}, ), var | Train score: 0.161, Test score: 0.179\n",
    "}, ), var, fn | Train score: 0.195, Test score: 0.248\n",
    "}, ), var, fn, function| Train score: 0.287, Test score: 0.308\n",
    "}, ), var, fn, function, end | Train score: 0.278, Test score: 0.325\n",
    "}, ), var, fn, function, end, defn | Train score: 0.302, Test score: 0.359\n",
    "}, ), var, fn, function, end, defn, === | Train score: 0.300, Test score: 0.368\n",
    "}, ), var, fn, function, end, defn, ===, lambda | Train score: 0.334, Test score: 0.427\n",
    "}, ), var, fn, function, end, defn, ===, lambda | Proportion of test data correctly labeled: 0.485\n"
   ]
  },
  {
   "cell_type": "markdown",
   "metadata": {},
   "source": [
    "The above didn't work nearly as well as the automatically-generated vocabulary with thousands of words. Adding new words quickly yielded diminishing returns. Since we want to get above 80% accuracy, it looks like we will need to add our own features."
   ]
  },
  {
   "cell_type": "markdown",
   "metadata": {},
   "source": [
    "##Define new features"
   ]
  },
  {
   "cell_type": "code",
   "execution_count": 9,
   "metadata": {
    "collapsed": true
   },
   "outputs": [],
   "source": [
    "def longest_run_of_caps_feature(text):\n",
    "    \"\"\"Find the longest run of capitol letters and return their length.\"\"\"\n",
    "    runs = sorted(re.findall(r\"[A-Z]+\", text), key=len)\n",
    "    if runs:\n",
    "        return len(runs[-1])\n",
    "    else:\n",
    "        return 0"
   ]
  },
  {
   "cell_type": "code",
   "execution_count": 10,
   "metadata": {
    "collapsed": false
   },
   "outputs": [],
   "source": [
    "def percent_character_feature(char):\n",
    "    \"\"\"Return percentage of text that is a particular char compared to total text length.\"\"\"\n",
    "    def feature_fn(text):\n",
    "        chars = text.count(char)\n",
    "        return chars / len(text)\n",
    "    return feature_fn\n",
    "\n",
    "# def percent_characters_feature(char_list):\n",
    "#     \"\"\"\n",
    "#     Return percentage of text for each char/substring in char_list,\n",
    "#     compared to total text length.\n",
    "#     \"\"\"\n",
    "#     def feature_fn(text):\n",
    "#         hits = []\n",
    "#         for char in char_list:\n",
    "#             hits.append(text.count(char) / len(text))\n",
    "#         return hits\n",
    "#     return feature_fn\n",
    "\n",
    "def count_word_feature(word):\n",
    "    \"\"\"Return percentage of text that is a particular char compared to total text length.\"\"\"\n",
    "    def feature_fn(text):\n",
    "        num_words = text.count(word)\n",
    "        return num_words\n",
    "    return feature_fn\n",
    "\n",
    "def longest_line_feature(text):\n",
    "    lines = re.findall(r'.*?\\n', text)\n",
    "    if not lines:\n",
    "        return len(text)\n",
    "    lens = [len(line) for line in lines]\n",
    "    return max(lens)  # Includes newline character\n",
    "\n",
    "def longest_run_of_parens(text):\n",
    "    matches = re.findall(r'\\)*', text)\n",
    "    if not matches:\n",
    "        return 0\n",
    "    lens = [len(match) for match in matches]\n",
    "    return max(lens)\n",
    "\n",
    "def nested_dots(text):\n",
    "    matches = re.findall(r'\\.([^\\s]*\\.)*', text)\n",
    "    if not matches:\n",
    "        return 0\n",
    "    lens = [match.count('.') for match in matches]\n",
    "    return max(lens)\n",
    "\n",
    "def max_paren_depth(text):\n",
    "    max_depth = 0\n",
    "    depth = 0\n",
    "    for char in text:\n",
    "        if char == '(':\n",
    "            depth += 1\n",
    "            max_depth = depth if depth > max_depth else max_depth\n",
    "        if char == ')':\n",
    "            depth -= 1\n",
    "    return max_depth\n",
    "\n",
    "def max_curly_brace_depth(text):\n",
    "    max_depth = 0\n",
    "    depth = 0\n",
    "    for char in text:\n",
    "        if char == '{':\n",
    "            depth += 1\n",
    "            max_depth = depth if depth > max_depth else max_depth\n",
    "        if char == '}':\n",
    "            depth -= 1\n",
    "    return max_depth\n",
    "\n",
    "def percent_words_match_regex(regex):\n",
    "    \"\"\"Return percentage of text that is a matches regex compared to total number words\"\"\"\n",
    "    def feature_fn(text):\n",
    "        num_matches = 0\n",
    "        #words = re.findall(r'[^[\\s]]+\\b', text)\n",
    "        words = text.split()\n",
    "        for word in words:\n",
    "            if re.search(regex, word):\n",
    "                num_matches +=1\n",
    "        if len(words) == 0:\n",
    "            return 0\n",
    "        return num_matches / len(words)\n",
    "    return feature_fn\n",
    "\n",
    "def count_endings_feature(regex):  \n",
    "    def feature_fn(text):\n",
    "        num_matches = 0\n",
    "        lines = re.findall(r'.*?\\n', text)\n",
    "        if not lines:\n",
    "            return len(text)\n",
    "\n",
    "        words = text.split()\n",
    "        for word in words:\n",
    "            if re.search(regex + r'\\w*$', word):\n",
    "                num_matches +=1\n",
    "        if len(words) == 0:\n",
    "            return 0\n",
    "        return num_matches #/ len(words)\n",
    "    return feature_fn\n",
    "\n",
    "def count_beginnings_feature(regex):  \n",
    "    def feature_fn(text):\n",
    "        num_matches = 0\n",
    "        lines = re.findall(r'.*?\\n', text)\n",
    "        if not lines:\n",
    "            return len(text)\n",
    "\n",
    "        words = text.split()\n",
    "        for word in words:\n",
    "            if re.search(r'\\w*' + regex, word):\n",
    "                num_matches +=1\n",
    "        if len(words) == 0:\n",
    "            return 0\n",
    "        return num_matches #/ len(words)\n",
    "    return feature_fn\n",
    "\n"
   ]
  },
  {
   "cell_type": "markdown",
   "metadata": {},
   "source": [
    "###Look at the new features on a simple python program"
   ]
  },
  {
   "cell_type": "markdown",
   "metadata": {},
   "source": [
    "##Feature Ideas\n",
    "- +Longest line\n",
    "- bag of words with chars, ngrams, let\n",
    "- +run of )\n",
    "- % _, }, :\\n, \"\"\"\n",
    "- key words: def, defn, var `__x__`, module, end, ->, ::, ;, /*, //, case, final, extends, public, protected, $word, @param, self, this\n",
    "- + depth nested dots (or % nested dots)\n",
    "- +() nest depth\n",
    "- ignore/strip comments?\n",
    "-Hyphenated or camel or underscored\n",
    "-Indentation...\n",
    "\n"
   ]
  },
  {
   "cell_type": "code",
   "execution_count": 108,
   "metadata": {
    "collapsed": false
   },
   "outputs": [
    {
     "data": {
      "text/plain": [
       "array([[2, 1, 8, 0, 0, 0, 0, 0, 0, 0, 0, 0, 0, 3, 0, 0, 0, 0, 0, 1]])"
      ]
     },
     "execution_count": 108,
     "metadata": {},
     "output_type": "execute_result"
    }
   ],
   "source": [
    "txt = '''\n",
    "# Test python program\n",
    "class MyClass:\n",
    "    \"\"\"MyClass is a class to do something\"\"\"\n",
    "    def __init__(self, name='name'):\n",
    "        self.name = name\n",
    "    def longest_run_of_caps_feature(text):\n",
    "        runs = sorted(re.findall(r\"[A-Z]+\", text), key=len)\n",
    "        if len(runs) == 0:\n",
    "            return 0\n",
    "        longest = runs[-1]\n",
    "        return len(longest)\n",
    "        print('{}'.format(self.name))\n",
    "        $thing \n",
    "        @thing\n",
    "        :thing\n",
    "        end\n",
    "    end\n",
    "end\n",
    "\n",
    "'''\n",
    "featurizer = FunctionFeaturizer(\n",
    "#                                 longest_run_of_caps_feature,\n",
    "#                                  percent_character_feature('.'),\n",
    "#                                 longest_line_feature,\n",
    "#                                  longest_run_of_parens,\n",
    "#                                 nested_dots,\n",
    "                                 max_paren_depth,\n",
    "#                                  percent_words_match_regex(r'\\$\\w'),\n",
    "#                                 percent_words_match_regex(r'\\@\\w'),\n",
    "#                                 percent_words_match_regex(r':\\w'),\n",
    "#                                 percent_character_feature(r';'),\n",
    "                                  count_word_feature('}'),\n",
    "                                  count_word_feature(')'),\n",
    "                                  count_word_feature('var'),\n",
    "                                  count_word_feature('fn'),\n",
    "                                  count_word_feature('function'),\n",
    "#                                   count_word_feature('end'),\n",
    "                                  count_word_feature('defn'),\n",
    "                                  count_word_feature('==='),\n",
    "#                                   count_word_feature('lambda'),\n",
    "                                  count_word_feature(';'),\n",
    "                                  count_word_feature('public'),\n",
    "#                                   count_word_feature('val'),\n",
    "#                                   count_word_feature('=>'),\n",
    "                                  count_word_feature('set'),\n",
    "                                  count_word_feature('extends'),\n",
    "                                  count_word_feature('module'),\n",
    "                                  count_endings_feature(r'end'),\n",
    "                                  count_beginnings_feature(r'let'),\n",
    "                                  count_word_feature('->'), #.758\n",
    "                                  count_beginnings_feature(r'\\(define'), #.818 got scheme\n",
    "                                  count_beginnings_feature(r'\\{-'), #.848 less haskell\n",
    "                                  count_word_feature('object'), #\n",
    "                                  max_curly_brace_depth, #.879 got javascript\n",
    "# #                                   count_beginnings_feature(r'from'), #added ^ to start of regex, numbers dropped, so removed\n",
    "#                                    percent_character_feature(']'),\n",
    "# #                                   count_word_feature('.'),\n",
    "#                                   count_word_feature('proc'),\n",
    "#                                   count_beginnings_feature('public'),\n",
    "# #                                   count_endings_feature(r';'), #fixed java but broke haskell/scala/php/ocaml\n",
    "    \n",
    "    \n",
    "                                    \n",
    "                                \n",
    "                               )\n",
    "featurizer.transform([txt])"
   ]
  },
  {
   "cell_type": "code",
   "execution_count": 109,
   "metadata": {
    "collapsed": false
   },
   "outputs": [
    {
     "data": {
      "text/plain": [
       "3"
      ]
     },
     "execution_count": 109,
     "metadata": {},
     "output_type": "execute_result"
    }
   ],
   "source": [
    "count_endings_feature('end')(txt)"
   ]
  },
  {
   "cell_type": "markdown",
   "metadata": {},
   "source": [
    "###Test the pipeline on the actual test data"
   ]
  },
  {
   "cell_type": "code",
   "execution_count": 110,
   "metadata": {
    "collapsed": false
   },
   "outputs": [],
   "source": [
    "# pipe = Pipeline([('fnfeaturizer', featurizer),\n",
    "#                  ('bayes', MultinomialNB())])\n",
    "pipe = make_pipeline(featurizer, MultinomialNB())\n",
    "#pd.DataFrame(args[0]).index.values/pd.DataFrame(args[2]).index.values    #, args[2])"
   ]
  },
  {
   "cell_type": "code",
   "execution_count": 111,
   "metadata": {
    "collapsed": false
   },
   "outputs": [
    {
     "data": {
      "text/plain": [
       "0"
      ]
     },
     "execution_count": 111,
     "metadata": {},
     "output_type": "execute_result"
    }
   ],
   "source": [
    "count_beginnings_feature('public')(test_data.loc[2].text)\n",
    "# count_word_feature('proc')(test_data.loc[27].text)"
   ]
  },
  {
   "cell_type": "code",
   "execution_count": 112,
   "metadata": {
    "collapsed": false
   },
   "outputs": [
    {
     "name": "stdout",
     "output_type": "stream",
     "text": [
      "Train score: 0.786, Test score: 0.803\n",
      "Proportion of test data correctly labeled: 0.879\n",
      "        language       guess  \\\n",
      "item                           \n",
      "0           perl        perl   \n",
      "1        clojure     clojure   \n",
      "2        clojure     clojure   \n",
      "3        clojure      python   \n",
      "4        clojure     clojure   \n",
      "5         python        ruby   \n",
      "6         python      python   \n",
      "7         python      python   \n",
      "8         python      python   \n",
      "9     javascript  javascript   \n",
      "10    javascript  javascript   \n",
      "11    javascript  javascript   \n",
      "12    javascript  javascript   \n",
      "13          ruby        ruby   \n",
      "14          ruby        ruby   \n",
      "15          ruby        ruby   \n",
      "16       haskell     haskell   \n",
      "17       haskell     haskell   \n",
      "18       haskell     haskell   \n",
      "19        scheme      scheme   \n",
      "20        scheme      scheme   \n",
      "21        scheme      scheme   \n",
      "22          java         tcl   \n",
      "23          java        java   \n",
      "24         scala       scala   \n",
      "25         scala       scala   \n",
      "26           tcl         tcl   \n",
      "27           tcl         tcl   \n",
      "28           php         php   \n",
      "29           php         php   \n",
      "30           php         php   \n",
      "31         ocaml     haskell   \n",
      "32         ocaml       ocaml   \n",
      "\n",
      "                                                   text  \n",
      "item                                                     \n",
      "0     use warnings;\\nuse strict;\\n\\nmy $initial = jo...  \n",
      "1     (defn cf-settings\\n  \"Setup settings for campf...  \n",
      "2     (ns my-cli.core)\\n\\n(defn -main [& args]\\n  (p...  \n",
      "3     (extend-type String\\n  Person\\n  (first-name [...  \n",
      "4     (require '[overtone.live :as overtone])\\n\\n(de...  \n",
      "5     from pkgutil import iter_modules\\nfrom subproc...  \n",
      "6     import re\\nimport subprocess\\n\\ndef cmd_keymap...  \n",
      "7     class NoSuchService(Exception):\\n    def __ini...  \n",
      "8     from collections import namedtuple\\nimport fun...  \n",
      "9     function errorHandler(context) {\\n  return fun...  \n",
      "10    var _ = require('lodash'),\\n    fs = require('...  \n",
      "11    /* Riot v2.0.8, @license MIT, (c) 2015 Muut In...  \n",
      "12      var r = riot.route = function(arg) {\\n    //...  \n",
      "13    module ActiveJob\\n  module Core\\n    extend Ac...  \n",
      "14    require 'formula'\\n\\nclass A52dec < Formula\\n ...  \n",
      "15    module Fluent\\n  class Input\\n    include Conf...  \n",
      "16    {-# LANGUAGE ScopedTypeVariables, FlexibleInst...  \n",
      "17    reverseDependencies :: ModuleGraph -> M.Map Mo...  \n",
      "18    {- git-annex extra config files\\n -\\n - Copyri...  \n",
      "19    (define subst-f\\n  (lambda (new old l)\\n    (c...  \n",
      "20                (define add1\\n  (lambda (n) (+ n 1)))  \n",
      "21    (define-lib-primitive (length lst)\\n  (if (nul...  \n",
      "22    /**\\n * Interface to represent a persistence s...  \n",
      "23    /*\\n * Copyright 2002-2008 the original author...  \n",
      "24    package com.github.pathikrit\\n\\nimport scala.a...  \n",
      "25    /* sbt -- Simple Build Tool\\n * Copyright 2010...  \n",
      "26    proc isaac::mix {a b c d e f g h} {\\n    set a...  \n",
      "27    proc twitter::follow {nick uhost hand chan arg...  \n",
      "28    class View\\n{\\n    /**\\n     * Data available ...  \n",
      "29        public function formatLocalized($format)\\n...  \n",
      "30    class Application extends App {\\n\\t/**\\n\\t * @...  \n",
      "31    type name = string\\n\\nlet compare_label label1...  \n",
      "32    let search_compiler_libs () =\\n  prerr_endline...  \n"
     ]
    }
   ],
   "source": [
    "pipe.fit(args[0], args[2])  # X_train, y_train\n",
    "pipe.score(args[1], args[3])\n",
    "classifier = assess_classifier(pipe, *args)\n",
    "assess_test_data(pipe)"
   ]
  },
  {
   "cell_type": "code",
   "execution_count": 15,
   "metadata": {
    "collapsed": false
   },
   "outputs": [],
   "source": [
    "# print(confusion_matrix(classifier.predict(args[1]), args[3]))"
   ]
  },
  {
   "cell_type": "code",
   "execution_count": 16,
   "metadata": {
    "collapsed": false,
    "scrolled": false
   },
   "outputs": [
    {
     "name": "stdout",
     "output_type": "stream",
     "text": [
      "Confusion matrix, without normalization\n",
      "[[ 2  0  0  1  0  3  0  0  1  2  0  0  0  0  0]\n",
      " [ 0 12  0  0  0  0  0  0  0  0  0  0  0  0  0]\n",
      " [ 0  1  5  0  0  0  0  0  0  0  2  0  0  0  0]\n",
      " [ 0  0  0  5  0  2  0  0  0  0  0  0  0  0  0]\n",
      " [ 0  0  0  0  6  0  0  0  0  0  1  0  0  0  0]\n",
      " [ 0  0  0  1  0  5  0  0  1  0  0  0  0  0  0]\n",
      " [ 0  0  0  0  0  0  1  0  0  0  0  0  0  0  0]\n",
      " [ 0  0  0  0  0  0  0  6  0  0  0  0  0  0  0]\n",
      " [ 1  0  0  0  0  0  0  0  4  0  0  0  0  0  0]\n",
      " [ 1  0  0  2  0  0  0  0  1 10  0  0  0  0  0]\n",
      " [ 0  0  0  0  0  0  0  0  0  0  6  0  1  0  0]\n",
      " [ 0  0  0  0  0  0  0  0  0  0  0 14  1  0  0]\n",
      " [ 0  0  0  0  1  0  0  0  0  0  0  0 12  0  0]\n",
      " [ 0  0  0  0  0  0  0  0  0  0  0  0  0  6  0]\n",
      " [ 0  0  0  0  0  0  0  0  0  0  0  0  0  0  0]]\n"
     ]
    },
    {
     "data": {
      "text/plain": [
       "<matplotlib.figure.Figure at 0x1143b79b0>"
      ]
     },
     "metadata": {},
     "output_type": "display_data"
    },
    {
     "data": {
      "image/png": "[encoded data removed]",
      "text/plain": [
       "<matplotlib.figure.Figure at 0x1143b7dd8>"
      ]
     },
     "metadata": {},
     "output_type": "display_data"
    }
   ],
   "source": [
    "# X_train, X_test, y_train, y_test = train_test_split(X, y, random_state=0)\n",
    "\n",
    "# Run classifier, using a model that is too regularized (C too low) to see\n",
    "# the impact on the results\n",
    "# classifier = svm.SVC(kernel='linear', C=0.01)\n",
    "y_pred = classifier.fit(X_train, y_train).predict(X_test)\n",
    "\n",
    "import matplotlib.pyplot as plt\n",
    "%matplotlib inline\n",
    "\n",
    "import matplotlib.pylab as pylab\n",
    "pylab.rcParams['figure.figsize'] = 8, 6  # that's default image size for this interactive session\n",
    "\n",
    "my_labels = classifier.classes_\n",
    "\n",
    "\n",
    "def plot_confusion_matrix(cm, title='Confusion matrix', cmap=plt.cm.Blues):\n",
    "    fig, ax = plt.subplots()\n",
    "    plt.imshow(cm, interpolation='nearest', cmap=cmap)\n",
    "    plt.title(title)\n",
    "    plt.colorbar()\n",
    "\n",
    "\n",
    "    tick_marks = np.arange(len(classifier.classes_))\n",
    "    plt.xticks(tick_marks, my_labels, rotation=90)\n",
    "    plt.yticks(tick_marks, my_labels)\n",
    "    plt.tight_layout()\n",
    "    plt.ylabel('True label')\n",
    "    plt.xlabel('Predicted label')\n",
    "\n",
    "    from matplotlib.ticker import MultipleLocator # from http://stackoverflow.com/a/19252430 comments\n",
    "    ax.xaxis.set_major_locator(MultipleLocator(1))\n",
    "    ax.yaxis.set_major_locator(MultipleLocator(1))\n",
    "\n",
    "\n",
    "# Compute confusion matrix\n",
    "cm = confusion_matrix(y_test, y_pred, labels=my_labels)\n",
    "np.set_printoptions(precision=2)\n",
    "print('Confusion matrix, without normalization')\n",
    "print(cm)\n",
    "plt.figure()\n",
    "plot_confusion_matrix(cm)\n",
    "\n",
    "# Normalize the confusion matrix by row (i.e by the number of samples\n",
    "# in each class)\n",
    "cm_normalized = cm.astype('float') / cm.sum(axis=1)[:, np.newaxis]\n",
    "#print('Normalized confusion matrix')\n",
    "#print(cm_normalized)\n",
    "#plt.figure()\n",
    "#plot_confusion_matrix(cm_normalized, title='Normalized confusion matrix')\n",
    "\n",
    "#plt.show()\n"
   ]
  },
  {
   "cell_type": "markdown",
   "metadata": {
    "collapsed": false
   },
   "source": [
    "####Something is incorrectly lining up in the confusion matrix plots\n",
    "For instance the java/tcl confusion is not showing up"
   ]
  },
  {
   "cell_type": "markdown",
   "metadata": {
    "collapsed": true
   },
   "source": [
    "#Conclusions:\n",
    "##Got up to 28/32 correct by tweaking features iteratively\n",
    "This method is almost guaranteed to yield overfitting, however.\n",
    "I think more data is needed."
   ]
  },
  {
   "cell_type": "code",
   "execution_count": null,
   "metadata": {
    "collapsed": true
   },
   "outputs": [],
   "source": []
  }
 ],
 "metadata": {
  "kernelspec": {
   "display_name": "Python 3",
   "language": "python",
   "name": "python3"
  },
  "language_info": {
   "codemirror_mode": {
    "name": "ipython",
    "version": 3
   },
   "file_extension": ".py",
   "mimetype": "text/x-python",
   "name": "python",
   "nbconvert_exporter": "python",
   "pygments_lexer": "ipython3",
   "version": "3.4.3"
  }
 },
 "nbformat": 4,
 "nbformat_minor": 0
}

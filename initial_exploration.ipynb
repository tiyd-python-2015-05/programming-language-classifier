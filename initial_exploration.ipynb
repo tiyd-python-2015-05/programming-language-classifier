{
 "cells": [
  {
   "cell_type": "code",
   "execution_count": 1,
   "metadata": {
    "collapsed": false
   },
   "outputs": [],
   "source": [
    "from sklearn.feature_extraction.text import CountVectorizer, TfidfTransformer\n",
    "from sklearn.cross_validation import train_test_split\n",
    "from sklearn.naive_bayes import MultinomialNB, GaussianNB, BernoulliNB\n",
    "from sklearn.pipeline import Pipeline\n",
    "import pandas as pd\n",
    "from os import walk\n",
    "import re\n",
    "import glob"
   ]
  },
  {
   "cell_type": "code",
   "execution_count": 2,
   "metadata": {
    "collapsed": true
   },
   "outputs": [],
   "source": [
    "def extract_extension(string):\n",
    "    match = re.match('.*\\.(?P<ext>.*)$', string)\n",
    "    if match:\n",
    "        return match.groupdict()['ext']"
   ]
  },
  {
   "cell_type": "code",
   "execution_count": null,
   "metadata": {
    "collapsed": false
   },
   "outputs": [],
   "source": []
  },
  {
   "cell_type": "code",
   "execution_count": 84,
   "metadata": {
    "collapsed": false
   },
   "outputs": [
    {
     "data": {
      "text/html": [
       "<div style=\"max-height:1000px;max-width:1500px;overflow:auto;\">\n",
       "<table border=\"1\" class=\"dataframe\">\n",
       "  <thead>\n",
       "    <tr style=\"text-align: right;\">\n",
       "      <th></th>\n",
       "      <th>language</th>\n",
       "      <th>text</th>\n",
       "    </tr>\n",
       "  </thead>\n",
       "  <tbody>\n",
       "    <tr>\n",
       "      <th>0</th>\n",
       "      <td>ats</td>\n",
       "      <td>(*\\n** The Computer Language Benchmarks Game\\n...</td>\n",
       "    </tr>\n",
       "    <tr>\n",
       "      <th>1</th>\n",
       "      <td>ats</td>\n",
       "      <td>(*\\n** The Computer Language Benchmarks Game\\n...</td>\n",
       "    </tr>\n",
       "    <tr>\n",
       "      <th>2</th>\n",
       "      <td>clojure</td>\n",
       "      <td>;; The Computer Language Benchmarks Game\\n;; h...</td>\n",
       "    </tr>\n",
       "    <tr>\n",
       "      <th>3</th>\n",
       "      <td>clojure</td>\n",
       "      <td>;; The Computer Language Benchmarks Game\\n;; h...</td>\n",
       "    </tr>\n",
       "    <tr>\n",
       "      <th>4</th>\n",
       "      <td>clojure</td>\n",
       "      <td>;; The Computer Language Benchmarks Game\\n;; h...</td>\n",
       "    </tr>\n",
       "    <tr>\n",
       "      <th>5</th>\n",
       "      <td>csharp</td>\n",
       "      <td>﻿/*\\n      The Computer Language Benchmarks Ga...</td>\n",
       "    </tr>\n",
       "    <tr>\n",
       "      <th>6</th>\n",
       "      <td>csharp</td>\n",
       "      <td>/* The Computer Language Benchmarks Game\\n   h...</td>\n",
       "    </tr>\n",
       "    <tr>\n",
       "      <th>7</th>\n",
       "      <td>dart</td>\n",
       "      <td>/* The Computer Language Benchmarks game\\n   h...</td>\n",
       "    </tr>\n",
       "    <tr>\n",
       "      <th>8</th>\n",
       "      <td>erlang</td>\n",
       "      <td>% The Computer Language Benchmarks Game\\n% htt...</td>\n",
       "    </tr>\n",
       "    <tr>\n",
       "      <th>9</th>\n",
       "      <td>erlang</td>\n",
       "      <td>% The Computer Language Benchmarks Game\\n% htt...</td>\n",
       "    </tr>\n",
       "    <tr>\n",
       "      <th>10</th>\n",
       "      <td>fpascal</td>\n",
       "      <td>(*\\n  The Computer Language Benchmarks Game\\n ...</td>\n",
       "    </tr>\n",
       "    <tr>\n",
       "      <th>11</th>\n",
       "      <td>fsharp</td>\n",
       "      <td>﻿(*\\n      The Computer Language Benchmarks Ga...</td>\n",
       "    </tr>\n",
       "    <tr>\n",
       "      <th>12</th>\n",
       "      <td>fsharp</td>\n",
       "      <td>﻿// The Computer Language Benchmarks Game\\n// ...</td>\n",
       "    </tr>\n",
       "    <tr>\n",
       "      <th>13</th>\n",
       "      <td>fsharp</td>\n",
       "      <td>﻿// The Computer Language Benchmarks Game\\n// ...</td>\n",
       "    </tr>\n",
       "    <tr>\n",
       "      <th>14</th>\n",
       "      <td>gcc</td>\n",
       "      <td>/* The Computer Language Benchmarks Game\\n * h...</td>\n",
       "    </tr>\n",
       "    <tr>\n",
       "      <th>15</th>\n",
       "      <td>gcc</td>\n",
       "      <td>/* \\n * The Computer Language Benchmarks Game ...</td>\n",
       "    </tr>\n",
       "    <tr>\n",
       "      <th>16</th>\n",
       "      <td>gcc</td>\n",
       "      <td>// The Computer Language Benchmarks Game\\n// h...</td>\n",
       "    </tr>\n",
       "    <tr>\n",
       "      <th>17</th>\n",
       "      <td>gcc</td>\n",
       "      <td>/* The Computer Language Benchmarks Game\\n * h...</td>\n",
       "    </tr>\n",
       "    <tr>\n",
       "      <th>18</th>\n",
       "      <td>gcc</td>\n",
       "      <td>/* The Computer Language Benchmarks Game\\n * h...</td>\n",
       "    </tr>\n",
       "    <tr>\n",
       "      <th>19</th>\n",
       "      <td>gcc</td>\n",
       "      <td>/* The Computer Language Benchmarks Game\\n * h...</td>\n",
       "    </tr>\n",
       "    <tr>\n",
       "      <th>20</th>\n",
       "      <td>ghc</td>\n",
       "      <td>--\\n-- The Computer Language Benchmarks Game\\n...</td>\n",
       "    </tr>\n",
       "    <tr>\n",
       "      <th>21</th>\n",
       "      <td>ghc</td>\n",
       "      <td>--\\n-- The Computer Language Benchmarks Game\\n...</td>\n",
       "    </tr>\n",
       "    <tr>\n",
       "      <th>22</th>\n",
       "      <td>ghc</td>\n",
       "      <td>--\\n-- The Computer Language Benchmarks Game\\n...</td>\n",
       "    </tr>\n",
       "    <tr>\n",
       "      <th>23</th>\n",
       "      <td>gnat</td>\n",
       "      <td>-- The Computer Language Benchmarks Game\\n-- h...</td>\n",
       "    </tr>\n",
       "    <tr>\n",
       "      <th>24</th>\n",
       "      <td>gnat</td>\n",
       "      <td>-- The Computer Language Benchmarks Game\\n-- h...</td>\n",
       "    </tr>\n",
       "    <tr>\n",
       "      <th>25</th>\n",
       "      <td>gnat</td>\n",
       "      <td>--  The Computer Language Benchmarks Game\\n-- ...</td>\n",
       "    </tr>\n",
       "    <tr>\n",
       "      <th>26</th>\n",
       "      <td>gnat</td>\n",
       "      <td>--  The Computer Language Benchmarks Game\\n-- ...</td>\n",
       "    </tr>\n",
       "    <tr>\n",
       "      <th>27</th>\n",
       "      <td>go</td>\n",
       "      <td>/* The Computer Language Benchmarks Game\\n * h...</td>\n",
       "    </tr>\n",
       "    <tr>\n",
       "      <th>28</th>\n",
       "      <td>go</td>\n",
       "      <td>/* The Computer Language Benchmarks Game\\n * h...</td>\n",
       "    </tr>\n",
       "    <tr>\n",
       "      <th>29</th>\n",
       "      <td>go</td>\n",
       "      <td>/* The Computer Language Benchmarks Game\\n * h...</td>\n",
       "    </tr>\n",
       "    <tr>\n",
       "      <th>...</th>\n",
       "      <td>...</td>\n",
       "      <td>...</td>\n",
       "    </tr>\n",
       "    <tr>\n",
       "      <th>893</th>\n",
       "      <td>go</td>\n",
       "      <td>/* The Computer Language Benchmarks Game\\n   h...</td>\n",
       "    </tr>\n",
       "    <tr>\n",
       "      <th>894</th>\n",
       "      <td>gpp</td>\n",
       "      <td>/*\\n* The Computer Language Benchmarks Game\\n*...</td>\n",
       "    </tr>\n",
       "    <tr>\n",
       "      <th>895</th>\n",
       "      <td>gpp</td>\n",
       "      <td>/*\\n * The Computer Language Benchmarks Game\\n...</td>\n",
       "    </tr>\n",
       "    <tr>\n",
       "      <th>896</th>\n",
       "      <td>gpp</td>\n",
       "      <td>/*\\n* The Computer Language Benchmarks Game\\n*...</td>\n",
       "    </tr>\n",
       "    <tr>\n",
       "      <th>897</th>\n",
       "      <td>gpp</td>\n",
       "      <td>/*\\n* The Computer Language Benchmarks Game\\n*...</td>\n",
       "    </tr>\n",
       "    <tr>\n",
       "      <th>898</th>\n",
       "      <td>gpp</td>\n",
       "      <td>/*\\n* The Computer Language Benchmarks Game\\n*...</td>\n",
       "    </tr>\n",
       "    <tr>\n",
       "      <th>899</th>\n",
       "      <td>java</td>\n",
       "      <td>/**\\n * The Computer Language Benchmarks Game\\...</td>\n",
       "    </tr>\n",
       "    <tr>\n",
       "      <th>900</th>\n",
       "      <td>java</td>\n",
       "      <td>/**\\n * The Computer Language Benchmarks Game\\...</td>\n",
       "    </tr>\n",
       "    <tr>\n",
       "      <th>901</th>\n",
       "      <td>java</td>\n",
       "      <td>/**\\n * The Computer Language Benchmarks Game\\...</td>\n",
       "    </tr>\n",
       "    <tr>\n",
       "      <th>902</th>\n",
       "      <td>java</td>\n",
       "      <td>/**\\n * The Computer Language Benchmarks Game\\...</td>\n",
       "    </tr>\n",
       "    <tr>\n",
       "      <th>903</th>\n",
       "      <td>java</td>\n",
       "      <td>/**\\n * The Computer Language Benchmarks Game\\...</td>\n",
       "    </tr>\n",
       "    <tr>\n",
       "      <th>904</th>\n",
       "      <td>java</td>\n",
       "      <td>/**\\n * The Computer Language Benchmarks Game\\...</td>\n",
       "    </tr>\n",
       "    <tr>\n",
       "      <th>905</th>\n",
       "      <td>jruby</td>\n",
       "      <td># The Computer Language Benchmarks Game\\n# htt...</td>\n",
       "    </tr>\n",
       "    <tr>\n",
       "      <th>906</th>\n",
       "      <td>jruby</td>\n",
       "      <td># The Computer Language Benchmarks Game\\n# htt...</td>\n",
       "    </tr>\n",
       "    <tr>\n",
       "      <th>907</th>\n",
       "      <td>lua</td>\n",
       "      <td>-- The Computer Language Benchmarks Game\\n-- h...</td>\n",
       "    </tr>\n",
       "    <tr>\n",
       "      <th>908</th>\n",
       "      <td>ocaml</td>\n",
       "      <td>(* The Computer Language Benchmarks Game\\n * h...</td>\n",
       "    </tr>\n",
       "    <tr>\n",
       "      <th>909</th>\n",
       "      <td>ocaml</td>\n",
       "      <td>(* The Computer Language Benchmarks Game\\n * h...</td>\n",
       "    </tr>\n",
       "    <tr>\n",
       "      <th>910</th>\n",
       "      <td>ocaml</td>\n",
       "      <td>(* The Computer Language Benchmarks Game\\n * h...</td>\n",
       "    </tr>\n",
       "    <tr>\n",
       "      <th>911</th>\n",
       "      <td>oz</td>\n",
       "      <td>% The Computer Language Benchmarks Game       ...</td>\n",
       "    </tr>\n",
       "    <tr>\n",
       "      <th>912</th>\n",
       "      <td>perl</td>\n",
       "      <td># The Computer Language Benchmarks Game\\n# htt...</td>\n",
       "    </tr>\n",
       "    <tr>\n",
       "      <th>913</th>\n",
       "      <td>perl</td>\n",
       "      <td># The Computer Language Benchmarks Game\\n# htt...</td>\n",
       "    </tr>\n",
       "    <tr>\n",
       "      <th>914</th>\n",
       "      <td>python3</td>\n",
       "      <td># The Computer Language Benchmarks Game\\n# htt...</td>\n",
       "    </tr>\n",
       "    <tr>\n",
       "      <th>915</th>\n",
       "      <td>python3</td>\n",
       "      <td># The Computer Language Benchmarks Game\\n# htt...</td>\n",
       "    </tr>\n",
       "    <tr>\n",
       "      <th>916</th>\n",
       "      <td>racket</td>\n",
       "      <td>#lang racket/base\\n\\n;;; The Computer Language...</td>\n",
       "    </tr>\n",
       "    <tr>\n",
       "      <th>917</th>\n",
       "      <td>sbcl</td>\n",
       "      <td>;;; The Computer Language Benchmarks Game\\n;;;...</td>\n",
       "    </tr>\n",
       "    <tr>\n",
       "      <th>918</th>\n",
       "      <td>sbcl</td>\n",
       "      <td>;;; The Computer Language Benchmarks Game\\n;;;...</td>\n",
       "    </tr>\n",
       "    <tr>\n",
       "      <th>919</th>\n",
       "      <td>scala</td>\n",
       "      <td>/* The Computer Language Benchmarks Game\\n   h...</td>\n",
       "    </tr>\n",
       "    <tr>\n",
       "      <th>920</th>\n",
       "      <td>vw</td>\n",
       "      <td>\"* The Computer Language Benchmarks Game\\n    ...</td>\n",
       "    </tr>\n",
       "    <tr>\n",
       "      <th>921</th>\n",
       "      <td>yarv</td>\n",
       "      <td># The Computer Language Benchmarks Game\\n# htt...</td>\n",
       "    </tr>\n",
       "    <tr>\n",
       "      <th>922</th>\n",
       "      <td>yarv</td>\n",
       "      <td># The Computer Language Benchmarks Game\\n# htt...</td>\n",
       "    </tr>\n",
       "  </tbody>\n",
       "</table>\n",
       "<p>923 rows × 2 columns</p>\n",
       "</div>"
      ],
      "text/plain": [
       "    language                                               text\n",
       "0        ats  (*\\n** The Computer Language Benchmarks Game\\n...\n",
       "1        ats  (*\\n** The Computer Language Benchmarks Game\\n...\n",
       "2    clojure  ;; The Computer Language Benchmarks Game\\n;; h...\n",
       "3    clojure  ;; The Computer Language Benchmarks Game\\n;; h...\n",
       "4    clojure  ;; The Computer Language Benchmarks Game\\n;; h...\n",
       "5     csharp  ﻿/*\\n      The Computer Language Benchmarks Ga...\n",
       "6     csharp  /* The Computer Language Benchmarks Game\\n   h...\n",
       "7       dart  /* The Computer Language Benchmarks game\\n   h...\n",
       "8     erlang  % The Computer Language Benchmarks Game\\n% htt...\n",
       "9     erlang  % The Computer Language Benchmarks Game\\n% htt...\n",
       "10   fpascal  (*\\n  The Computer Language Benchmarks Game\\n ...\n",
       "11    fsharp  ﻿(*\\n      The Computer Language Benchmarks Ga...\n",
       "12    fsharp  ﻿// The Computer Language Benchmarks Game\\n// ...\n",
       "13    fsharp  ﻿// The Computer Language Benchmarks Game\\n// ...\n",
       "14       gcc  /* The Computer Language Benchmarks Game\\n * h...\n",
       "15       gcc  /* \\n * The Computer Language Benchmarks Game ...\n",
       "16       gcc  // The Computer Language Benchmarks Game\\n// h...\n",
       "17       gcc  /* The Computer Language Benchmarks Game\\n * h...\n",
       "18       gcc  /* The Computer Language Benchmarks Game\\n * h...\n",
       "19       gcc  /* The Computer Language Benchmarks Game\\n * h...\n",
       "20       ghc  --\\n-- The Computer Language Benchmarks Game\\n...\n",
       "21       ghc  --\\n-- The Computer Language Benchmarks Game\\n...\n",
       "22       ghc  --\\n-- The Computer Language Benchmarks Game\\n...\n",
       "23      gnat  -- The Computer Language Benchmarks Game\\n-- h...\n",
       "24      gnat  -- The Computer Language Benchmarks Game\\n-- h...\n",
       "25      gnat  --  The Computer Language Benchmarks Game\\n-- ...\n",
       "26      gnat  --  The Computer Language Benchmarks Game\\n-- ...\n",
       "27        go  /* The Computer Language Benchmarks Game\\n * h...\n",
       "28        go  /* The Computer Language Benchmarks Game\\n * h...\n",
       "29        go  /* The Computer Language Benchmarks Game\\n * h...\n",
       "..       ...                                                ...\n",
       "893       go  /* The Computer Language Benchmarks Game\\n   h...\n",
       "894      gpp  /*\\n* The Computer Language Benchmarks Game\\n*...\n",
       "895      gpp  /*\\n * The Computer Language Benchmarks Game\\n...\n",
       "896      gpp  /*\\n* The Computer Language Benchmarks Game\\n*...\n",
       "897      gpp  /*\\n* The Computer Language Benchmarks Game\\n*...\n",
       "898      gpp  /*\\n* The Computer Language Benchmarks Game\\n*...\n",
       "899     java  /**\\n * The Computer Language Benchmarks Game\\...\n",
       "900     java  /**\\n * The Computer Language Benchmarks Game\\...\n",
       "901     java  /**\\n * The Computer Language Benchmarks Game\\...\n",
       "902     java  /**\\n * The Computer Language Benchmarks Game\\...\n",
       "903     java  /**\\n * The Computer Language Benchmarks Game\\...\n",
       "904     java  /**\\n * The Computer Language Benchmarks Game\\...\n",
       "905    jruby  # The Computer Language Benchmarks Game\\n# htt...\n",
       "906    jruby  # The Computer Language Benchmarks Game\\n# htt...\n",
       "907      lua  -- The Computer Language Benchmarks Game\\n-- h...\n",
       "908    ocaml  (* The Computer Language Benchmarks Game\\n * h...\n",
       "909    ocaml  (* The Computer Language Benchmarks Game\\n * h...\n",
       "910    ocaml  (* The Computer Language Benchmarks Game\\n * h...\n",
       "911       oz  % The Computer Language Benchmarks Game       ...\n",
       "912     perl  # The Computer Language Benchmarks Game\\n# htt...\n",
       "913     perl  # The Computer Language Benchmarks Game\\n# htt...\n",
       "914  python3  # The Computer Language Benchmarks Game\\n# htt...\n",
       "915  python3  # The Computer Language Benchmarks Game\\n# htt...\n",
       "916   racket  #lang racket/base\\n\\n;;; The Computer Language...\n",
       "917     sbcl  ;;; The Computer Language Benchmarks Game\\n;;;...\n",
       "918     sbcl  ;;; The Computer Language Benchmarks Game\\n;;;...\n",
       "919    scala  /* The Computer Language Benchmarks Game\\n   h...\n",
       "920       vw  \"* The Computer Language Benchmarks Game\\n    ...\n",
       "921     yarv  # The Computer Language Benchmarks Game\\n# htt...\n",
       "922     yarv  # The Computer Language Benchmarks Game\\n# htt...\n",
       "\n",
       "[923 rows x 2 columns]"
      ]
     },
     "execution_count": 84,
     "metadata": {},
     "output_type": "execute_result"
    }
   ],
   "source": [
    "def load_bench_data():\n",
    "    text = ''\n",
    "    df = pd.DataFrame(columns=['language', 'text'])\n",
    "    files = glob.glob('bench/*/*')\n",
    "\n",
    "    for fn in files:\n",
    "        try:\n",
    "            with open(fn) as fh:\n",
    "                data = {'language': extract_extension(fn),\n",
    "                        'text': ''.join(fh.readlines())}\n",
    "                if data['language'] and data['text']:\n",
    "                    df = df.append(data, ignore_index=True)\n",
    "        except (IsADirectoryError, UnicodeDecodeError):\n",
    "            pass\n",
    "    return df\n",
    "\n",
    "df = load_bench_data()\n",
    "df"
   ]
  },
  {
   "cell_type": "code",
   "execution_count": 86,
   "metadata": {
    "collapsed": false
   },
   "outputs": [
    {
     "data": {
      "text/html": [
       "<div style=\"max-height:1000px;max-width:1500px;overflow:auto;\">\n",
       "<table border=\"1\" class=\"dataframe\">\n",
       "  <thead>\n",
       "    <tr style=\"text-align: right;\">\n",
       "      <th></th>\n",
       "      <th>language</th>\n",
       "      <th>text</th>\n",
       "    </tr>\n",
       "  </thead>\n",
       "  <tbody>\n",
       "  </tbody>\n",
       "</table>\n",
       "</div>"
      ],
      "text/plain": [
       "Empty DataFrame\n",
       "Columns: [language, text]\n",
       "Index: []"
      ]
     },
     "execution_count": 86,
     "metadata": {},
     "output_type": "execute_result"
    }
   ],
   "source": [
    "df[df.language == None]"
   ]
  },
  {
   "cell_type": "code",
   "execution_count": 5,
   "metadata": {
    "collapsed": false
   },
   "outputs": [],
   "source": [
    "# walker = os.walk('./bench/binarytrees/')\n",
    "# next(walker)"
   ]
  },
  {
   "cell_type": "code",
   "execution_count": 95,
   "metadata": {
    "collapsed": false
   },
   "outputs": [],
   "source": [
    "def test_classifier(pipe, *split_args):\n",
    "    #classifier = classifierType()\n",
    "    pipe.fit(split_args[0], split_args[2])\n",
    "#     predicted = classifier.predict(X_test)\n",
    "    train_score = pipe.score(split_args[0], split_args[2])\n",
    "    test_score = pipe.score(split_args[1], split_args[3])\n",
    "    print('Train score: {:.3f}, Test score: {:.3f}'.format(train_score, test_score))\n",
    "    return pipe"
   ]
  },
  {
   "cell_type": "code",
   "execution_count": 93,
   "metadata": {
    "collapsed": false
   },
   "outputs": [],
   "source": [
    "X = df.text\n",
    "y = df.language\n",
    "args = train_test_split(X, y, test_size=0.2, )#random_state=0) # X_train, X_test, y_train, y_test\n"
   ]
  },
  {
   "cell_type": "code",
   "execution_count": 94,
   "metadata": {
    "collapsed": false
   },
   "outputs": [
    {
     "name": "stdout",
     "output_type": "stream",
     "text": [
      "Train score: 0.9132791327913279, Test score: 0.67\n"
     ]
    }
   ],
   "source": [
    "spam_pipe = Pipeline([('bag_of_words', CountVectorizer()),\n",
    "#                       ('tfidf', TfidfTransformer()),\n",
    "                      ('bayes', MultinomialNB())])\n",
    "# spam_pipe\n",
    "classifier = test_classifier(spam_pipe, *args)\n"
   ]
  },
  {
   "cell_type": "code",
   "execution_count": 9,
   "metadata": {
    "collapsed": false
   },
   "outputs": [
    {
     "data": {
      "text/plain": [
       "array(['gpp', 'gpp', 'gpp', ..., 'gpp', 'gpp', 'gpp'], \n",
       "      dtype='<U10')"
      ]
     },
     "execution_count": 9,
     "metadata": {},
     "output_type": "execute_result"
    }
   ],
   "source": [
    "classifier.predict(args[1].iloc[2])"
   ]
  },
  {
   "cell_type": "markdown",
   "metadata": {},
   "source": [
    "####With data from a small dataset (the binarytree directory only, ~80 files), the bag_of_words/multinomial naive Bayes' pipeline got high training scores (>0.9), but low test scores (between ~0.05 and ~0.5).\n",
    "####With the larger dataset ( > 900 files), the score was consistently between 0.65 and 0.75"
   ]
  },
  {
   "cell_type": "code",
   "execution_count": 10,
   "metadata": {
    "collapsed": false
   },
   "outputs": [
    {
     "name": "stdout",
     "output_type": "stream",
     "text": [
      "Train score: 0.7859078590785907, Test score: 0.5837837837837838\n"
     ]
    }
   ],
   "source": [
    "spam_pipe = Pipeline([('bag_of_words', CountVectorizer()),\n",
    "                       ('tfidf', TfidfTransformer()),\n",
    "                      ('bayes', MultinomialNB())])\n",
    "# spam_pipe\n",
    "classifier = test_classifier(spam_pipe, *args)\n"
   ]
  },
  {
   "cell_type": "markdown",
   "metadata": {},
   "source": [
    "####Adding tfidf into the pipeline made it perform significantly worse"
   ]
  },
  {
   "cell_type": "code",
   "execution_count": 11,
   "metadata": {
    "collapsed": true
   },
   "outputs": [],
   "source": [
    "from sklearn.ensemble import RandomForestClassifier"
   ]
  },
  {
   "cell_type": "code",
   "execution_count": 12,
   "metadata": {
    "collapsed": false
   },
   "outputs": [
    {
     "name": "stdout",
     "output_type": "stream",
     "text": [
      "CPU times: user 3 µs, sys: 0 ns, total: 3 µs\n",
      "Wall time: 5.96 µs\n",
      "Train score: 0.9728997289972899, Test score: 0.8378378378378378\n"
     ]
    }
   ],
   "source": [
    "%time\n",
    "#clf = RandomForestClassifier(n_estimators=100, )#random_state=0)\n",
    "#visualize_tree(clf, X, y, boundaries=False);\n",
    "\n",
    "spam_pipe = Pipeline([('bag_of_words', CountVectorizer()),\n",
    "                       ('tfidf', TfidfTransformer()),\n",
    "                      ('RFC', RandomForestClassifier())])\n",
    "classifier = test_classifier(spam_pipe, *args)"
   ]
  },
  {
   "cell_type": "markdown",
   "metadata": {},
   "source": [
    "####Random Forest with 10 estimators (default) is consistently > 0.80, usually in the range 0.8 to 0.9.  With n=10, it takes a few microseconds to run on the ~900 entry dataset."
   ]
  },
  {
   "cell_type": "code",
   "execution_count": 13,
   "metadata": {
    "collapsed": false
   },
   "outputs": [
    {
     "name": "stdout",
     "output_type": "stream",
     "text": [
      "CPU times: user 3 µs, sys: 1 µs, total: 4 µs\n",
      "Wall time: 8.11 µs\n",
      "Train score: 0.975609756097561, Test score: 0.8540540540540541\n"
     ]
    }
   ],
   "source": [
    "%time\n",
    "#visualize_tree(clf, X, y, boundaries=False);\n",
    "\n",
    "spam_pipe = Pipeline([('bag_of_words', CountVectorizer()),\n",
    "                       ('tfidf', TfidfTransformer()),\n",
    "                      ('RFC', RandomForestClassifier())])\n",
    "spam_pipe.set_params(RFC__n_estimators=1000)\n",
    "classifier = test_classifier(spam_pipe, *args)"
   ]
  },
  {
   "cell_type": "markdown",
   "metadata": {},
   "source": [
    "####Not significantly better for n_estimators=1000, but it does take about 30 seconds to run"
   ]
  },
  {
   "cell_type": "markdown",
   "metadata": {},
   "source": [
    "C (.gcc, .c)\n",
    "C#\n",
    "Common Lisp (.sbcl)\n",
    "Clojure\n",
    "Haskell\n",
    "Java\n",
    "JavaScript\n",
    "OCaml\n",
    "Perl\n",
    "PHP (.hack, .php)\n",
    "Python\n",
    "Ruby (.jruby, .yarv)\n",
    "Scala\n",
    "Scheme (.racket)"
   ]
  },
  {
   "cell_type": "code",
   "execution_count": 41,
   "metadata": {
    "collapsed": false
   },
   "outputs": [
    {
     "data": {
      "text/plain": [
       "{'c': 'C',\n",
       " 'clojure': 'Clojure',\n",
       " 'csharp': 'C#',\n",
       " 'gcc': 'C',\n",
       " 'hack': 'PHP',\n",
       " 'haskell': 'Haskell',\n",
       " 'java': 'Java',\n",
       " 'javascript': 'JavaScript',\n",
       " 'jruby': 'Ruby',\n",
       " 'ocaml': 'OCaml',\n",
       " 'perl': 'Perl',\n",
       " 'php': 'PHP',\n",
       " 'python3': 'Python',\n",
       " 'racket': 'Scheme',\n",
       " 'sbcl': 'Common Lisp',\n",
       " 'scala': 'Scala',\n",
       " 'yarv': 'Ruby'}"
      ]
     },
     "execution_count": 41,
     "metadata": {},
     "output_type": "execute_result"
    }
   ],
   "source": [
    "extensions = {'C' : ['gcc', 'c'],\n",
    "              'C#' : 'csharp',\n",
    "              'Common Lisp' : 'sbcl',\n",
    "              'Clojure' : 'clojure',\n",
    "              'Haskell' : 'haskell',\n",
    "              'Java' : 'java',\n",
    "              'JavaScript' : 'javascript',\n",
    "              'OCaml' : 'ocaml',\n",
    "              'Perl' : 'perl',\n",
    "              'PHP' : ['hack','php'],\n",
    "              'Python' : 'python3',\n",
    "              'Ruby' : ['jruby', 'yarv'],\n",
    "              'Scala' : 'scala',\n",
    "              'Scheme' : 'racket',\n",
    "    \n",
    "}\n",
    "\n",
    "ext_lookup = {}\n",
    "for key, value in extensions.items():\n",
    "    \"\"\"Flip the dictionary around\"\"\"\n",
    "    if type(value) == type([]): #hasattr(value, '__iter__'):\n",
    "        for value2 in value:\n",
    "            ext_lookup[value2] = key\n",
    "    else:\n",
    "        ext_lookup[value] = key\n",
    "ext_lookup"
   ]
  },
  {
   "cell_type": "code",
   "execution_count": 15,
   "metadata": {
    "collapsed": false
   },
   "outputs": [
    {
     "data": {
      "text/plain": [
       "array(['ats', 'clojure', 'csharp', 'dart', 'erlang', 'fpascal', 'fsharp',\n",
       "       'gcc', 'ghc', 'gnat', 'go', 'gpp', 'hack', 'ifc', 'java',\n",
       "       'javascript', 'jruby', 'lua', 'ocaml', 'oz', 'perl', 'php',\n",
       "       'python3', 'racket', 'rust', 'sbcl', 'scala', 'vw', 'yarv', 'cint',\n",
       "       'h', 'javasteady', 'parrot'], dtype=object)"
      ]
     },
     "execution_count": 15,
     "metadata": {},
     "output_type": "execute_result"
    }
   ],
   "source": [
    "df.language.unique()"
   ]
  },
  {
   "cell_type": "code",
   "execution_count": null,
   "metadata": {
    "collapsed": false
   },
   "outputs": [],
   "source": []
  },
  {
   "cell_type": "code",
   "execution_count": 16,
   "metadata": {
    "collapsed": false
   },
   "outputs": [],
   "source": [
    "# from sklearn.tree import DecisionTreeClassifier, export_graphviz\n",
    "# classifier = test_classifier(DecisionTreeClassifier(criterion='entropy'), *args)\n",
    "# export_graphviz(classifier, out_file='tree.dot')  "
   ]
  },
  {
   "cell_type": "code",
   "execution_count": 53,
   "metadata": {
    "collapsed": false
   },
   "outputs": [
    {
     "data": {
      "text/html": [
       "<div style=\"max-height:1000px;max-width:1500px;overflow:auto;\">\n",
       "<table border=\"1\" class=\"dataframe\">\n",
       "  <thead>\n",
       "    <tr style=\"text-align: right;\">\n",
       "      <th></th>\n",
       "      <th>item</th>\n",
       "      <th>language</th>\n",
       "      <th>text</th>\n",
       "      <th>guess</th>\n",
       "    </tr>\n",
       "  </thead>\n",
       "  <tbody>\n",
       "    <tr>\n",
       "      <th>0</th>\n",
       "      <td>1</td>\n",
       "      <td>clojure</td>\n",
       "      <td>NaN</td>\n",
       "      <td>NaN</td>\n",
       "    </tr>\n",
       "    <tr>\n",
       "      <th>1</th>\n",
       "      <td>2</td>\n",
       "      <td>clojure</td>\n",
       "      <td>NaN</td>\n",
       "      <td>NaN</td>\n",
       "    </tr>\n",
       "    <tr>\n",
       "      <th>2</th>\n",
       "      <td>3</td>\n",
       "      <td>clojure</td>\n",
       "      <td>NaN</td>\n",
       "      <td>NaN</td>\n",
       "    </tr>\n",
       "    <tr>\n",
       "      <th>3</th>\n",
       "      <td>4</td>\n",
       "      <td>clojure</td>\n",
       "      <td>NaN</td>\n",
       "      <td>NaN</td>\n",
       "    </tr>\n",
       "    <tr>\n",
       "      <th>4</th>\n",
       "      <td>5</td>\n",
       "      <td>python</td>\n",
       "      <td>NaN</td>\n",
       "      <td>NaN</td>\n",
       "    </tr>\n",
       "  </tbody>\n",
       "</table>\n",
       "</div>"
      ],
      "text/plain": [
       "   item language  text  guess\n",
       "0     1  clojure   NaN    NaN\n",
       "1     2  clojure   NaN    NaN\n",
       "2     3  clojure   NaN    NaN\n",
       "3     4  clojure   NaN    NaN\n",
       "4     5   python   NaN    NaN"
      ]
     },
     "execution_count": 53,
     "metadata": {},
     "output_type": "execute_result"
    }
   ],
   "source": [
    "test_data = pd.read_csv('./test.csv', names=['item', 'language', 'text', 'guess'])\n",
    "test_data.head()"
   ]
  },
  {
   "cell_type": "code",
   "execution_count": 54,
   "metadata": {
    "collapsed": false
   },
   "outputs": [
    {
     "data": {
      "text/html": [
       "<div style=\"max-height:1000px;max-width:1500px;overflow:auto;\">\n",
       "<table border=\"1\" class=\"dataframe\">\n",
       "  <thead>\n",
       "    <tr style=\"text-align: right;\">\n",
       "      <th></th>\n",
       "      <th>item</th>\n",
       "      <th>language</th>\n",
       "      <th>text</th>\n",
       "      <th>guess</th>\n",
       "    </tr>\n",
       "  </thead>\n",
       "  <tbody>\n",
       "    <tr>\n",
       "      <th>0</th>\n",
       "      <td>1</td>\n",
       "      <td>clojure</td>\n",
       "      <td>(defn cf-settings\\n  \"Setup settings for campf...</td>\n",
       "      <td>NaN</td>\n",
       "    </tr>\n",
       "    <tr>\n",
       "      <th>1</th>\n",
       "      <td>2</td>\n",
       "      <td>clojure</td>\n",
       "      <td>var _ = require('lodash'),\\n    fs = require('...</td>\n",
       "      <td>NaN</td>\n",
       "    </tr>\n",
       "    <tr>\n",
       "      <th>2</th>\n",
       "      <td>3</td>\n",
       "      <td>clojure</td>\n",
       "      <td>/* Riot v2.0.8, @license MIT, (c) 2015 Muut In...</td>\n",
       "      <td>NaN</td>\n",
       "    </tr>\n",
       "    <tr>\n",
       "      <th>3</th>\n",
       "      <td>4</td>\n",
       "      <td>clojure</td>\n",
       "      <td>var r = riot.route = function(arg) {\\n    //...</td>\n",
       "      <td>NaN</td>\n",
       "    </tr>\n",
       "    <tr>\n",
       "      <th>4</th>\n",
       "      <td>5</td>\n",
       "      <td>python</td>\n",
       "      <td>module ActiveJob\\n  module Core\\n    extend Ac...</td>\n",
       "      <td>NaN</td>\n",
       "    </tr>\n",
       "  </tbody>\n",
       "</table>\n",
       "</div>"
      ],
      "text/plain": [
       "   item language                                               text  guess\n",
       "0     1  clojure  (defn cf-settings\\n  \"Setup settings for campf...    NaN\n",
       "1     2  clojure  var _ = require('lodash'),\\n    fs = require('...    NaN\n",
       "2     3  clojure  /* Riot v2.0.8, @license MIT, (c) 2015 Muut In...    NaN\n",
       "3     4  clojure    var r = riot.route = function(arg) {\\n    //...    NaN\n",
       "4     5   python  module ActiveJob\\n  module Core\\n    extend Ac...    NaN"
      ]
     },
     "execution_count": 54,
     "metadata": {},
     "output_type": "execute_result"
    }
   ],
   "source": [
    "test_files = glob.glob('./test/*')\n",
    "\n",
    "for (idx, fn) in enumerate(test_files):\n",
    "#     try:\n",
    "    with open(fn) as fh:\n",
    "#         df.loc[extract_extension(fn)] = ''.join(fh.readlines())\n",
    "#         data = {'language': extract_extension(fn),\n",
    "#                 'text': ''.join(fh.readlines())}\n",
    "#         if data['language'] and data['text']:\n",
    "#             df = df.append(data, ignore_index = True)\n",
    "#     except (IsADirectoryError, UnicodeDecodeError):\n",
    "#         pass\n",
    "        #test_data['text'][idx] = ''.join(fh.readlines())\n",
    "        test_data.ix[idx, 'text'] = ''.join(fh.readlines())\n",
    "test_data.head()"
   ]
  },
  {
   "cell_type": "code",
   "execution_count": 55,
   "metadata": {
    "collapsed": false
   },
   "outputs": [
    {
     "name": "stdout",
     "output_type": "stream",
     "text": [
      "Train score: 0.9227642276422764, Test score: 0.7135135135135136\n"
     ]
    }
   ],
   "source": [
    "spam_pipe = Pipeline([('bag_of_words', CountVectorizer()),\n",
    "#                       ('tfidf', TfidfTransformer()),\n",
    "                      ('bayes', MultinomialNB())])\n",
    "# spam_pipe\n",
    "classifier = test_classifier(spam_pipe, *args)\n"
   ]
  },
  {
   "cell_type": "code",
   "execution_count": 61,
   "metadata": {
    "collapsed": false
   },
   "outputs": [
    {
     "data": {
      "text/plain": [
       "0.0625"
      ]
     },
     "execution_count": 61,
     "metadata": {},
     "output_type": "execute_result"
    }
   ],
   "source": [
    "test_data['guess'] = pd.DataFrame(spam_pipe.predict(test_data['text']))\n",
    "correct = test_data[test_data.language == test_data.guess]\n",
    "len(correct)/len(test_data)"
   ]
  },
  {
   "cell_type": "code",
   "execution_count": 62,
   "metadata": {
    "collapsed": false
   },
   "outputs": [
    {
     "data": {
      "text/html": [
       "<div style=\"max-height:1000px;max-width:1500px;overflow:auto;\">\n",
       "<table border=\"1\" class=\"dataframe\">\n",
       "  <thead>\n",
       "    <tr style=\"text-align: right;\">\n",
       "      <th></th>\n",
       "      <th>item</th>\n",
       "      <th>language</th>\n",
       "      <th>text</th>\n",
       "      <th>guess</th>\n",
       "    </tr>\n",
       "  </thead>\n",
       "  <tbody>\n",
       "    <tr>\n",
       "      <th>0</th>\n",
       "      <td>1</td>\n",
       "      <td>clojure</td>\n",
       "      <td>(defn cf-settings\\n  \"Setup settings for campf...</td>\n",
       "      <td>clojure</td>\n",
       "    </tr>\n",
       "    <tr>\n",
       "      <th>1</th>\n",
       "      <td>2</td>\n",
       "      <td>clojure</td>\n",
       "      <td>var _ = require('lodash'),\\n    fs = require('...</td>\n",
       "      <td>javascript</td>\n",
       "    </tr>\n",
       "    <tr>\n",
       "      <th>2</th>\n",
       "      <td>3</td>\n",
       "      <td>clojure</td>\n",
       "      <td>/* Riot v2.0.8, @license MIT, (c) 2015 Muut In...</td>\n",
       "      <td>clojure</td>\n",
       "    </tr>\n",
       "    <tr>\n",
       "      <th>3</th>\n",
       "      <td>4</td>\n",
       "      <td>clojure</td>\n",
       "      <td>var r = riot.route = function(arg) {\\n    //...</td>\n",
       "      <td>lua</td>\n",
       "    </tr>\n",
       "    <tr>\n",
       "      <th>4</th>\n",
       "      <td>5</td>\n",
       "      <td>python</td>\n",
       "      <td>module ActiveJob\\n  module Core\\n    extend Ac...</td>\n",
       "      <td>yarv</td>\n",
       "    </tr>\n",
       "    <tr>\n",
       "      <th>5</th>\n",
       "      <td>6</td>\n",
       "      <td>python</td>\n",
       "      <td>require 'formula'\\n\\nclass A52dec &lt; Formula\\n ...</td>\n",
       "      <td>clojure</td>\n",
       "    </tr>\n",
       "    <tr>\n",
       "      <th>6</th>\n",
       "      <td>7</td>\n",
       "      <td>python</td>\n",
       "      <td>module Fluent\\n  class Input\\n    include Conf...</td>\n",
       "      <td>jruby</td>\n",
       "    </tr>\n",
       "    <tr>\n",
       "      <th>7</th>\n",
       "      <td>8</td>\n",
       "      <td>python</td>\n",
       "      <td>{-# LANGUAGE ScopedTypeVariables, FlexibleInst...</td>\n",
       "      <td>ghc</td>\n",
       "    </tr>\n",
       "    <tr>\n",
       "      <th>8</th>\n",
       "      <td>9</td>\n",
       "      <td>javascript</td>\n",
       "      <td>reverseDependencies :: ModuleGraph -&gt; M.Map Mo...</td>\n",
       "      <td>ghc</td>\n",
       "    </tr>\n",
       "    <tr>\n",
       "      <th>9</th>\n",
       "      <td>10</td>\n",
       "      <td>javascript</td>\n",
       "      <td>{- git-annex extra config files\\n -\\n - Copyri...</td>\n",
       "      <td>clojure</td>\n",
       "    </tr>\n",
       "    <tr>\n",
       "      <th>10</th>\n",
       "      <td>11</td>\n",
       "      <td>javascript</td>\n",
       "      <td>(define subst-f\\n  (lambda (new old l)\\n    (c...</td>\n",
       "      <td>sbcl</td>\n",
       "    </tr>\n",
       "    <tr>\n",
       "      <th>11</th>\n",
       "      <td>12</td>\n",
       "      <td>javascript</td>\n",
       "      <td>(ns my-cli.core)\\n\\n(defn -main [&amp; args]\\n  (p...</td>\n",
       "      <td>clojure</td>\n",
       "    </tr>\n",
       "    <tr>\n",
       "      <th>12</th>\n",
       "      <td>13</td>\n",
       "      <td>ruby</td>\n",
       "      <td>(define add1\\n  (lambda (n) (+ n 1)))</td>\n",
       "      <td>racket</td>\n",
       "    </tr>\n",
       "    <tr>\n",
       "      <th>13</th>\n",
       "      <td>14</td>\n",
       "      <td>ruby</td>\n",
       "      <td>(define-lib-primitive (length lst)\\n  (if (nul...</td>\n",
       "      <td>racket</td>\n",
       "    </tr>\n",
       "    <tr>\n",
       "      <th>14</th>\n",
       "      <td>15</td>\n",
       "      <td>ruby</td>\n",
       "      <td>/**\\n * Interface to represent a persistence s...</td>\n",
       "      <td>java</td>\n",
       "    </tr>\n",
       "    <tr>\n",
       "      <th>15</th>\n",
       "      <td>16</td>\n",
       "      <td>haskell</td>\n",
       "      <td>/*\\n * Copyright 2002-2008 the original author...</td>\n",
       "      <td>gnat</td>\n",
       "    </tr>\n",
       "    <tr>\n",
       "      <th>16</th>\n",
       "      <td>17</td>\n",
       "      <td>haskell</td>\n",
       "      <td>package com.github.pathikrit\\n\\nimport scala.a...</td>\n",
       "      <td>scala</td>\n",
       "    </tr>\n",
       "    <tr>\n",
       "      <th>17</th>\n",
       "      <td>18</td>\n",
       "      <td>haskell</td>\n",
       "      <td>/* sbt -- Simple Build Tool\\n * Copyright 2010...</td>\n",
       "      <td>scala</td>\n",
       "    </tr>\n",
       "    <tr>\n",
       "      <th>18</th>\n",
       "      <td>19</td>\n",
       "      <td>scheme</td>\n",
       "      <td>proc isaac::mix {a b c d e f g h} {\\n    set a...</td>\n",
       "      <td>racket</td>\n",
       "    </tr>\n",
       "    <tr>\n",
       "      <th>19</th>\n",
       "      <td>20</td>\n",
       "      <td>scheme</td>\n",
       "      <td>proc twitter::follow {nick uhost hand chan arg...</td>\n",
       "      <td>python3</td>\n",
       "    </tr>\n",
       "    <tr>\n",
       "      <th>20</th>\n",
       "      <td>21</td>\n",
       "      <td>scheme</td>\n",
       "      <td>class View\\n{\\n    /**\\n     * Data available ...</td>\n",
       "      <td>gpp</td>\n",
       "    </tr>\n",
       "    <tr>\n",
       "      <th>21</th>\n",
       "      <td>22</td>\n",
       "      <td>java</td>\n",
       "      <td>public function formatLocalized($format)\\n...</td>\n",
       "      <td>lua</td>\n",
       "    </tr>\n",
       "    <tr>\n",
       "      <th>22</th>\n",
       "      <td>23</td>\n",
       "      <td>java</td>\n",
       "      <td>(extend-type String\\n  Person\\n  (first-name [...</td>\n",
       "      <td>clojure</td>\n",
       "    </tr>\n",
       "    <tr>\n",
       "      <th>23</th>\n",
       "      <td>24</td>\n",
       "      <td>scala</td>\n",
       "      <td>class Application extends App {\\n\\t/**\\n\\t * @...</td>\n",
       "      <td>php</td>\n",
       "    </tr>\n",
       "    <tr>\n",
       "      <th>24</th>\n",
       "      <td>25</td>\n",
       "      <td>scala</td>\n",
       "      <td>type name = string\\n\\nlet compare_label label1...</td>\n",
       "      <td>ocaml</td>\n",
       "    </tr>\n",
       "    <tr>\n",
       "      <th>25</th>\n",
       "      <td>26</td>\n",
       "      <td>tcl</td>\n",
       "      <td>let search_compiler_libs () =\\n  prerr_endline...</td>\n",
       "      <td>ocaml</td>\n",
       "    </tr>\n",
       "    <tr>\n",
       "      <th>26</th>\n",
       "      <td>27</td>\n",
       "      <td>tcl</td>\n",
       "      <td>(require '[overtone.live :as overtone])\\n\\n(de...</td>\n",
       "      <td>clojure</td>\n",
       "    </tr>\n",
       "    <tr>\n",
       "      <th>27</th>\n",
       "      <td>28</td>\n",
       "      <td>php</td>\n",
       "      <td>from pkgutil import iter_modules\\nfrom subproc...</td>\n",
       "      <td>python3</td>\n",
       "    </tr>\n",
       "    <tr>\n",
       "      <th>28</th>\n",
       "      <td>29</td>\n",
       "      <td>php</td>\n",
       "      <td>import re\\nimport subprocess\\n\\ndef cmd_keymap...</td>\n",
       "      <td>clojure</td>\n",
       "    </tr>\n",
       "    <tr>\n",
       "      <th>29</th>\n",
       "      <td>30</td>\n",
       "      <td>php</td>\n",
       "      <td>class NoSuchService(Exception):\\n    def __ini...</td>\n",
       "      <td>yarv</td>\n",
       "    </tr>\n",
       "    <tr>\n",
       "      <th>30</th>\n",
       "      <td>31</td>\n",
       "      <td>ocaml</td>\n",
       "      <td>from collections import namedtuple\\nimport fun...</td>\n",
       "      <td>rust</td>\n",
       "    </tr>\n",
       "    <tr>\n",
       "      <th>31</th>\n",
       "      <td>32</td>\n",
       "      <td>ocaml</td>\n",
       "      <td>function errorHandler(context) {\\n  return fun...</td>\n",
       "      <td>javascript</td>\n",
       "    </tr>\n",
       "  </tbody>\n",
       "</table>\n",
       "</div>"
      ],
      "text/plain": [
       "    item    language                                               text  \\\n",
       "0      1     clojure  (defn cf-settings\\n  \"Setup settings for campf...   \n",
       "1      2     clojure  var _ = require('lodash'),\\n    fs = require('...   \n",
       "2      3     clojure  /* Riot v2.0.8, @license MIT, (c) 2015 Muut In...   \n",
       "3      4     clojure    var r = riot.route = function(arg) {\\n    //...   \n",
       "4      5      python  module ActiveJob\\n  module Core\\n    extend Ac...   \n",
       "5      6      python  require 'formula'\\n\\nclass A52dec < Formula\\n ...   \n",
       "6      7      python  module Fluent\\n  class Input\\n    include Conf...   \n",
       "7      8      python  {-# LANGUAGE ScopedTypeVariables, FlexibleInst...   \n",
       "8      9  javascript  reverseDependencies :: ModuleGraph -> M.Map Mo...   \n",
       "9     10  javascript  {- git-annex extra config files\\n -\\n - Copyri...   \n",
       "10    11  javascript  (define subst-f\\n  (lambda (new old l)\\n    (c...   \n",
       "11    12  javascript  (ns my-cli.core)\\n\\n(defn -main [& args]\\n  (p...   \n",
       "12    13        ruby              (define add1\\n  (lambda (n) (+ n 1)))   \n",
       "13    14        ruby  (define-lib-primitive (length lst)\\n  (if (nul...   \n",
       "14    15        ruby  /**\\n * Interface to represent a persistence s...   \n",
       "15    16     haskell  /*\\n * Copyright 2002-2008 the original author...   \n",
       "16    17     haskell  package com.github.pathikrit\\n\\nimport scala.a...   \n",
       "17    18     haskell  /* sbt -- Simple Build Tool\\n * Copyright 2010...   \n",
       "18    19      scheme  proc isaac::mix {a b c d e f g h} {\\n    set a...   \n",
       "19    20      scheme  proc twitter::follow {nick uhost hand chan arg...   \n",
       "20    21      scheme  class View\\n{\\n    /**\\n     * Data available ...   \n",
       "21    22        java      public function formatLocalized($format)\\n...   \n",
       "22    23        java  (extend-type String\\n  Person\\n  (first-name [...   \n",
       "23    24       scala  class Application extends App {\\n\\t/**\\n\\t * @...   \n",
       "24    25       scala  type name = string\\n\\nlet compare_label label1...   \n",
       "25    26         tcl  let search_compiler_libs () =\\n  prerr_endline...   \n",
       "26    27         tcl  (require '[overtone.live :as overtone])\\n\\n(de...   \n",
       "27    28         php  from pkgutil import iter_modules\\nfrom subproc...   \n",
       "28    29         php  import re\\nimport subprocess\\n\\ndef cmd_keymap...   \n",
       "29    30         php  class NoSuchService(Exception):\\n    def __ini...   \n",
       "30    31       ocaml  from collections import namedtuple\\nimport fun...   \n",
       "31    32       ocaml  function errorHandler(context) {\\n  return fun...   \n",
       "\n",
       "         guess  \n",
       "0      clojure  \n",
       "1   javascript  \n",
       "2      clojure  \n",
       "3          lua  \n",
       "4         yarv  \n",
       "5      clojure  \n",
       "6        jruby  \n",
       "7          ghc  \n",
       "8          ghc  \n",
       "9      clojure  \n",
       "10        sbcl  \n",
       "11     clojure  \n",
       "12      racket  \n",
       "13      racket  \n",
       "14        java  \n",
       "15        gnat  \n",
       "16       scala  \n",
       "17       scala  \n",
       "18      racket  \n",
       "19     python3  \n",
       "20         gpp  \n",
       "21         lua  \n",
       "22     clojure  \n",
       "23         php  \n",
       "24       ocaml  \n",
       "25       ocaml  \n",
       "26     clojure  \n",
       "27     python3  \n",
       "28     clojure  \n",
       "29        yarv  \n",
       "30        rust  \n",
       "31  javascript  "
      ]
     },
     "execution_count": 62,
     "metadata": {},
     "output_type": "execute_result"
    }
   ],
   "source": [
    "test_data"
   ]
  },
  {
   "cell_type": "code",
   "execution_count": null,
   "metadata": {
    "collapsed": true
   },
   "outputs": [],
   "source": []
  },
  {
   "cell_type": "code",
   "execution_count": null,
   "metadata": {
    "collapsed": true
   },
   "outputs": [],
   "source": []
  },
  {
   "cell_type": "code",
   "execution_count": 76,
   "metadata": {
    "collapsed": false
   },
   "outputs": [
    {
     "data": {
      "text/plain": [
       "[4]"
      ]
     },
     "execution_count": 76,
     "metadata": {},
     "output_type": "execute_result"
    }
   ],
   "source": [
    "def longest_run_of_capitol_letters_feature(text):\n",
    "    runs = sorted(re.findall(r\"[A-Z]+\", text), key=len)\n",
    "    if len(runs) == 0:\n",
    "        return [0]\n",
    "    longest = runs[-1]\n",
    "    return [len(longest)]\n",
    "longest_run_of_capitol_letters_feature('ABCabddwAAAA absd AB sd A.AA.AAA')"
   ]
  },
  {
   "cell_type": "code",
   "execution_count": 77,
   "metadata": {
    "collapsed": false
   },
   "outputs": [
    {
     "data": {
      "text/plain": [
       "[0.5]"
      ]
     },
     "execution_count": 77,
     "metadata": {},
     "output_type": "execute_result"
    }
   ],
   "source": [
    "def percent_periods_feature(text):\n",
    "    \"\"\"Return percentage of text that is periods compared to total text length.\"\"\"\n",
    "    periods = text.count(\".\")\n",
    "    return [periods / len(text)]\n",
    "percent_periods_feature('. . . . ')"
   ]
  },
  {
   "cell_type": "code",
   "execution_count": 80,
   "metadata": {
    "collapsed": false
   },
   "outputs": [
    {
     "data": {
      "text/plain": [
       "[3, 0.13043478260869565]"
      ]
     },
     "execution_count": 80,
     "metadata": {},
     "output_type": "execute_result"
    }
   ],
   "source": [
    "def feature_vector(text):\n",
    "    return longest_run_of_capitol_letters_feature(text) + percent_periods_feature(text)\n",
    "feature_vector('AAH! feature_vector... ')"
   ]
  },
  {
   "cell_type": "code",
   "execution_count": 81,
   "metadata": {
    "collapsed": true
   },
   "outputs": [],
   "source": [
    "import numpy as np\n",
    "\n",
    "class CustomFeaturizer:\n",
    "    def __init__(self, *featurizers):\n",
    "        self.featurizers = featurizers\n",
    "        \n",
    "    def fit(self, X, y=None):\n",
    "        \"\"\"All SciKit-Learn compatible transformers and classifiers have the\n",
    "        same interface. `fit` always returns the same object.\"\"\"\n",
    "        return self\n",
    "        \n",
    "    def transform(self, X):\n",
    "        \"\"\"Given a list of original data, return a list of feature vectors.\"\"\"\n",
    "        fvs = []\n",
    "        for datum in X:\n",
    "            fv = np.array([f(datum) for f in self.featurizers])\n",
    "            fvs.append(fv.reshape(1, -1)[0])\n",
    "        return np.array(fvs)\n",
    "    \n",
    "featurizer = CustomFeaturizer(longest_run_of_capitol_letters_feature,\n",
    "                                  percent_periods_feature)"
   ]
  },
  {
   "cell_type": "code",
   "execution_count": 82,
   "metadata": {
    "collapsed": false
   },
   "outputs": [
    {
     "data": {
      "text/plain": [
       "array([[  5.00000000e+00,   2.73597811e-03],\n",
       "       [  1.10000000e+01,   2.07530388e-03],\n",
       "       [  2.00000000e+00,   5.37190083e-03],\n",
       "       ..., \n",
       "       [  1.00000000e+00,   1.06312292e-02],\n",
       "       [  6.00000000e+00,   1.95865071e-02],\n",
       "       [  6.00000000e+00,   2.19594595e-02]])"
      ]
     },
     "execution_count": 82,
     "metadata": {},
     "output_type": "execute_result"
    }
   ],
   "source": [
    "featurizer.transform(df.text)"
   ]
  },
  {
   "cell_type": "code",
   "execution_count": null,
   "metadata": {
    "collapsed": true
   },
   "outputs": [],
   "source": []
  }
 ],
 "metadata": {
  "kernelspec": {
   "display_name": "Python 3",
   "language": "python",
   "name": "python3"
  },
  "language_info": {
   "codemirror_mode": {
    "name": "ipython",
    "version": 3
   },
   "file_extension": ".py",
   "mimetype": "text/x-python",
   "name": "python",
   "nbconvert_exporter": "python",
   "pygments_lexer": "ipython3",
   "version": "3.4.3"
  }
 },
 "nbformat": 4,
 "nbformat_minor": 0
}

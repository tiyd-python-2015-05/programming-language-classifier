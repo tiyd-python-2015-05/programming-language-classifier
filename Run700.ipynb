{
 "cells": [
  {
   "cell_type": "code",
   "execution_count": 6,
   "metadata": {
    "collapsed": true
   },
   "outputs": [],
   "source": [
    "from web_scraper import scraper, split_fit_score"
   ]
  },
  {
   "cell_type": "code",
   "execution_count": 2,
   "metadata": {
    "collapsed": true
   },
   "outputs": [],
   "source": [
    "df = scraper(700, 250)"
   ]
  },
  {
   "cell_type": "code",
   "execution_count": 3,
   "metadata": {
    "collapsed": true
   },
   "outputs": [],
   "source": [
    "import pandas as pd"
   ]
  },
  {
   "cell_type": "code",
   "execution_count": 4,
   "metadata": {
    "collapsed": true
   },
   "outputs": [],
   "source": [
    "df.to_pickle('700_scrape.pkl')"
   ]
  },
  {
   "cell_type": "code",
   "execution_count": 14,
   "metadata": {
    "collapsed": false
   },
   "outputs": [
    {
     "data": {
      "text/html": [
       "<div style=\"max-height:1000px;max-width:1500px;overflow:auto;\">\n",
       "<table border=\"1\" class=\"dataframe\">\n",
       "  <thead>\n",
       "    <tr style=\"text-align: right;\">\n",
       "      <th></th>\n",
       "      <th>1</th>\n",
       "    </tr>\n",
       "    <tr>\n",
       "      <th>0</th>\n",
       "      <th></th>\n",
       "    </tr>\n",
       "  </thead>\n",
       "  <tbody>\n",
       "    <tr>\n",
       "      <th>ada</th>\n",
       "      <td>927</td>\n",
       "    </tr>\n",
       "    <tr>\n",
       "      <th>algol68</th>\n",
       "      <td>406</td>\n",
       "    </tr>\n",
       "    <tr>\n",
       "      <th>autohotkey</th>\n",
       "      <td>515</td>\n",
       "    </tr>\n",
       "    <tr>\n",
       "      <th>awk</th>\n",
       "      <td>335</td>\n",
       "    </tr>\n",
       "    <tr>\n",
       "      <th>bash</th>\n",
       "      <td>510</td>\n",
       "    </tr>\n",
       "    <tr>\n",
       "      <th>c</th>\n",
       "      <td>1024</td>\n",
       "    </tr>\n",
       "    <tr>\n",
       "      <th>clojure</th>\n",
       "      <td>421</td>\n",
       "    </tr>\n",
       "    <tr>\n",
       "      <th>cpp</th>\n",
       "      <td>704</td>\n",
       "    </tr>\n",
       "    <tr>\n",
       "      <th>csharp</th>\n",
       "      <td>566</td>\n",
       "    </tr>\n",
       "    <tr>\n",
       "      <th>d</th>\n",
       "      <td>865</td>\n",
       "    </tr>\n",
       "    <tr>\n",
       "      <th>delphi</th>\n",
       "      <td>348</td>\n",
       "    </tr>\n",
       "    <tr>\n",
       "      <th>e</th>\n",
       "      <td>337</td>\n",
       "    </tr>\n",
       "    <tr>\n",
       "      <th>erlang</th>\n",
       "      <td>420</td>\n",
       "    </tr>\n",
       "    <tr>\n",
       "      <th>fortran</th>\n",
       "      <td>490</td>\n",
       "    </tr>\n",
       "    <tr>\n",
       "      <th>fsharp</th>\n",
       "      <td>413</td>\n",
       "    </tr>\n",
       "    <tr>\n",
       "      <th>go</th>\n",
       "      <td>827</td>\n",
       "    </tr>\n",
       "    <tr>\n",
       "      <th>groovy</th>\n",
       "      <td>564</td>\n",
       "    </tr>\n",
       "    <tr>\n",
       "      <th>haskell</th>\n",
       "      <td>933</td>\n",
       "    </tr>\n",
       "    <tr>\n",
       "      <th>icon</th>\n",
       "      <td>412</td>\n",
       "    </tr>\n",
       "    <tr>\n",
       "      <th>j</th>\n",
       "      <td>1539</td>\n",
       "    </tr>\n",
       "    <tr>\n",
       "      <th>java</th>\n",
       "      <td>615</td>\n",
       "    </tr>\n",
       "    <tr>\n",
       "      <th>javascript</th>\n",
       "      <td>569</td>\n",
       "    </tr>\n",
       "    <tr>\n",
       "      <th>lb</th>\n",
       "      <td>293</td>\n",
       "    </tr>\n",
       "    <tr>\n",
       "      <th>lisp</th>\n",
       "      <td>1227</td>\n",
       "    </tr>\n",
       "    <tr>\n",
       "      <th>lua</th>\n",
       "      <td>392</td>\n",
       "    </tr>\n",
       "    <tr>\n",
       "      <th>matlab</th>\n",
       "      <td>468</td>\n",
       "    </tr>\n",
       "    <tr>\n",
       "      <th>netrexx</th>\n",
       "      <td>279</td>\n",
       "    </tr>\n",
       "    <tr>\n",
       "      <th>ocaml</th>\n",
       "      <td>748</td>\n",
       "    </tr>\n",
       "    <tr>\n",
       "      <th>oz</th>\n",
       "      <td>300</td>\n",
       "    </tr>\n",
       "    <tr>\n",
       "      <th>parigp</th>\n",
       "      <td>412</td>\n",
       "    </tr>\n",
       "    <tr>\n",
       "      <th>pascal</th>\n",
       "      <td>282</td>\n",
       "    </tr>\n",
       "    <tr>\n",
       "      <th>perl</th>\n",
       "      <td>1003</td>\n",
       "    </tr>\n",
       "    <tr>\n",
       "      <th>perl6</th>\n",
       "      <td>832</td>\n",
       "    </tr>\n",
       "    <tr>\n",
       "      <th>php</th>\n",
       "      <td>387</td>\n",
       "    </tr>\n",
       "    <tr>\n",
       "      <th>powershell</th>\n",
       "      <td>265</td>\n",
       "    </tr>\n",
       "    <tr>\n",
       "      <th>prolog</th>\n",
       "      <td>356</td>\n",
       "    </tr>\n",
       "    <tr>\n",
       "      <th>purebasic</th>\n",
       "      <td>500</td>\n",
       "    </tr>\n",
       "    <tr>\n",
       "      <th>python</th>\n",
       "      <td>1261</td>\n",
       "    </tr>\n",
       "    <tr>\n",
       "      <th>rexx</th>\n",
       "      <td>943</td>\n",
       "    </tr>\n",
       "    <tr>\n",
       "      <th>ruby</th>\n",
       "      <td>1302</td>\n",
       "    </tr>\n",
       "    <tr>\n",
       "      <th>scala</th>\n",
       "      <td>670</td>\n",
       "    </tr>\n",
       "    <tr>\n",
       "      <th>scheme</th>\n",
       "      <td>349</td>\n",
       "    </tr>\n",
       "    <tr>\n",
       "      <th>smalltalk</th>\n",
       "      <td>347</td>\n",
       "    </tr>\n",
       "    <tr>\n",
       "      <th>tcl</th>\n",
       "      <td>1034</td>\n",
       "    </tr>\n",
       "  </tbody>\n",
       "</table>\n",
       "</div>"
      ],
      "text/plain": [
       "               1\n",
       "0               \n",
       "ada          927\n",
       "algol68      406\n",
       "autohotkey   515\n",
       "awk          335\n",
       "bash         510\n",
       "c           1024\n",
       "clojure      421\n",
       "cpp          704\n",
       "csharp       566\n",
       "d            865\n",
       "delphi       348\n",
       "e            337\n",
       "erlang       420\n",
       "fortran      490\n",
       "fsharp       413\n",
       "go           827\n",
       "groovy       564\n",
       "haskell      933\n",
       "icon         412\n",
       "j           1539\n",
       "java         615\n",
       "javascript   569\n",
       "lb           293\n",
       "lisp        1227\n",
       "lua          392\n",
       "matlab       468\n",
       "netrexx      279\n",
       "ocaml        748\n",
       "oz           300\n",
       "parigp       412\n",
       "pascal       282\n",
       "perl        1003\n",
       "perl6        832\n",
       "php          387\n",
       "powershell   265\n",
       "prolog       356\n",
       "purebasic    500\n",
       "python      1261\n",
       "rexx         943\n",
       "ruby        1302\n",
       "scala        670\n",
       "scheme       349\n",
       "smalltalk    347\n",
       "tcl         1034"
      ]
     },
     "execution_count": 14,
     "metadata": {},
     "output_type": "execute_result"
    }
   ],
   "source": [
    "df.groupby(0).count()"
   ]
  },
  {
   "cell_type": "code",
   "execution_count": 8,
   "metadata": {
    "collapsed": false
   },
   "outputs": [],
   "source": [
    "score = split_fit_score(df, estimator=\"Forest\")\n",
    "classification = split_fit_score(df, estimator=\"Forest\", report=True)"
   ]
  },
  {
   "cell_type": "code",
   "execution_count": 9,
   "metadata": {
    "collapsed": false
   },
   "outputs": [
    {
     "name": "stdout",
     "output_type": "stream",
     "text": [
      "0.75949182243\n"
     ]
    }
   ],
   "source": [
    "print(score)"
   ]
  },
  {
   "cell_type": "code",
   "execution_count": 10,
   "metadata": {
    "collapsed": false
   },
   "outputs": [
    {
     "name": "stdout",
     "output_type": "stream",
     "text": [
      "             precision    recall  f1-score   support\n",
      "\n",
      "        ada       0.94      0.80      0.86       270\n",
      "    algol68       0.80      0.83      0.81       110\n",
      " autohotkey       0.79      0.90      0.84       109\n",
      "        awk       0.85      0.67      0.75        93\n",
      "       bash       0.63      0.63      0.63       144\n",
      "          c       0.80      0.78      0.79       259\n",
      "    clojure       0.54      0.56      0.55        84\n",
      "        cpp       0.84      0.84      0.84       161\n",
      "     csharp       0.84      0.80      0.82       152\n",
      "          d       0.91      0.96      0.93       212\n",
      "     delphi       0.74      0.59      0.66       100\n",
      "          e       0.57      0.51      0.54        72\n",
      "     erlang       0.80      0.65      0.71       122\n",
      "    fortran       0.84      0.87      0.86       143\n",
      "     fsharp       0.61      0.66      0.64       101\n",
      "         go       0.92      0.83      0.87       227\n",
      "     groovy       0.79      0.69      0.74       173\n",
      "    haskell       0.75      0.78      0.77       221\n",
      "       icon       0.80      0.78      0.79        97\n",
      "          j       0.86      0.63      0.72       517\n",
      "       java       0.80      0.81      0.81       160\n",
      " javascript       0.82      0.80      0.81       143\n",
      "         lb       0.69      0.82      0.75        57\n",
      "       lisp       0.66      0.65      0.66       301\n",
      "        lua       0.70      0.78      0.74        91\n",
      "     matlab       0.62      0.75      0.68        81\n",
      "    netrexx       0.82      0.94      0.87        66\n",
      "      ocaml       0.74      0.68      0.71       196\n",
      "         oz       0.74      0.86      0.79        72\n",
      "     parigp       0.55      0.64      0.59        99\n",
      "     pascal       0.59      0.82      0.69        45\n",
      "       perl       0.75      0.78      0.76       248\n",
      "      perl6       0.73      0.77      0.75       217\n",
      "        php       0.63      0.70      0.66        84\n",
      " powershell       0.50      0.49      0.49        70\n",
      "     prolog       0.45      0.68      0.54        56\n",
      "  purebasic       0.74      0.94      0.83       105\n",
      "     python       0.80      0.79      0.80       321\n",
      "       rexx       0.91      0.88      0.89       233\n",
      "       ruby       0.67      0.73      0.70       309\n",
      "      scala       0.75      0.90      0.82       157\n",
      "     scheme       0.63      0.63      0.63        73\n",
      "  smalltalk       0.64      0.80      0.71        69\n",
      "        tcl       0.80      0.90      0.85       228\n",
      "\n",
      "avg / total       0.77      0.76      0.76      6848\n",
      "\n"
     ]
    }
   ],
   "source": [
    "print(classification)"
   ]
  },
  {
   "cell_type": "code",
   "execution_count": null,
   "metadata": {
    "collapsed": true
   },
   "outputs": [],
   "source": []
  }
 ],
 "metadata": {
  "kernelspec": {
   "display_name": "Python 3",
   "language": "python",
   "name": "python3"
  },
  "language_info": {
   "codemirror_mode": {
    "name": "ipython",
    "version": 3
   },
   "file_extension": ".py",
   "mimetype": "text/x-python",
   "name": "python",
   "nbconvert_exporter": "python",
   "pygments_lexer": "ipython3",
   "version": "3.4.3"
  }
 },
 "nbformat": 4,
 "nbformat_minor": 0
}

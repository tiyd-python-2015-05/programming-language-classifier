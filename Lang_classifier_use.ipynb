{
 "cells": [
  {
   "cell_type": "code",
   "execution_count": 1,
   "metadata": {
    "collapsed": false
   },
   "outputs": [],
   "source": [
    "from lclassifier.lclassifier import *"
   ]
  },
  {
   "cell_type": "markdown",
   "metadata": {},
   "source": [
    "## Demonstration of Language Classifier (lclassifier)"
   ]
  },
  {
   "cell_type": "code",
   "execution_count": 2,
   "metadata": {
    "collapsed": false
   },
   "outputs": [
    {
     "data": {
      "text/plain": [
       "True"
      ]
     },
     "execution_count": 2,
     "metadata": {},
     "output_type": "execute_result"
    }
   ],
   "source": [
    "acceptable_file(\"py\") # testing that import is functional"
   ]
  },
  {
   "cell_type": "code",
   "execution_count": 10,
   "metadata": {
    "collapsed": false
   },
   "outputs": [
    {
     "data": {
      "text/plain": [
       "'py'"
      ]
     },
     "execution_count": 10,
     "metadata": {},
     "output_type": "execute_result"
    }
   ],
   "source": [
    "clean_ext(\"python3\")"
   ]
  },
  {
   "cell_type": "code",
   "execution_count": 3,
   "metadata": {
    "collapsed": false
   },
   "outputs": [
    {
     "name": "stdout",
     "output_type": "stream",
     "text": [
      "   total samples 931\n",
      " number of usable files 656\n",
      " \n",
      " number of read file types:  32\n",
      " number of recognized types: 14\n",
      " summary of tile types\n",
      "ats             \n",
      "clj            38  \n",
      "cs             41  \n",
      "dart            \n",
      "erlang          \n",
      "fpascal         \n",
      "fsharp          \n",
      "c              129  \n",
      "hs             33  \n",
      "gnat            \n",
      "go              \n",
      "php            55  \n",
      "ifc             \n",
      "java           51  \n",
      "js             25  \n",
      "ruby           73  \n",
      "lua             \n",
      "ocaml          35  \n",
      "oz              \n",
      "pl             34  \n",
      "py             36  \n",
      "racket         29  \n",
      "rust            \n",
      "sbcl           34  \n",
      "scala          43  \n",
      "vw              \n",
      "cint            \n",
      "javasteady      \n",
      "parrot          \n",
      "cc              \n",
      "txt             \n",
      "ozf             \n",
      " not included:  \n",
      " \n"
     ]
    }
   ],
   "source": [
    "filelist, testlist = load_file_names()\n",
    "contents, ltype, testcont = load_files(filelist, testlist)\n",
    "\n",
    "plist = [fit2, fit3, fit4, fit5, fit6]\n",
    "\n",
    "X, Xt, y, yt = train_test_split(contents, ltype, test_size=0.33)"
   ]
  },
  {
   "cell_type": "code",
   "execution_count": 4,
   "metadata": {
    "collapsed": true
   },
   "outputs": [],
   "source": [
    "pipe = fit6(Xt, yt)"
   ]
  },
  {
   "cell_type": "code",
   "execution_count": 9,
   "metadata": {
    "collapsed": false
   },
   "outputs": [
    {
     "name": "stdout",
     "output_type": "stream",
     "text": [
      "testing set outcomes\n",
      "scala    scala   \n",
      "c        c       \n",
      "c        c       \n",
      "clj      clj     \n",
      "java     java    \n",
      "py       py      \n",
      "clj      clj     \n",
      "js       js      \n",
      "c        c       \n",
      "pl       pl      \n",
      "cs       cs      \n",
      "c        c       \n",
      "c        c       \n",
      "ocaml    ocaml   \n",
      "hs       hs      \n",
      "sbcl     sbcl    \n",
      "racket   racket  \n",
      "php      php     \n",
      "pl       pl      \n",
      "ocaml    ocaml   \n",
      "\n",
      " overall score: 1.0\n"
     ]
    }
   ],
   "source": [
    "M = pipe.predict(Xt)\n",
    "print(\"testing set outcomes\")\n",
    "for i in range(20):\n",
    "    print(M[i].ljust(8)+ \" \" + yt[i].ljust(8))\n",
    "print(\"\")\n",
    "print(\" overall score: \"+str(pipe.score(Xt, yt)))"
   ]
  },
  {
   "cell_type": "markdown",
   "metadata": {
    "collapsed": true
   },
   "source": [
    "## Test Data"
   ]
  },
  {
   "cell_type": "code",
   "execution_count": 11,
   "metadata": {
    "collapsed": false
   },
   "outputs": [
    {
     "data": {
      "text/plain": [
       "array(['php', 'php', 'php', 'clj', 'py', 'py', 'py', 'py', 'js', 'js',\n",
       "       'js', 'js', 'ruby', 'ruby', 'ruby', 'hs', 'php', 'hs', 'racket',\n",
       "       'php', 'racket', 'java', 'java', 'scala', 'scala', 'php', 'php',\n",
       "       'java', 'php', 'java', 'ocaml', 'php'], \n",
       "      dtype='<U6')"
      ]
     },
     "execution_count": 11,
     "metadata": {},
     "output_type": "execute_result"
    }
   ],
   "source": [
    "pipe.predict(testcont) # prediction of file types for the data given"
   ]
  },
  {
   "cell_type": "code",
   "execution_count": 15,
   "metadata": {
    "collapsed": false
   },
   "outputs": [
    {
     "name": "stdout",
     "output_type": "stream",
     "text": [
      "<_csv.reader object at 0x10bfd6198>\n",
      " number of testing file types: 11\n",
      " actual_file_type  predicted_type\n",
      "clj       php       \n",
      "clj       php       \n",
      "clj       php       \n",
      "clj       clj       \n",
      "py        py        \n",
      "py        py        \n",
      "py        py        \n",
      "py        py        \n",
      "js        js        \n",
      "js        js        \n",
      "js        js        \n",
      "js        js        \n",
      "ruby      ruby      \n",
      "ruby      ruby      \n",
      "ruby      ruby      \n",
      "haskell   hs        \n",
      "haskell   php       \n",
      "haskell   hs        \n",
      "racket    racket    \n",
      "racket    php       \n",
      "racket    racket    \n",
      "java      java      \n",
      "java      java      \n",
      "scala     scala     \n",
      "scala     scala     \n",
      "tcl       php       \n",
      "tcl       php       \n",
      "php       java      \n",
      "php       php       \n",
      "php       java      \n",
      "ocaml     ocaml     \n",
      "ocaml     php       \n",
      " \n",
      " score: 0.625\n"
     ]
    }
   ],
   "source": [
    "ans = read_answers()\n",
    "M = pipe.predict(testcont)\n",
    "print(\" actual_file_type  predicted_type\")\n",
    "for i in range(len(ans)):\n",
    "    print(ans[i].ljust(10)+M[i].ljust(10))\n",
    "print(\" \")\n",
    "print(\" score: \"+str(pipe.score(testcont, ans)))"
   ]
  },
  {
   "cell_type": "markdown",
   "metadata": {},
   "source": [
    "This score isn't very good, but it would be difficult to match all these no matter what methods were being used due to the small quantity of training data."
   ]
  },
  {
   "cell_type": "markdown",
   "metadata": {},
   "source": [
    "## Single file demo"
   ]
  },
  {
   "cell_type": "code",
   "execution_count": 16,
   "metadata": {
    "collapsed": true
   },
   "outputs": [],
   "source": [
    "py_file = '''JOIN_RETRANSMIT = 0.7\n",
    "CATCHUP_INTERVAL = 0.6\n",
    "ACCEPT_RETRANSMIT = 1.0\n",
    "PREPARE_RETRANSMIT = 1.0\n",
    "INVOKE_RETRANSMIT = 0.5\n",
    "LEADER_TIMEOUT = 1.0\n",
    "NULL_BALLOT = Ballot(-1, -1)  # sorts before all real ballots\n",
    "NOOP_PROPOSAL = Proposal(None, None, None)  # no-op to fill otherwise empty slots\n",
    "\n",
    "class Node(object):\n",
    "    unique_ids = itertools.count()\n",
    "\n",
    "    def __init__(self, network, address):\n",
    "        self.network = network\n",
    "        self.address = address or 'N%d' % self.unique_ids.next()\n",
    "        self.logger = SimTimeLogger(logging.getLogger(self.address), {'network': self.network})\n",
    "        self.logger.info('starting')\n",
    "        self.roles = []\n",
    "        self.send = functools.partial(self.network.send, self)\n",
    "\n",
    "    def register(self, roles):\n",
    "        self.roles.append(roles)\n",
    "\n",
    "    def unregister(self, roles):\n",
    "        self.roles.remove(roles)\n",
    "\n",
    "    def receive(self, sender, message):\n",
    "        handler_name = 'do_%s' % type(message).__name__\n",
    "\n",
    "        for comp in self.roles[:]:\n",
    "            if not hasattr(comp, handler_name):\n",
    "                continue\n",
    "            comp.logger.debug(\"received %s from %s\", message, sender)\n",
    "            fn = getattr(comp, handler_name)\n",
    "            fn(sender=sender, **message._asdict())\n",
    "\n",
    "class Timer(object):\n",
    "\n",
    "    def __init__(self, expires, address, callback):\n",
    "        self.expires = expires\n",
    "        self.address = address\n",
    "        self.callback = callback\n",
    "        self.cancelled = False'''"
   ]
  },
  {
   "cell_type": "code",
   "execution_count": 17,
   "metadata": {
    "collapsed": false
   },
   "outputs": [
    {
     "data": {
      "text/plain": [
       "array(['py'], \n",
       "      dtype='<U6')"
      ]
     },
     "execution_count": 17,
     "metadata": {},
     "output_type": "execute_result"
    }
   ],
   "source": [
    "pipe.predict([py_file])"
   ]
  },
  {
   "cell_type": "markdown",
   "metadata": {},
   "source": [
    "This correctly predicted that the file is python"
   ]
  },
  {
   "cell_type": "code",
   "execution_count": null,
   "metadata": {
    "collapsed": true
   },
   "outputs": [],
   "source": []
  }
 ],
 "metadata": {
  "kernelspec": {
   "display_name": "Python 3",
   "language": "python",
   "name": "python3"
  },
  "language_info": {
   "codemirror_mode": {
    "name": "ipython",
    "version": 3
   },
   "file_extension": ".py",
   "mimetype": "text/x-python",
   "name": "python",
   "nbconvert_exporter": "python",
   "pygments_lexer": "ipython3",
   "version": "3.4.3"
  }
 },
 "nbformat": 4,
 "nbformat_minor": 0
}

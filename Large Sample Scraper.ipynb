{
 "cells": [
  {
   "cell_type": "code",
   "execution_count": 1,
   "metadata": {
    "collapsed": true
   },
   "outputs": [],
   "source": [
    "from web_scraper import scrape, scraper, split_fit_score\n",
    "import matplotlib.pyplot as plt\n",
    "import seaborn as sns\n",
    "sns.set_style(\"whitegrid\")"
   ]
  },
  {
   "cell_type": "code",
   "execution_count": 3,
   "metadata": {
    "collapsed": false
   },
   "outputs": [],
   "source": [
    "df = scraper(250, 100)"
   ]
  },
  {
   "cell_type": "code",
   "execution_count": 4,
   "metadata": {
    "collapsed": true
   },
   "outputs": [],
   "source": [
    "from sklearn.metrics import classification_report, confusion_matrix"
   ]
  },
  {
   "cell_type": "code",
   "execution_count": 7,
   "metadata": {
    "collapsed": true
   },
   "outputs": [],
   "source": [
    "from sklearn.pipeline import Pipeline\n",
    "from sklearn.cross_validation import train_test_split\n",
    "from sklearn.feature_extraction.text import CountVectorizer\n",
    "from sklearn.naive_bayes import MultinomialNB\n",
    "from sklearn.naive_bayes import GaussianNB\n",
    "from sklearn.naive_bayes import BernoulliNB"
   ]
  },
  {
   "cell_type": "code",
   "execution_count": 8,
   "metadata": {
    "collapsed": false
   },
   "outputs": [
    {
     "data": {
      "text/plain": [
       "0.60602150537634414"
      ]
     },
     "execution_count": 8,
     "metadata": {},
     "output_type": "execute_result"
    }
   ],
   "source": [
    "df_X = df.loc[:, 1]\n",
    "df_y = df.loc[:, 0]\n",
    "X_train, X_test, y_train, y_test = train_test_split(df_X, df_y)\n",
    "new_pipe = Pipeline([(\"bag_of_words\", CountVectorizer()),\n",
    "                       (\"nb\", MultinomialNB())])\n",
    "new_pipe.fit(X_train, y_train)\n",
    "new_pipe.score(X_test, y_test)"
   ]
  },
  {
   "cell_type": "code",
   "execution_count": 10,
   "metadata": {
    "collapsed": false
   },
   "outputs": [
    {
     "name": "stdout",
     "output_type": "stream",
     "text": [
      "             precision    recall  f1-score   support\n",
      "\n",
      "        ada       0.93      0.68      0.79       111\n",
      "    algol68       0.85      0.43      0.58        53\n",
      " autohotkey       0.56      0.96      0.71        24\n",
      "        awk       0.30      0.82      0.44        11\n",
      "       bash       0.34      0.77      0.47        26\n",
      "          c       0.81      0.50      0.62       126\n",
      "    clojure       0.14      0.67      0.23         6\n",
      "        cpp       0.76      0.95      0.84        57\n",
      "     csharp       0.64      0.59      0.62        49\n",
      "          d       0.95      0.67      0.79       104\n",
      "     delphi       0.43      0.88      0.58        17\n",
      "          e       0.10      1.00      0.19         3\n",
      "     erlang       0.51      0.90      0.65        20\n",
      "    fortran       0.69      0.69      0.69        36\n",
      "     fsharp       0.31      0.86      0.45        14\n",
      "         go       0.91      0.47      0.62       145\n",
      "     groovy       0.46      0.80      0.59        30\n",
      "    haskell       0.63      0.73      0.68        52\n",
      "       icon       0.48      0.95      0.64        22\n",
      "          j       0.53      0.76      0.63        93\n",
      "       java       0.86      0.57      0.68        97\n",
      " javascript       0.31      0.79      0.44        19\n",
      "         lb       0.40      1.00      0.57         8\n",
      "       lisp       0.73      0.45      0.56       146\n",
      "        lua       0.18      1.00      0.31         6\n",
      "     matlab       0.12      1.00      0.21         5\n",
      "    netrexx       0.52      0.85      0.65        13\n",
      "      ocaml       0.69      0.71      0.70        59\n",
      "         oz       0.57      1.00      0.72        13\n",
      "     parigp       0.02      1.00      0.05         1\n",
      "     pascal       0.74      0.65      0.69        31\n",
      "       perl       0.65      0.62      0.63        97\n",
      "      perl6       0.39      0.64      0.48        50\n",
      "        php       0.18      0.75      0.29         8\n",
      "     prolog       0.48      0.83      0.61        18\n",
      "  purebasic       0.78      0.89      0.83        36\n",
      "     python       0.67      0.50      0.58       143\n",
      "       rexx       0.95      0.36      0.53       232\n",
      "       ruby       0.65      0.45      0.54       154\n",
      "      scala       0.78      0.64      0.70        61\n",
      "     scheme       0.28      0.89      0.42         9\n",
      "  smalltalk       0.19      1.00      0.32         5\n",
      "        tcl       0.88      0.68      0.76       115\n",
      "\n",
      "avg / total       0.73      0.61      0.63      2325\n",
      "\n"
     ]
    }
   ],
   "source": [
    "print(classification_report(new_pipe.predict(X_test), y_test))"
   ]
  },
  {
   "cell_type": "code",
   "execution_count": 11,
   "metadata": {
    "collapsed": false,
    "scrolled": true
   },
   "outputs": [
    {
     "name": "stdout",
     "output_type": "stream",
     "text": [
      "[[76  0  1 ...,  1  1  0]\n",
      " [ 0 23  1 ...,  0  4  0]\n",
      " [ 0  0 23 ...,  0  0  0]\n",
      " ..., \n",
      " [ 0  0  0 ...,  8  0  0]\n",
      " [ 0  0  0 ...,  0  5  0]\n",
      " [ 0  0  0 ...,  2  0 78]]\n"
     ]
    }
   ],
   "source": [
    "print(confusion_matrix(new_pipe.predict(X_test), y_test))"
   ]
  },
  {
   "cell_type": "code",
   "execution_count": 12,
   "metadata": {
    "collapsed": false
   },
   "outputs": [
    {
     "data": {
      "text/plain": [
       "j             503\n",
       "ruby          450\n",
       "python        435\n",
       "lisp          392\n",
       "tcl           366\n",
       "c             356\n",
       "perl          352\n",
       "rexx          329\n",
       "ada           325\n",
       "haskell       305\n",
       "go            297\n",
       "d             294\n",
       "perl6         290\n",
       "ocaml         241\n",
       "java          232\n",
       "scala         220\n",
       "cpp           218\n",
       "bash          218\n",
       "groovy        206\n",
       "csharp        189\n",
       "autohotkey    179\n",
       "javascript    179\n",
       "purebasic     175\n",
       "matlab        159\n",
       "icon          155\n",
       "parigp        154\n",
       "fortran       152\n",
       "erlang        145\n",
       "algol68       138\n",
       "php           134\n",
       "clojure       133\n",
       "awk           128\n",
       "fsharp        128\n",
       "lua           123\n",
       "prolog        118\n",
       "delphi        116\n",
       "pascal        115\n",
       "scheme        111\n",
       "e             111\n",
       "smalltalk     110\n",
       "oz            108\n",
       "netrexx       105\n",
       "lb            105\n",
       "dtype: int64"
      ]
     },
     "execution_count": 12,
     "metadata": {},
     "output_type": "execute_result"
    }
   ],
   "source": [
    "df[0].value_counts()"
   ]
  },
  {
   "cell_type": "code",
   "execution_count": null,
   "metadata": {
    "collapsed": true
   },
   "outputs": [],
   "source": []
  }
 ],
 "metadata": {
  "kernelspec": {
   "display_name": "Python 3",
   "language": "python",
   "name": "python3"
  },
  "language_info": {
   "codemirror_mode": {
    "name": "ipython",
    "version": 3
   },
   "file_extension": ".py",
   "mimetype": "text/x-python",
   "name": "python",
   "nbconvert_exporter": "python",
   "pygments_lexer": "ipython3",
   "version": "3.4.3"
  }
 },
 "nbformat": 4,
 "nbformat_minor": 0
}

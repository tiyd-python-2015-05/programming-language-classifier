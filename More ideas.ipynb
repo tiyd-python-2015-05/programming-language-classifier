{
 "cells": [
  {
   "cell_type": "code",
   "execution_count": 1,
   "metadata": {
    "collapsed": true
   },
   "outputs": [],
   "source": [
    "import pandas as pd"
   ]
  },
  {
   "cell_type": "code",
   "execution_count": null,
   "metadata": {
    "collapsed": true
   },
   "outputs": [],
   "source": [
    "#from stack overflow\n",
    "import urllib2\n",
    "from BeautifulSoup import BeautifulSoup\n",
    "# or if you're using BeautifulSoup4:\n",
    "# from bs4 import BeautifulSoup\n",
    "\n",
    "soup = BeautifulSoup(urllib2.urlopen('http://example.com').read())\n",
    "\n",
    "for row in soup('table', {'class': 'spad'})[0].tbody('tr'):\n",
    "    tds = row('td')\n",
    "    print tds[0].string, tds[1].string\n",
    "    # will print date and sunrise"
   ]
  }
 ],
 "metadata": {
  "kernelspec": {
   "display_name": "Python 3",
   "language": "python",
   "name": "python3"
  },
  "language_info": {
   "codemirror_mode": {
    "name": "ipython",
    "version": 3
   },
   "file_extension": ".py",
   "mimetype": "text/x-python",
   "name": "python",
   "nbconvert_exporter": "python",
   "pygments_lexer": "ipython3",
   "version": "3.4.3"
  }
 },
 "nbformat": 4,
 "nbformat_minor": 0
}

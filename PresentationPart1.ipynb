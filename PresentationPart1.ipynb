{
 "cells": [
  {
   "cell_type": "code",
   "execution_count": 1,
   "metadata": {
    "collapsed": true
   },
   "outputs": [],
   "source": [
    "import web_scraper\n",
    "import pandas as pd\n",
    "import matplotlib.pyplot as plt"
   ]
  },
  {
   "cell_type": "code",
   "execution_count": 2,
   "metadata": {
    "collapsed": true
   },
   "outputs": [],
   "source": [
    "%matplotlib inline"
   ]
  },
  {
   "cell_type": "markdown",
   "metadata": {},
   "source": [
    "#Import Small Data Set\n",
    "Each language has at least 20 examples"
   ]
  },
  {
   "cell_type": "code",
   "execution_count": 3,
   "metadata": {
    "collapsed": false
   },
   "outputs": [],
   "source": [
    "df = pd.read_pickle('scraper_50_x_20.pkl')"
   ]
  },
  {
   "cell_type": "code",
   "execution_count": 4,
   "metadata": {
    "collapsed": false
   },
   "outputs": [
    {
     "data": {
      "text/html": [
       "<div style=\"max-height:1000px;max-width:1500px;overflow:auto;\">\n",
       "<table border=\"1\" class=\"dataframe\">\n",
       "  <thead>\n",
       "    <tr style=\"text-align: right;\">\n",
       "      <th></th>\n",
       "      <th>0</th>\n",
       "      <th>1</th>\n",
       "    </tr>\n",
       "  </thead>\n",
       "  <tbody>\n",
       "    <tr>\n",
       "      <th>0</th>\n",
       "      <td>ada</td>\n",
       "      <td>with Ada.Command_Line;with Ada.Text_IO;with GN...</td>\n",
       "    </tr>\n",
       "    <tr>\n",
       "      <th>1</th>\n",
       "      <td>autohotkey</td>\n",
       "      <td>#NoEnv#SingleInstance, ForceSetBatchLines, -1#...</td>\n",
       "    </tr>\n",
       "    <tr>\n",
       "      <th>2</th>\n",
       "      <td>algol68</td>\n",
       "      <td>#!/usr/local/bin/a68g --script # INT base := 1...</td>\n",
       "    </tr>\n",
       "    <tr>\n",
       "      <th>8</th>\n",
       "      <td>c</td>\n",
       "      <td>#include &lt;stdio.h&gt;#include &lt;stdlib.h&gt;#include ...</td>\n",
       "    </tr>\n",
       "    <tr>\n",
       "      <th>9</th>\n",
       "      <td>csharp</td>\n",
       "      <td>using System;using System.Numerics; namespace ...</td>\n",
       "    </tr>\n",
       "  </tbody>\n",
       "</table>\n",
       "</div>"
      ],
      "text/plain": [
       "            0                                                  1\n",
       "0         ada  with Ada.Command_Line;with Ada.Text_IO;with GN...\n",
       "1  autohotkey  #NoEnv#SingleInstance, ForceSetBatchLines, -1#...\n",
       "2     algol68  #!/usr/local/bin/a68g --script # INT base := 1...\n",
       "8           c  #include <stdio.h>#include <stdlib.h>#include ...\n",
       "9      csharp  using System;using System.Numerics; namespace ..."
      ]
     },
     "execution_count": 4,
     "metadata": {},
     "output_type": "execute_result"
    }
   ],
   "source": [
    "df.head()"
   ]
  },
  {
   "cell_type": "markdown",
   "metadata": {},
   "source": [
    "Test Small Data Set with Bayes"
   ]
  },
  {
   "cell_type": "code",
   "execution_count": 5,
   "metadata": {
    "collapsed": false
   },
   "outputs": [
    {
     "data": {
      "text/plain": [
       "0.48870636550308011"
      ]
     },
     "execution_count": 5,
     "metadata": {},
     "output_type": "execute_result"
    }
   ],
   "source": [
    "web_scraper.split_fit_score(df)"
   ]
  },
  {
   "cell_type": "markdown",
   "metadata": {},
   "source": [
    "Test Smaller Data Set with Random Forest"
   ]
  },
  {
   "cell_type": "code",
   "execution_count": 6,
   "metadata": {
    "collapsed": false
   },
   "outputs": [
    {
     "data": {
      "text/plain": [
       "0.59753593429158114"
      ]
     },
     "execution_count": 6,
     "metadata": {},
     "output_type": "execute_result"
    }
   ],
   "source": [
    "web_scraper.split_fit_score(df, \"Forest\")"
   ]
  },
  {
   "cell_type": "markdown",
   "metadata": {},
   "source": [
    "Test Smaller Data Set with KNearestNeighborsClassifier at 5"
   ]
  },
  {
   "cell_type": "code",
   "execution_count": 7,
   "metadata": {
    "collapsed": false
   },
   "outputs": [
    {
     "data": {
      "text/plain": [
       "0.34907597535934293"
      ]
     },
     "execution_count": 7,
     "metadata": {},
     "output_type": "execute_result"
    }
   ],
   "source": [
    "web_scraper.split_fit_score(df, \"neighbors\")"
   ]
  },
  {
   "cell_type": "markdown",
   "metadata": {},
   "source": [
    "#Lets Try with a Larger Data Set\n",
    "This set has data from 300 possible programming tasks.  To be included, a language  \n",
    "needs to have 125 examples."
   ]
  },
  {
   "cell_type": "code",
   "execution_count": 8,
   "metadata": {
    "collapsed": true
   },
   "outputs": [],
   "source": [
    "df = pd.read_pickle('scraper_300_x_125.pkl')"
   ]
  },
  {
   "cell_type": "code",
   "execution_count": 9,
   "metadata": {
    "collapsed": false
   },
   "outputs": [],
   "source": [
    "classification_report = web_scraper.split_fit_score(df, \"Forest\", True)"
   ]
  },
  {
   "cell_type": "code",
   "execution_count": 10,
   "metadata": {
    "collapsed": true
   },
   "outputs": [],
   "source": [
    "score = web_scraper.split_fit_score(df, \"Forest\")"
   ]
  },
  {
   "cell_type": "code",
   "execution_count": 11,
   "metadata": {
    "collapsed": false
   },
   "outputs": [
    {
     "data": {
      "text/plain": [
       "0.72720694645441386"
      ]
     },
     "execution_count": 11,
     "metadata": {},
     "output_type": "execute_result"
    }
   ],
   "source": [
    "score"
   ]
  },
  {
   "cell_type": "markdown",
   "metadata": {},
   "source": [
    "This does pretty well even without making any special regex expressions to make vectors."
   ]
  },
  {
   "cell_type": "code",
   "execution_count": 12,
   "metadata": {
    "collapsed": false
   },
   "outputs": [
    {
     "name": "stdout",
     "output_type": "stream",
     "text": [
      "             precision    recall  f1-score   support\n",
      "\n",
      "        ada       0.95      0.78      0.86       124\n",
      "    algol68       0.71      0.69      0.70        42\n",
      " autohotkey       0.77      0.89      0.82        45\n",
      "        awk       0.84      0.76      0.80        50\n",
      "       bash       0.42      0.45      0.44        38\n",
      "          c       0.82      0.80      0.81       107\n",
      "    clojure       0.24      0.47      0.32        19\n",
      "        cpp       0.87      0.88      0.88        94\n",
      "     csharp       0.77      0.70      0.73        73\n",
      "          d       0.98      0.94      0.96        90\n",
      "     delphi       0.53      0.71      0.61        28\n",
      "          e       0.47      0.62      0.53        26\n",
      "     erlang       0.83      0.80      0.81        44\n",
      "    fortran       0.82      0.42      0.55       127\n",
      "     fsharp       0.59      0.59      0.59        34\n",
      "         go       0.92      0.91      0.92        77\n",
      "     groovy       0.87      0.60      0.71        68\n",
      "    haskell       0.81      0.83      0.82        94\n",
      "       icon       0.80      0.77      0.79        48\n",
      "          j       0.66      0.69      0.68       160\n",
      "       java       0.81      0.85      0.83        60\n",
      " javascript       0.63      0.63      0.63        59\n",
      "       lisp       0.64      0.64      0.64       120\n",
      "        lua       0.55      0.74      0.63        31\n",
      "     matlab       0.51      0.68      0.58        40\n",
      "      ocaml       0.71      0.65      0.68        79\n",
      "     parigp       0.56      0.66      0.61        35\n",
      "     pascal       0.83      0.65      0.73        37\n",
      "       perl       0.73      0.62      0.67       115\n",
      "      perl6       0.64      0.72      0.68        75\n",
      "        php       0.53      0.49      0.51        43\n",
      "     prolog       0.60      0.65      0.63        23\n",
      "  purebasic       0.73      0.94      0.82        49\n",
      "     python       0.75      0.77      0.76       137\n",
      "       rexx       0.95      0.94      0.94       116\n",
      "       ruby       0.69      0.70      0.70       135\n",
      "      scala       0.64      0.88      0.74        59\n",
      "     scheme       0.68      0.68      0.68        37\n",
      "  smalltalk       0.51      0.67      0.58        27\n",
      "        tcl       0.81      0.93      0.87        99\n",
      "\n",
      "avg / total       0.75      0.74      0.74      2764\n",
      "\n"
     ]
    }
   ],
   "source": [
    "print(classification_report)"
   ]
  },
  {
   "cell_type": "markdown",
   "metadata": {},
   "source": [
    "#It still does pretty poorly on a few languages like prolog, php, parigp, matlab, e, clojure.  \n",
    "The next step will be to look at those languages and try to exctract some features that will   \n",
    "help to classify them based on punctuation, whitespace, or special characters or words."
   ]
  },
  {
   "cell_type": "code",
   "execution_count": null,
   "metadata": {
    "collapsed": true
   },
   "outputs": [],
   "source": []
  }
 ],
 "metadata": {
  "kernelspec": {
   "display_name": "Python 3",
   "language": "python",
   "name": "python3"
  },
  "language_info": {
   "codemirror_mode": {
    "name": "ipython",
    "version": 3
   },
   "file_extension": ".py",
   "mimetype": "text/x-python",
   "name": "python",
   "nbconvert_exporter": "python",
   "pygments_lexer": "ipython3",
   "version": "3.4.3"
  }
 },
 "nbformat": 4,
 "nbformat_minor": 0
}

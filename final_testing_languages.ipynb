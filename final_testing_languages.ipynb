{
 "cells": [
  {
   "cell_type": "markdown",
   "metadata": {},
   "source": [
    "#Programming Language Classifier using Machine Learning"
   ]
  },
  {
   "cell_type": "code",
   "execution_count": 1,
   "metadata": {
    "collapsed": false
   },
   "outputs": [],
   "source": [
    "import pandas as pd\n",
    "from scraper import scrape_clean_cut\n",
    "from feature_vectors import *"
   ]
  },
  {
   "cell_type": "markdown",
   "metadata": {},
   "source": [
    "##Using Two Dataframes: \n",
    "###(1) Dataframe with various languages (>200 examples from Rosetta Code) "
   ]
  },
  {
   "cell_type": "code",
   "execution_count": 2,
   "metadata": {
    "collapsed": true
   },
   "outputs": [],
   "source": [
    "df_700x200 = pd.read_pickle('scraper_700x200.pkl')"
   ]
  },
  {
   "cell_type": "code",
   "execution_count": 3,
   "metadata": {
    "collapsed": true
   },
   "outputs": [],
   "source": [
    "y = df_700x200.loc[:, 0]\n",
    "X = df_700x200.loc[:, 1]"
   ]
  },
  {
   "cell_type": "markdown",
   "metadata": {},
   "source": [
    "###(2) Dataframe with only languages from test file (17 total languages)"
   ]
  },
  {
   "cell_type": "code",
   "execution_count": 25,
   "metadata": {
    "collapsed": true
   },
   "outputs": [],
   "source": [
    "filtered_df = pd.read_pickle('scraper_filtered_700x1.pkl')"
   ]
  },
  {
   "cell_type": "code",
   "execution_count": 26,
   "metadata": {
    "collapsed": true
   },
   "outputs": [],
   "source": [
    "filtered_y_train = filtered_df.loc[:, 0]\n",
    "filtered_X_train = filtered_df.loc[:, 1]"
   ]
  },
  {
   "cell_type": "markdown",
   "metadata": {},
   "source": [
    "#Testing only with dataset from Rosetta Code"
   ]
  },
  {
   "cell_type": "markdown",
   "metadata": {},
   "source": [
    "The purpose of testing first with the rosetta code data, without the test file, is to see if my estimator is overfitting the test file data. Because there are only 32 lines of code and 11 langagues in teh test file, the test data from rosetta code includes much more sample code. "
   ]
  },
  {
   "cell_type": "code",
   "execution_count": 6,
   "metadata": {
    "collapsed": true
   },
   "outputs": [],
   "source": [
    "rc_X_train, rc_X_test, rc_y_train, rc_y_test = train_test_split(X, y)"
   ]
  },
  {
   "cell_type": "code",
   "execution_count": 7,
   "metadata": {
    "collapsed": false
   },
   "outputs": [
    {
     "data": {
      "text/plain": [
       "0.6314634480866822"
      ]
     },
     "execution_count": 7,
     "metadata": {},
     "output_type": "execute_result"
    }
   ],
   "source": [
    "rc_pipe_bayes = make_pipe(MultinomialNB())\n",
    "rc_pipe_bayes.fit(rc_X_train, rc_y_train)\n",
    "rc_pipe_bayes.score(rc_X_test, rc_y_test)"
   ]
  },
  {
   "cell_type": "code",
   "execution_count": 8,
   "metadata": {
    "collapsed": false
   },
   "outputs": [
    {
     "data": {
      "text/plain": [
       "0.77273350706350297"
      ]
     },
     "execution_count": 8,
     "metadata": {},
     "output_type": "execute_result"
    }
   ],
   "source": [
    "rc_pipe_tree = make_pipe(DecisionTreeClassifier())\n",
    "rc_pipe_tree.fit(rc_X_train, rc_y_train)\n",
    "rc_pipe_tree.score(rc_X_test, rc_y_test)"
   ]
  },
  {
   "cell_type": "code",
   "execution_count": 9,
   "metadata": {
    "collapsed": false
   },
   "outputs": [
    {
     "data": {
      "text/plain": [
       "0.77753394596077352"
      ]
     },
     "execution_count": 9,
     "metadata": {},
     "output_type": "execute_result"
    }
   ],
   "source": [
    "rc_pipe_forest = make_pipe(RandomForestClassifier())\n",
    "rc_pipe_forest.fit(rc_X_train, rc_y_train)\n",
    "rc_pipe_forest.score(rc_X_test, rc_y_test)"
   ]
  },
  {
   "cell_type": "code",
   "execution_count": 10,
   "metadata": {
    "collapsed": false
   },
   "outputs": [
    {
     "name": "stdout",
     "output_type": "stream",
     "text": [
      "             precision    recall  f1-score   support\n",
      "\n",
      "        ada       0.98      0.76      0.86       304\n",
      "    algol68       0.85      0.83      0.84       126\n",
      " autohotkey       0.87      0.69      0.77       137\n",
      "        awk       0.78      0.61      0.68        99\n",
      "       bash       0.64      0.66      0.65       136\n",
      "          c       0.85      0.76      0.81       289\n",
      "    clojure       0.50      0.56      0.53        98\n",
      "      cobol       0.95      0.88      0.91        60\n",
      "coffeescript       0.63      0.82      0.71        45\n",
      "        cpp       0.84      0.78      0.81       195\n",
      "     csharp       0.82      0.78      0.80       156\n",
      "          d       0.92      0.93      0.93       211\n",
      "     delphi       0.69      0.72      0.70        81\n",
      "          e       0.44      0.53      0.48        83\n",
      "     erlang       0.86      0.86      0.86       111\n",
      "   euphoria       0.64      0.79      0.71        52\n",
      "    fortran       0.90      0.89      0.90       138\n",
      "     fsharp       0.65      0.80      0.71        88\n",
      "         go       0.88      0.89      0.89       224\n",
      "     groovy       0.79      0.62      0.69       143\n",
      "    haskell       0.81      0.82      0.81       223\n",
      "       icon       0.87      0.86      0.87        94\n",
      "          j       0.91      0.69      0.79       530\n",
      "       java       0.74      0.72      0.73       157\n",
      "      java5       0.09      0.27      0.13        15\n",
      " javascript       0.73      0.79      0.76       137\n",
      "         lb       0.65      0.67      0.66        73\n",
      "       lisp       0.84      0.69      0.76       372\n",
      "        lua       0.62      0.74      0.67        77\n",
      "     matlab       0.60      0.75      0.66        87\n",
      "    netrexx       0.88      0.97      0.92        63\n",
      "       objc       0.73      0.90      0.80        41\n",
      "     objeck       0.96      0.96      0.96        55\n",
      "      ocaml       0.83      0.76      0.79       195\n",
      "         oz       0.79      0.96      0.86        67\n",
      "     parigp       0.69      0.71      0.70        99\n",
      "     pascal       0.65      0.75      0.70        57\n",
      "       perl       0.78      0.68      0.72       286\n",
      "      perl6       0.62      0.73      0.67       192\n",
      "        php       0.66      0.77      0.71        81\n",
      " powershell       0.63      0.88      0.73        48\n",
      "     prolog       0.86      0.87      0.87        78\n",
      "  purebasic       0.73      0.89      0.81       102\n",
      "     python       0.75      0.82      0.78       298\n",
      "     qbasic       0.40      0.68      0.51        28\n",
      "       rexx       0.90      0.96      0.93       207\n",
      "       ruby       0.68      0.77      0.72       292\n",
      "      scala       0.73      0.85      0.79       131\n",
      "     scheme       0.64      0.81      0.71        72\n",
      "  smalltalk       0.73      0.79      0.76        68\n",
      "        tcl       0.92      0.92      0.92       251\n",
      "         vb       0.62      0.90      0.74        39\n",
      "\n",
      "avg / total       0.79      0.78      0.78      7291\n",
      "\n"
     ]
    }
   ],
   "source": [
    "print((classification_report(rc_pipe_forest.predict(rc_X_test), rc_y_test)))"
   ]
  },
  {
   "cell_type": "markdown",
   "metadata": {},
   "source": [
    "#Testing with test samples given in folder."
   ]
  },
  {
   "cell_type": "code",
   "execution_count": 11,
   "metadata": {
    "collapsed": true
   },
   "outputs": [],
   "source": [
    "y_test = pd.read_pickle('test_y_values.pkl')\n",
    "X_test = pd.read_pickle('test_X_values.pkl')"
   ]
  },
  {
   "cell_type": "code",
   "execution_count": 12,
   "metadata": {
    "collapsed": false
   },
   "outputs": [],
   "source": [
    "y_test = y_test.loc[:, 1]\n",
    "X_test = X_test.loc[:, 0]"
   ]
  },
  {
   "cell_type": "markdown",
   "metadata": {},
   "source": [
    "###Estimating with Multinomial Bayes, Decision Tree, and Random Forest"
   ]
  },
  {
   "cell_type": "code",
   "execution_count": 13,
   "metadata": {
    "collapsed": false
   },
   "outputs": [
    {
     "data": {
      "text/plain": [
       "0.5625"
      ]
     },
     "execution_count": 13,
     "metadata": {},
     "output_type": "execute_result"
    }
   ],
   "source": [
    "pipe_mnb = make_pipe(MultinomialNB())\n",
    "pipe_mnb.fit(X, y)\n",
    "pipe_mnb.score(X_test, y_test)"
   ]
  },
  {
   "cell_type": "code",
   "execution_count": 14,
   "metadata": {
    "collapsed": false
   },
   "outputs": [
    {
     "data": {
      "text/plain": [
       "0.5625"
      ]
     },
     "execution_count": 14,
     "metadata": {},
     "output_type": "execute_result"
    }
   ],
   "source": [
    "pipe_tree = make_pipe(DecisionTreeClassifier())\n",
    "pipe_tree.fit(X, y)\n",
    "pipe_tree.score(X_test, y_test)"
   ]
  },
  {
   "cell_type": "code",
   "execution_count": 15,
   "metadata": {
    "collapsed": false
   },
   "outputs": [
    {
     "data": {
      "text/plain": [
       "0.78125"
      ]
     },
     "execution_count": 15,
     "metadata": {},
     "output_type": "execute_result"
    }
   ],
   "source": [
    "pipe_forest = make_pipe(RandomForestClassifier())\n",
    "pipe_forest.fit(X, y)\n",
    "pipe_forest.score(X_test, y_test)"
   ]
  },
  {
   "cell_type": "markdown",
   "metadata": {},
   "source": [
    "###Classification report to see which language is not well represented. "
   ]
  },
  {
   "cell_type": "code",
   "execution_count": 16,
   "metadata": {
    "collapsed": false
   },
   "outputs": [
    {
     "name": "stdout",
     "output_type": "stream",
     "text": [
      "             precision    recall  f1-score   support\n",
      "\n",
      "        ada       0.00      0.00      0.00         1\n",
      "    clojure       0.50      1.00      0.67         2\n",
      "        cpp       0.00      0.00      0.00         1\n",
      "         go       0.00      0.00      0.00         1\n",
      "    haskell       1.00      1.00      1.00         3\n",
      "       java       0.50      1.00      0.67         1\n",
      " javascript       0.75      1.00      0.86         3\n",
      "       lisp       0.00      0.00      0.00         2\n",
      "      ocaml       1.00      1.00      1.00         2\n",
      "        php       0.33      1.00      0.50         1\n",
      "  purebasic       0.00      0.00      0.00         1\n",
      "     python       1.00      0.80      0.89         5\n",
      "       ruby       1.00      1.00      1.00         3\n",
      "      scala       1.00      1.00      1.00         2\n",
      "     scheme       0.67      1.00      0.80         2\n",
      "        tcl       1.00      1.00      1.00         2\n",
      "\n",
      "avg / total       0.70      0.78      0.72        32\n",
      "\n"
     ]
    },
    {
     "name": "stderr",
     "output_type": "stream",
     "text": [
      "/Users/trippshealy/iron_yard/week5/programming-language-classifier/.direnv/python-3.4.3/lib/python3.4/site-packages/sklearn/metrics/classification.py:958: UndefinedMetricWarning: Precision and F-score are ill-defined and being set to 0.0 in labels with no predicted samples.\n",
      "  'precision', 'predicted', average, warn_for)\n"
     ]
    }
   ],
   "source": [
    "print((classification_report(pipe_forest.predict(X_test), y_test)))"
   ]
  },
  {
   "cell_type": "markdown",
   "metadata": {},
   "source": [
    "##Using Dataframe 2: only includes languages in the test sample. "
   ]
  },
  {
   "cell_type": "code",
   "execution_count": 27,
   "metadata": {
    "collapsed": false
   },
   "outputs": [
    {
     "data": {
      "text/plain": [
       "0.875"
      ]
     },
     "execution_count": 27,
     "metadata": {},
     "output_type": "execute_result"
    }
   ],
   "source": [
    "pipe_filtered_bayes = make_pipe(MultinomialNB())\n",
    "pipe_filtered_bayes.fit(filtered_X_train, filtered_y_train)\n",
    "pipe_filtered_bayes.score(X_test, y_test)"
   ]
  },
  {
   "cell_type": "code",
   "execution_count": 28,
   "metadata": {
    "collapsed": false
   },
   "outputs": [
    {
     "data": {
      "text/plain": [
       "0.78125"
      ]
     },
     "execution_count": 28,
     "metadata": {},
     "output_type": "execute_result"
    }
   ],
   "source": [
    "pipe_filtered_tree = make_pipe(DecisionTreeClassifier())\n",
    "pipe_filtered_tree.fit(filtered_X_train, filtered_y_train)\n",
    "pipe_filtered_tree.score(X_test, y_test)"
   ]
  },
  {
   "cell_type": "code",
   "execution_count": 31,
   "metadata": {
    "collapsed": false
   },
   "outputs": [
    {
     "data": {
      "text/plain": [
       "0.875"
      ]
     },
     "execution_count": 31,
     "metadata": {},
     "output_type": "execute_result"
    }
   ],
   "source": [
    "pipe_filtered_forest = make_pipe(RandomForestClassifier())\n",
    "pipe_filtered_forest.fit(filtered_X_train, filtered_y_train)\n",
    "pipe_filtered_forest.score(X_test, y_test)"
   ]
  },
  {
   "cell_type": "markdown",
   "metadata": {},
   "source": [
    "###Classification report to see which language is not well represented"
   ]
  },
  {
   "cell_type": "code",
   "execution_count": 30,
   "metadata": {
    "collapsed": false
   },
   "outputs": [
    {
     "name": "stdout",
     "output_type": "stream",
     "text": [
      "             precision    recall  f1-score   support\n",
      "\n",
      "    clojure       1.00      1.00      1.00         4\n",
      "    haskell       1.00      1.00      1.00         3\n",
      "       java       0.50      1.00      0.67         1\n",
      " javascript       0.75      1.00      0.86         3\n",
      "      ocaml       1.00      1.00      1.00         2\n",
      "        php       1.00      1.00      1.00         3\n",
      "     python       1.00      0.57      0.73         7\n",
      "       ruby       0.67      0.67      0.67         3\n",
      "      scala       0.50      1.00      0.67         1\n",
      "     scheme       1.00      1.00      1.00         3\n",
      "        tcl       1.00      1.00      1.00         2\n",
      "\n",
      "avg / total       0.91      0.88      0.87        32\n",
      "\n"
     ]
    }
   ],
   "source": [
    "print((classification_report(pipe_filtered_forest.predict(X_test), y_test)))"
   ]
  },
  {
   "cell_type": "code",
   "execution_count": null,
   "metadata": {
    "collapsed": true
   },
   "outputs": [],
   "source": []
  }
 ],
 "metadata": {
  "kernelspec": {
   "display_name": "Python 3",
   "language": "python",
   "name": "python3"
  },
  "language_info": {
   "codemirror_mode": {
    "name": "ipython",
    "version": 3
   },
   "file_extension": ".py",
   "mimetype": "text/x-python",
   "name": "python",
   "nbconvert_exporter": "python",
   "pygments_lexer": "ipython3",
   "version": "3.4.3"
  }
 },
 "nbformat": 4,
 "nbformat_minor": 0
}

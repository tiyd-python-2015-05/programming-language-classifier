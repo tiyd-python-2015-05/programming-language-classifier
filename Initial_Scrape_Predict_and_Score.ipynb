{
 "cells": [
  {
   "cell_type": "code",
   "execution_count": 27,
   "metadata": {
    "collapsed": true
   },
   "outputs": [],
   "source": [
    "from web_scraper import scrape"
   ]
  },
  {
   "cell_type": "markdown",
   "metadata": {},
   "source": [
    "##First scrape rosettacode.org for 50 different tasks and the associated code."
   ]
  },
  {
   "cell_type": "code",
   "execution_count": 28,
   "metadata": {
    "collapsed": false
   },
   "outputs": [],
   "source": [
    "df = scrape(50)"
   ]
  },
  {
   "cell_type": "code",
   "execution_count": 29,
   "metadata": {
    "collapsed": false
   },
   "outputs": [
    {
     "data": {
      "text/html": [
       "<div style=\"max-height:1000px;max-width:1500px;overflow:auto;\">\n",
       "<table border=\"1\" class=\"dataframe\">\n",
       "  <thead>\n",
       "    <tr style=\"text-align: right;\">\n",
       "      <th></th>\n",
       "      <th>0</th>\n",
       "      <th>1</th>\n",
       "    </tr>\n",
       "  </thead>\n",
       "  <tbody>\n",
       "    <tr>\n",
       "      <th>0</th>\n",
       "      <td>ada</td>\n",
       "      <td>with Ada.Task_Identification;  use Ada.Task_Id...</td>\n",
       "    </tr>\n",
       "    <tr>\n",
       "      <th>1</th>\n",
       "      <td>ada</td>\n",
       "      <td>procedure Main is   -- Create as many task obj...</td>\n",
       "    </tr>\n",
       "    <tr>\n",
       "      <th>2</th>\n",
       "      <td>ada</td>\n",
       "      <td>task body Some_Task isbegin   loop      select...</td>\n",
       "    </tr>\n",
       "    <tr>\n",
       "      <th>3</th>\n",
       "      <td>ada</td>\n",
       "      <td>task body Some_Task isbegin   loop      select...</td>\n",
       "    </tr>\n",
       "    <tr>\n",
       "      <th>5</th>\n",
       "      <td>algol68</td>\n",
       "      <td>IF problem = 1 THEN   stopFI</td>\n",
       "    </tr>\n",
       "    <tr>\n",
       "      <th>6</th>\n",
       "      <td>awk</td>\n",
       "      <td>if(problem)exit 1</td>\n",
       "    </tr>\n",
       "    <tr>\n",
       "      <th>7</th>\n",
       "      <td>awk</td>\n",
       "      <td># usage:  awk -f exittest.awk input.txtBEGIN  ...</td>\n",
       "    </tr>\n",
       "    <tr>\n",
       "      <th>8</th>\n",
       "      <td>applescript</td>\n",
       "      <td>on run\\tIf problem then returnend run</td>\n",
       "    </tr>\n",
       "    <tr>\n",
       "      <th>9</th>\n",
       "      <td>applescript</td>\n",
       "      <td>on run\\tf()\\tdisplay dialog \"This message will...</td>\n",
       "    </tr>\n",
       "    <tr>\n",
       "      <th>10</th>\n",
       "      <td>autohotkey</td>\n",
       "      <td>If (problem)  ExitApp</td>\n",
       "    </tr>\n",
       "  </tbody>\n",
       "</table>\n",
       "</div>"
      ],
      "text/plain": [
       "              0                                                  1\n",
       "0           ada  with Ada.Task_Identification;  use Ada.Task_Id...\n",
       "1           ada  procedure Main is   -- Create as many task obj...\n",
       "2           ada  task body Some_Task isbegin   loop      select...\n",
       "3           ada  task body Some_Task isbegin   loop      select...\n",
       "5       algol68                       IF problem = 1 THEN   stopFI\n",
       "6           awk                                  if(problem)exit 1\n",
       "7           awk  # usage:  awk -f exittest.awk input.txtBEGIN  ...\n",
       "8   applescript              on run\\tIf problem then returnend run\n",
       "9   applescript  on run\\tf()\\tdisplay dialog \"This message will...\n",
       "10   autohotkey                              If (problem)  ExitApp"
      ]
     },
     "execution_count": 29,
     "metadata": {},
     "output_type": "execute_result"
    }
   ],
   "source": [
    "df.head(10)"
   ]
  },
  {
   "cell_type": "markdown",
   "metadata": {},
   "source": [
    "##Look to see how many different languages we have examples of.\n",
    "There are some languages that we only have a few examples of, maybe we should drop those from the analysis."
   ]
  },
  {
   "cell_type": "code",
   "execution_count": 56,
   "metadata": {
    "collapsed": false
   },
   "outputs": [
    {
     "data": {
      "text/plain": [
       "j                125\n",
       "python           106\n",
       "ruby              83\n",
       "lisp              72\n",
       "tcl               67\n",
       "ada               66\n",
       "haskell           65\n",
       "perl              64\n",
       "d                 61\n",
       "c                 57\n",
       "perl6             57\n",
       "rexx              56\n",
       "cpp               56\n",
       "go                53\n",
       "java              49\n",
       "ocaml             45\n",
       "scala             45\n",
       "purebasic         38\n",
       "autohotkey        36\n",
       "e                 36\n",
       "javascript        36\n",
       "csharp            35\n",
       "icon              33\n",
       "groovy            33\n",
       "matlab            31\n",
       "algol68           30\n",
       "fortran           29\n",
       "parigp            29\n",
       "lua               28\n",
       "erlang            27\n",
       "                ... \n",
       "ahk                5\n",
       "logtalk            4\n",
       "newlisp            4\n",
       "cfm                4\n",
       "pike               4\n",
       "io                 4\n",
       "vedit              3\n",
       "visualfoxpro       3\n",
       "gnuplot            3\n",
       "dos                3\n",
       "abap               3\n",
       "sql                2\n",
       "nsis               2\n",
       "progress           2\n",
       "mirc               2\n",
       "zxbasic            2\n",
       "rsplus             2\n",
       "locobasic          1\n",
       "plsql              1\n",
       "idl                1\n",
       "llvm               1\n",
       "vala               1\n",
       "actionscript3      1\n",
       "gml                1\n",
       "autoit             1\n",
       "asymptote          1\n",
       "mmix               1\n",
       "cmake              1\n",
       "vim                1\n",
       "freebasic          1\n",
       "dtype: int64"
      ]
     },
     "execution_count": 56,
     "metadata": {},
     "output_type": "execute_result"
    }
   ],
   "source": [
    "df[0].value_counts()"
   ]
  },
  {
   "cell_type": "code",
   "execution_count": null,
   "metadata": {
    "collapsed": true
   },
   "outputs": [],
   "source": [
    "new_df = df.groupby(0).filter(lambda x: len(x) >=10)"
   ]
  },
  {
   "cell_type": "code",
   "execution_count": 30,
   "metadata": {
    "collapsed": false
   },
   "outputs": [],
   "source": [
    "y = df.loc[:, 0]"
   ]
  },
  {
   "cell_type": "code",
   "execution_count": 31,
   "metadata": {
    "collapsed": true
   },
   "outputs": [],
   "source": [
    "X = df.loc[:, 1]"
   ]
  },
  {
   "cell_type": "code",
   "execution_count": 32,
   "metadata": {
    "collapsed": false
   },
   "outputs": [
    {
     "data": {
      "text/plain": [
       "0    with Ada.Task_Identification;  use Ada.Task_Id...\n",
       "1    procedure Main is   -- Create as many task obj...\n",
       "2    task body Some_Task isbegin   loop      select...\n",
       "3    task body Some_Task isbegin   loop      select...\n",
       "5                         IF problem = 1 THEN   stopFI\n",
       "Name: 1, dtype: object"
      ]
     },
     "execution_count": 32,
     "metadata": {},
     "output_type": "execute_result"
    }
   ],
   "source": [
    "X.head()"
   ]
  },
  {
   "cell_type": "code",
   "execution_count": 33,
   "metadata": {
    "collapsed": false
   },
   "outputs": [
    {
     "data": {
      "text/plain": [
       "0        ada\n",
       "1        ada\n",
       "2        ada\n",
       "3        ada\n",
       "5    algol68\n",
       "Name: 0, dtype: object"
      ]
     },
     "execution_count": 33,
     "metadata": {},
     "output_type": "execute_result"
    }
   ],
   "source": [
    "y.head()"
   ]
  },
  {
   "cell_type": "code",
   "execution_count": 34,
   "metadata": {
    "collapsed": true
   },
   "outputs": [],
   "source": [
    "import pandas as pd\n",
    "import matplotlib.pyplot as plt\n",
    "import numpy as np\n",
    "import seaborn as sns\n",
    "from sklearn import linear_model\n",
    "from sklearn.preprocessing import PolynomialFeatures\n",
    "from sklearn.linear_model import LinearRegression\n",
    "from sklearn.pipeline import Pipeline\n",
    "from sklearn.cross_validation import train_test_split\n",
    "from sklearn.feature_extraction.text import CountVectorizer\n",
    "from sklearn.naive_bayes import MultinomialNB\n",
    "sns.set_style(\"whitegrid\")"
   ]
  },
  {
   "cell_type": "markdown",
   "metadata": {},
   "source": [
    "#Create our first train and test set and do a fit and score"
   ]
  },
  {
   "cell_type": "code",
   "execution_count": 41,
   "metadata": {
    "collapsed": true
   },
   "outputs": [],
   "source": [
    "X_train, X_test, y_train, y_test = train_test_split(X, y)"
   ]
  },
  {
   "cell_type": "code",
   "execution_count": 42,
   "metadata": {
    "collapsed": false
   },
   "outputs": [
    {
     "data": {
      "text/plain": [
       "((1590,), (1590,))"
      ]
     },
     "execution_count": 42,
     "metadata": {},
     "output_type": "execute_result"
    }
   ],
   "source": [
    "X_train.shape, y_train.shape"
   ]
  },
  {
   "cell_type": "code",
   "execution_count": 43,
   "metadata": {
    "collapsed": false
   },
   "outputs": [
    {
     "data": {
      "text/plain": [
       "Pipeline(steps=[('bag_of_words', CountVectorizer(analyzer='word', binary=False, decode_error='strict',\n",
       "        dtype=<class 'numpy.int64'>, encoding='utf-8', input='content',\n",
       "        lowercase=True, max_df=1.0, max_features=None, min_df=1,\n",
       "        ngram_range=(1, 1), preprocessor=None, stop_words=None,\n",
       "        strip_accents=None, token_pattern='(?u)\\\\b\\\\w\\\\w+\\\\b',\n",
       "        tokenizer=None, vocabulary=None)), ('bayes', MultinomialNB(alpha=1.0, class_prior=None, fit_prior=True))])"
      ]
     },
     "execution_count": 43,
     "metadata": {},
     "output_type": "execute_result"
    }
   ],
   "source": [
    "language_pipe = Pipeline([('bag_of_words', CountVectorizer()),\n",
    "                      ('bayes', MultinomialNB())])\n",
    "language_pipe"
   ]
  },
  {
   "cell_type": "code",
   "execution_count": 44,
   "metadata": {
    "collapsed": false
   },
   "outputs": [
    {
     "data": {
      "text/plain": [
       "Pipeline(steps=[('bag_of_words', CountVectorizer(analyzer='word', binary=False, decode_error='strict',\n",
       "        dtype=<class 'numpy.int64'>, encoding='utf-8', input='content',\n",
       "        lowercase=True, max_df=1.0, max_features=None, min_df=1,\n",
       "        ngram_range=(1, 1), preprocessor=None, stop_words=None,\n",
       "        strip_accents=None, token_pattern='(?u)\\\\b\\\\w\\\\w+\\\\b',\n",
       "        tokenizer=None, vocabulary=None)), ('bayes', MultinomialNB(alpha=1.0, class_prior=None, fit_prior=True))])"
      ]
     },
     "execution_count": 44,
     "metadata": {},
     "output_type": "execute_result"
    }
   ],
   "source": [
    "language_pipe.fit(X_train, y_train)"
   ]
  },
  {
   "cell_type": "markdown",
   "metadata": {},
   "source": [
    "#Score first fit with Bayes"
   ]
  },
  {
   "cell_type": "code",
   "execution_count": 45,
   "metadata": {
    "collapsed": false
   },
   "outputs": [
    {
     "data": {
      "text/plain": [
       "0.4519774011299435"
      ]
     },
     "execution_count": 45,
     "metadata": {},
     "output_type": "execute_result"
    }
   ],
   "source": [
    "language_pipe.score(X_test, y_test)"
   ]
  },
  {
   "cell_type": "markdown",
   "metadata": {},
   "source": [
    "Does it know python?"
   ]
  },
  {
   "cell_type": "code",
   "execution_count": 46,
   "metadata": {
    "collapsed": false
   },
   "outputs": [
    {
     "data": {
      "text/plain": [
       "array(['python'], \n",
       "      dtype='<U13')"
      ]
     },
     "execution_count": 46,
     "metadata": {},
     "output_type": "execute_result"
    }
   ],
   "source": [
    "language_pipe.predict([\"def\"])"
   ]
  },
  {
   "cell_type": "markdown",
   "metadata": {},
   "source": [
    "#It knows PYTHON!!!!!"
   ]
  },
  {
   "cell_type": "code",
   "execution_count": 49,
   "metadata": {
    "collapsed": false
   },
   "outputs": [
    {
     "data": {
      "text/plain": [
       "['0numr',\n",
       " '0out',\n",
       " '0pack',\n",
       " '0parse',\n",
       " '0pri',\n",
       " '0ps3',\n",
       " '0rquad',\n",
       " '0step',\n",
       " '0step_up',\n",
       " '0task',\n",
       " '0then',\n",
       " '0times',\n",
       " '0true',\n",
       " '0txt',\n",
       " '0u',\n",
       " '0ul',\n",
       " '0verif',\n",
       " '0wend',\n",
       " '0while',\n",
       " '0x00000000',\n",
       " '0x0004',\n",
       " '0x00ff00',\n",
       " '0x00ffffff',\n",
       " '0x1',\n",
       " '0x10325476',\n",
       " '0x10ae32000',\n",
       " '0x12340poke',\n",
       " '0x1700',\n",
       " '0x1701',\n",
       " '0x1d01',\n",
       " '0x2',\n",
       " '0x3',\n",
       " '0x33ffffff',\n",
       " '0x4100',\n",
       " '0x4d42',\n",
       " '0x50a28be6',\n",
       " '0x5a827999',\n",
       " '0x5c4dd124',\n",
       " '0x67452301',\n",
       " '0x6d703ef3',\n",
       " '0x6ed9eba1',\n",
       " '0x7a6d76e9',\n",
       " '0x7f',\n",
       " '0x7fff',\n",
       " '0x7fffffff',\n",
       " '0x8f1bbcdc',\n",
       " '0x98badcfe',\n",
       " '0xa100',\n",
       " '0xa953fd4e',\n",
       " '0xbbffffff',\n",
       " '0xc3d2e1f0',\n",
       " '0xdeadf00d',\n",
       " '0xefcdab89',\n",
       " '0xff',\n",
       " '0xff0000',\n",
       " '0xff000000',\n",
       " '0xff0000ff',\n",
       " '0xff0066ff',\n",
       " '0xff00ff00',\n",
       " '0xff00ffff',\n",
       " '0xff447821',\n",
       " '0xffff0000',\n",
       " '0xffff00ff',\n",
       " '0xffffcc00',\n",
       " '0xffffff00',\n",
       " '0xffffffff',\n",
       " '0xffffffffu',\n",
       " '0y',\n",
       " '0z',\n",
       " '10',\n",
       " '100',\n",
       " '1000',\n",
       " '10000',\n",
       " '100000',\n",
       " '1000000',\n",
       " '10000000',\n",
       " '100000000',\n",
       " '1000000set',\n",
       " '10000exit',\n",
       " '10000say',\n",
       " '10000th',\n",
       " '1000call',\n",
       " '1000puts',\n",
       " '1000set',\n",
       " '1001',\n",
       " '10011',\n",
       " '1001110011',\n",
       " '100111001111101110110010010010101010101011111111110100101101010010010111001',\n",
       " '1004f4ecc1',\n",
       " '1009',\n",
       " '100_000',\n",
       " '100_000_000',\n",
       " '100call',\n",
       " '100h',\n",
       " '100k',\n",
       " '100originx',\n",
       " '100protected',\n",
       " '100puts',\n",
       " '101',\n",
       " '1010',\n",
       " '1010101010',\n",
       " '101011',\n",
       " '1011',\n",
       " '10117',\n",
       " '1013',\n",
       " '101323491272865',\n",
       " '102',\n",
       " '10200',\n",
       " '10212',\n",
       " '10224',\n",
       " '10229endenumeration',\n",
       " '1024',\n",
       " '1026',\n",
       " '103',\n",
       " '104',\n",
       " '105',\n",
       " '106',\n",
       " '107',\n",
       " '1078',\n",
       " '108',\n",
       " '109',\n",
       " '1093',\n",
       " '10_000',\n",
       " '10_000_000',\n",
       " '10ae32000',\n",
       " '10decimalize',\n",
       " '10double',\n",
       " '10echo',\n",
       " '10elseif',\n",
       " '10fconfigure',\n",
       " '10g',\n",
       " '10h',\n",
       " '10iterations',\n",
       " '10keepgood',\n",
       " '10l',\n",
       " '10mdt',\n",
       " '10s',\n",
       " '10th',\n",
       " '10width',\n",
       " '10y',\n",
       " '11',\n",
       " '110',\n",
       " '1101',\n",
       " '1102',\n",
       " '1103',\n",
       " '1104',\n",
       " '1104729',\n",
       " '1105',\n",
       " '1106',\n",
       " '1107',\n",
       " '111',\n",
       " '1110',\n",
       " '1110111011',\n",
       " '1111',\n",
       " '11110101',\n",
       " '11111',\n",
       " '1111111111',\n",
       " '112',\n",
       " '1121',\n",
       " '113',\n",
       " '113call',\n",
       " '114',\n",
       " '1144',\n",
       " '115',\n",
       " '115508',\n",
       " '119',\n",
       " '11982',\n",
       " '1199',\n",
       " '11_982',\n",
       " '11elseif',\n",
       " '12',\n",
       " '120',\n",
       " '120202039393',\n",
       " '1203',\n",
       " '121',\n",
       " '1210',\n",
       " '123',\n",
       " '1233',\n",
       " '1234',\n",
       " '123456',\n",
       " '12345649494449_huge',\n",
       " '1234567',\n",
       " '123456789',\n",
       " '124',\n",
       " '125',\n",
       " '127',\n",
       " '128',\n",
       " '128x3',\n",
       " '128x340282366920938463463374607431768211455',\n",
       " '12fruit',\n",
       " '12hrs',\n",
       " '12th',\n",
       " '13',\n",
       " '130',\n",
       " '131',\n",
       " '132',\n",
       " '1337',\n",
       " '134664460',\n",
       " '135',\n",
       " '135691508',\n",
       " '1361129467683753853853498429727072845823',\n",
       " '137',\n",
       " '138',\n",
       " '139',\n",
       " '13call',\n",
       " '13ceil',\n",
       " '13h',\n",
       " '13p',\n",
       " '14',\n",
       " '140',\n",
       " '1415',\n",
       " '14159',\n",
       " '14159265358',\n",
       " '14159265358979323',\n",
       " '141593',\n",
       " '14159msg',\n",
       " '14159val',\n",
       " '142403',\n",
       " '142706',\n",
       " '142759',\n",
       " '142896',\n",
       " '143',\n",
       " '143028',\n",
       " '143078',\n",
       " '143130',\n",
       " '1440',\n",
       " '145295143558111',\n",
       " '1457109',\n",
       " '146',\n",
       " '14665package',\n",
       " '147',\n",
       " '148',\n",
       " '149',\n",
       " '15',\n",
       " '150',\n",
       " '150101',\n",
       " '150y',\n",
       " '151',\n",
       " '156',\n",
       " '159',\n",
       " '15900',\n",
       " '15_900',\n",
       " '15s',\n",
       " '16',\n",
       " '160',\n",
       " '1600',\n",
       " '16091',\n",
       " '162',\n",
       " '164',\n",
       " '1658880',\n",
       " '16h',\n",
       " '16pixformat',\n",
       " '16rff',\n",
       " '16s',\n",
       " '17',\n",
       " '170',\n",
       " '175',\n",
       " '1752146',\n",
       " '177',\n",
       " '178481',\n",
       " '179951',\n",
       " '17call',\n",
       " '17fruit',\n",
       " '18',\n",
       " '180',\n",
       " '18000',\n",
       " '180endprocedure',\n",
       " '185',\n",
       " '1875',\n",
       " '1899',\n",
       " '18_000',\n",
       " '18m',\n",
       " '19',\n",
       " '190',\n",
       " '19000',\n",
       " '190if',\n",
       " '192',\n",
       " '1922',\n",
       " '19250',\n",
       " '19328',\n",
       " '193call',\n",
       " '198',\n",
       " '199',\n",
       " '1990',\n",
       " '1999',\n",
       " '19_250',\n",
       " '19x19',\n",
       " '1_000',\n",
       " '1_000_000',\n",
       " '1a',\n",
       " '1b',\n",
       " '1cest',\n",
       " '1cherry',\n",
       " '1constant',\n",
       " '1d',\n",
       " '1d5',\n",
       " '1e10',\n",
       " '1e4',\n",
       " '1e6',\n",
       " '1e61210',\n",
       " '1e7',\n",
       " '1e9',\n",
       " '1eest',\n",
       " '1end',\n",
       " '1endprocedure',\n",
       " '1est',\n",
       " '1f',\n",
       " '1forms',\n",
       " '1fruit_',\n",
       " '1g',\n",
       " '1global',\n",
       " '1hdrift',\n",
       " '1i',\n",
       " '1ic',\n",
       " '1iterations',\n",
       " '1j1',\n",
       " '1j_1',\n",
       " '1kuyt',\n",
       " '1l',\n",
       " '1l2',\n",
       " '1listlines',\n",
       " '1llu',\n",
       " '1m',\n",
       " '1make',\n",
       " '1onexit',\n",
       " '1p',\n",
       " '1pack',\n",
       " '1package',\n",
       " '1parse',\n",
       " '1pfd',\n",
       " '1property',\n",
       " '1px',\n",
       " '1return',\n",
       " '1s',\n",
       " '1set',\n",
       " '1st',\n",
       " '1st20',\n",
       " '1todo',\n",
       " '1u',\n",
       " '1ull',\n",
       " '1wet',\n",
       " '1x',\n",
       " '1x0',\n",
       " '1x1',\n",
       " '1x2',\n",
       " '1x3',\n",
       " '1y',\n",
       " '20',\n",
       " '200',\n",
       " '2000',\n",
       " '20000',\n",
       " '2000winhide',\n",
       " '2000winshow',\n",
       " '2001',\n",
       " '20010904',\n",
       " '20021207211127',\n",
       " '2003',\n",
       " '2005',\n",
       " '2006',\n",
       " '2009',\n",
       " '200l',\n",
       " '201',\n",
       " '2010',\n",
       " '2011',\n",
       " '2012',\n",
       " '2013',\n",
       " '2014',\n",
       " '2014require',\n",
       " '202',\n",
       " '2020',\n",
       " '203',\n",
       " '20394401',\n",
       " '203_280_221',\n",
       " '2048',\n",
       " '205',\n",
       " '209',\n",
       " '20data',\n",
       " '20s',\n",
       " '21',\n",
       " '210',\n",
       " '21000',\n",
       " '21015require',\n",
       " '21200',\n",
       " '214013',\n",
       " '2147483647',\n",
       " '2147483648',\n",
       " '214_013',\n",
       " '21900',\n",
       " '21_900',\n",
       " '21groupin3s',\n",
       " '22',\n",
       " '220',\n",
       " '22144',\n",
       " '222',\n",
       " '222222',\n",
       " '223092870',\n",
       " '2238812160',\n",
       " '225',\n",
       " '2265894',\n",
       " '227']"
      ]
     },
     "execution_count": 49,
     "metadata": {},
     "output_type": "execute_result"
    }
   ],
   "source": [
    "vectorizer = CountVectorizer()\n",
    "vectorizer.fit(X_train, y_train)\n",
    "vectorizer.get_feature_names()[100:500]"
   ]
  },
  {
   "cell_type": "markdown",
   "metadata": {},
   "source": [
    "#Now lets drop the languages that have less than 30 examples"
   ]
  },
  {
   "cell_type": "code",
   "execution_count": 72,
   "metadata": {
    "collapsed": false
   },
   "outputs": [
    {
     "data": {
      "text/html": [
       "<div style=\"max-height:1000px;max-width:1500px;overflow:auto;\">\n",
       "<table border=\"1\" class=\"dataframe\">\n",
       "  <thead>\n",
       "    <tr style=\"text-align: right;\">\n",
       "      <th></th>\n",
       "      <th>0</th>\n",
       "      <th>1</th>\n",
       "    </tr>\n",
       "  </thead>\n",
       "  <tbody>\n",
       "    <tr>\n",
       "      <th>0</th>\n",
       "      <td>ada</td>\n",
       "      <td>with Ada.Task_Identification;  use Ada.Task_Id...</td>\n",
       "    </tr>\n",
       "    <tr>\n",
       "      <th>1</th>\n",
       "      <td>ada</td>\n",
       "      <td>procedure Main is   -- Create as many task obj...</td>\n",
       "    </tr>\n",
       "    <tr>\n",
       "      <th>2</th>\n",
       "      <td>ada</td>\n",
       "      <td>task body Some_Task isbegin   loop      select...</td>\n",
       "    </tr>\n",
       "    <tr>\n",
       "      <th>3</th>\n",
       "      <td>ada</td>\n",
       "      <td>task body Some_Task isbegin   loop      select...</td>\n",
       "    </tr>\n",
       "    <tr>\n",
       "      <th>10</th>\n",
       "      <td>autohotkey</td>\n",
       "      <td>If (problem)  ExitApp</td>\n",
       "    </tr>\n",
       "  </tbody>\n",
       "</table>\n",
       "</div>"
      ],
      "text/plain": [
       "             0                                                  1\n",
       "0          ada  with Ada.Task_Identification;  use Ada.Task_Id...\n",
       "1          ada  procedure Main is   -- Create as many task obj...\n",
       "2          ada  task body Some_Task isbegin   loop      select...\n",
       "3          ada  task body Some_Task isbegin   loop      select...\n",
       "10  autohotkey                              If (problem)  ExitApp"
      ]
     },
     "execution_count": 72,
     "metadata": {},
     "output_type": "execute_result"
    }
   ],
   "source": [
    "new_df = df.groupby(0).filter(lambda x: len(x) >=35)\n",
    "new_df.head()"
   ]
  },
  {
   "cell_type": "code",
   "execution_count": 73,
   "metadata": {
    "collapsed": false
   },
   "outputs": [
    {
     "data": {
      "text/plain": [
       "j             125\n",
       "python        106\n",
       "ruby           83\n",
       "lisp           72\n",
       "tcl            67\n",
       "ada            66\n",
       "haskell        65\n",
       "perl           64\n",
       "d              61\n",
       "perl6          57\n",
       "c              57\n",
       "rexx           56\n",
       "cpp            56\n",
       "go             53\n",
       "java           49\n",
       "ocaml          45\n",
       "scala          45\n",
       "purebasic      38\n",
       "e              36\n",
       "autohotkey     36\n",
       "javascript     36\n",
       "csharp         35\n",
       "dtype: int64"
      ]
     },
     "execution_count": 73,
     "metadata": {},
     "output_type": "execute_result"
    }
   ],
   "source": [
    "new_df[0].value_counts()"
   ]
  },
  {
   "cell_type": "code",
   "execution_count": 74,
   "metadata": {
    "collapsed": false
   },
   "outputs": [],
   "source": [
    "new_df_X = new_df.loc[:, 1]"
   ]
  },
  {
   "cell_type": "code",
   "execution_count": 75,
   "metadata": {
    "collapsed": true
   },
   "outputs": [],
   "source": [
    "new_df_y = new_df.loc[:, 0]"
   ]
  },
  {
   "cell_type": "code",
   "execution_count": 76,
   "metadata": {
    "collapsed": true
   },
   "outputs": [],
   "source": [
    "new_X_train, new_X_test, new_y_train, new_y_test = train_test_split(new_df_X, new_df_y)"
   ]
  },
  {
   "cell_type": "code",
   "execution_count": 77,
   "metadata": {
    "collapsed": false
   },
   "outputs": [
    {
     "data": {
      "text/plain": [
       "Pipeline(steps=[('bag_of_words', CountVectorizer(analyzer='word', binary=False, decode_error='strict',\n",
       "        dtype=<class 'numpy.int64'>, encoding='utf-8', input='content',\n",
       "        lowercase=True, max_df=1.0, max_features=None, min_df=1,\n",
       "        ngram_range=(1, 1), preprocessor=None, stop_words=None,\n",
       "        strip_accents=None, token_pattern='(?u)\\\\b\\\\w\\\\w+\\\\b',\n",
       "        tokenizer=None, vocabulary=None)), ('nb', MultinomialNB(alpha=1.0, class_prior=None, fit_prior=True))])"
      ]
     },
     "execution_count": 77,
     "metadata": {},
     "output_type": "execute_result"
    }
   ],
   "source": [
    "new_pipe = Pipeline([(\"bag_of_words\", CountVectorizer()),\n",
    "                   (\"nb\", MultinomialNB())])\n",
    "new_pipe"
   ]
  },
  {
   "cell_type": "code",
   "execution_count": 78,
   "metadata": {
    "collapsed": false
   },
   "outputs": [
    {
     "data": {
      "text/plain": [
       "Pipeline(steps=[('bag_of_words', CountVectorizer(analyzer='word', binary=False, decode_error='strict',\n",
       "        dtype=<class 'numpy.int64'>, encoding='utf-8', input='content',\n",
       "        lowercase=True, max_df=1.0, max_features=None, min_df=1,\n",
       "        ngram_range=(1, 1), preprocessor=None, stop_words=None,\n",
       "        strip_accents=None, token_pattern='(?u)\\\\b\\\\w\\\\w+\\\\b',\n",
       "        tokenizer=None, vocabulary=None)), ('nb', MultinomialNB(alpha=1.0, class_prior=None, fit_prior=True))])"
      ]
     },
     "execution_count": 78,
     "metadata": {},
     "output_type": "execute_result"
    }
   ],
   "source": [
    "new_pipe.fit(new_X_train, new_y_train)"
   ]
  },
  {
   "cell_type": "code",
   "execution_count": 79,
   "metadata": {
    "collapsed": false
   },
   "outputs": [
    {
     "data": {
      "text/plain": [
       "0.90519877675840976"
      ]
     },
     "execution_count": 79,
     "metadata": {},
     "output_type": "execute_result"
    }
   ],
   "source": [
    "new_pipe.score(new_X_train, new_y_train)"
   ]
  },
  {
   "cell_type": "code",
   "execution_count": 80,
   "metadata": {
    "collapsed": false
   },
   "outputs": [
    {
     "data": {
      "text/plain": [
       "0.672782874617737"
      ]
     },
     "execution_count": 80,
     "metadata": {},
     "output_type": "execute_result"
    }
   ],
   "source": [
    "new_pipe.score(new_X_test, new_y_test)"
   ]
  },
  {
   "cell_type": "markdown",
   "metadata": {},
   "source": [
    "#This is a great score for just using count vectorizer.  We are almost at the .7 threshold.\n",
    "Time to add the filtering function to our scrape() function so we can drop languages for which we don't have enough data."
   ]
  },
  {
   "cell_type": "code",
   "execution_count": null,
   "metadata": {
    "collapsed": true
   },
   "outputs": [],
   "source": []
  }
 ],
 "metadata": {
  "kernelspec": {
   "display_name": "Python 3",
   "language": "python",
   "name": "python3"
  },
  "language_info": {
   "codemirror_mode": {
    "name": "ipython",
    "version": 3
   },
   "file_extension": ".py",
   "mimetype": "text/x-python",
   "name": "python",
   "nbconvert_exporter": "python",
   "pygments_lexer": "ipython3",
   "version": "3.4.3"
  }
 },
 "nbformat": 4,
 "nbformat_minor": 0
}

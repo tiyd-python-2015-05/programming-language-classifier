{
 "cells": [
  {
   "cell_type": "code",
   "execution_count": 2,
   "metadata": {
    "collapsed": true
   },
   "outputs": [],
   "source": [
    "import csv\n",
    "import re\n",
    "import numpy as np\n",
    "import random\n",
    "\n",
    "from collections import Counter\n",
    "\n",
    "from sklearn.pipeline import make_pipeline, make_union\n",
    "from sklearn.base import TransformerMixin\n",
    "from sklearn.tree import DecisionTreeClassifier\n",
    "from sklearn.feature_extraction.text import CountVectorizer\n",
    "from sklearn.cross_validation import train_test_split\n",
    "from sklearn.metrics import classification_report, confusion_matrix"
   ]
  },
  {
   "cell_type": "code",
   "execution_count": null,
   "metadata": {
    "collapsed": true
   },
   "outputs": [],
   "source": [
    "def longest_run_of_capitol_letters_feature(char, text):\n",
    "    \"\"\"Find the longest run of capitol letters and return their length.\"\"\"\n",
    "    if char == '~':\n",
    "        runs = sorted(re.findall(r\"~+\", text), key=len)\n",
    "    elif char == '.':\n",
    "        runs = sorted(re.findall(r\"\\.+\", text), key=len)\n",
    "    elif char == '|':\n",
    "        runs = sorted(re.findall(r\"\\|+\", text), key=len)\n",
    "    elif char == ':':\n",
    "        runs = sorted(re.findall(r\"\\:+\", text), key=len)\n",
    "    elif char == ';':\n",
    "        runs = sorted(re.findall(r\";+\", text), key=len)\n",
    "    elif char == '$':\n",
    "        runs = sorted(re.findall(r\"\\$+\", text), key=len)\n",
    "    elif char == '(':\n",
    "        runs = sorted(re.findall(r\"\\(+\", text), key=len)\n",
    "    elif char == ')':\n",
    "        runs = sorted(re.findall(r\"\\)+\", text), key=len)\n",
    "    elif char == '-':\n",
    "        runs = sorted(re.findall(r\"\\-+\", text), key=len)\n",
    "    if runs:\n",
    "        return len(runs[-1])\n",
    "    else:\n",
    "        return 0\n",
    "\n",
    "def longest_run_of_character_feature(text):\n",
    "    \"\"\"Find the longest run of characters and return their length.\"\"\"\n",
    "    runs = sorted(re.findall(r\"[A-Z]+\", text), key=len)\n",
    "    if runs:\n",
    "        return len(runs[-1])\n",
    "    else:\n",
    "        return 0   \n",
    "    \n",
    "def percent_character_feature(char, text):\n",
    "    \"\"\"Return percentage of text that is a particular char compared to total text length.\"\"\"\n",
    "    def feature_fn(text):\n",
    "        periods = text.count(char)\n",
    "        return periods / len(text)\n",
    "    return feature_fn\n",
    "\n",
    "class FunctionFeaturizer(TransformerMixin):\n",
    "    def __init__(self, *featurizers):\n",
    "        self.featurizers = featurizers\n",
    "        \n",
    "    def fit(self, X, y=None):\n",
    "        \"\"\"All SciKit-Learn compatible transformers and classifiers have the\n",
    "        same interface. `fit` always returns the same object.\"\"\"\n",
    "        return self\n",
    "        \n",
    "    def transform(self, X):\n",
    "        \"\"\"Given a list of original data, return a list of feature vectors.\"\"\"\n",
    "        fvs = []\n",
    "        for datum in X:\n",
    "            fv = [f(datum) for f in self.featurizers]\n",
    "            fvs.append(fv)\n",
    "        return np.array(fvs)"
   ]
  }
 ],
 "metadata": {
  "kernelspec": {
   "display_name": "Python 3",
   "language": "python",
   "name": "python3"
  },
  "language_info": {
   "codemirror_mode": {
    "name": "ipython",
    "version": 3
   },
   "file_extension": ".py",
   "mimetype": "text/x-python",
   "name": "python",
   "nbconvert_exporter": "python",
   "pygments_lexer": "ipython3",
   "version": "3.4.3"
  }
 },
 "nbformat": 4,
 "nbformat_minor": 0
}
